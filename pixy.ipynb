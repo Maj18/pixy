{
 "cells": [
  {
   "cell_type": "code",
   "execution_count": 1,
   "metadata": {},
   "outputs": [],
   "source": [
    "import allel\n",
    "import zarr\n",
    "import numcodecs\n",
    "import numpy as np\n",
    "import sys\n",
    "import matplotlib.pyplot as plt\n",
    "from itertools import combinations\n",
    "from collections import Counter"
   ]
  },
  {
   "cell_type": "code",
   "execution_count": null,
   "metadata": {},
   "outputs": [],
   "source": [
    "# parse the command line arguements\n",
    "# - validate the arguements \n",
    "# - throw errors if requiremabents are missing\n",
    "# - validate the filter strings\n",
    "\n",
    "pi_dxy --pi --dxy\\ # must include at least 1 of pi and/dxy \n",
    "--vcf allsites.vcf.gz \\ # required\n",
    "--zarr path/to/zarr \\  # default to the vcf folder\n",
    "--populations popfile.txt \\ # only required for dxy\n",
    "--window_size 10000 \\ # not required, defaults to whole genome\n",
    "--snp_filter_expression \"DP>=10, GQ>=20, FS>2\" \\ # required\n",
    "--monomorphic_filter_expression \"DP>=10, RGQ>=20\" \\ # required\n",
    "--outfile pi_dxy_out.txt # default to vcf path + suffix\n",
    "\n",
    "# https://stackoverflow.com/questions/40001892/reading-named-command-arguments\n",
    "# example:\n",
    "import argparse, sys\n",
    "\n",
    "parser=argparse.ArgumentParser()\n",
    "\n",
    "parser.add_argument('--bar', help='Do the bar option')\n",
    "parser.add_argument('--foo', help='Foo the program')\n",
    "\n",
    "args=parser.parse_args()\n",
    "\n",
    "print args\n",
    "print sys\n"
   ]
  },
  {
   "cell_type": "code",
   "execution_count": null,
   "metadata": {},
   "outputs": [],
   "source": [
    "# validating inputs\n",
    "\n",
    "# STEP 1 checking the vcf:\n",
    "# - check if sci-kit allele can do this\n",
    "# - check for contig info\n",
    "# - alternatively use position vector\n",
    "# - check for invariant sites and throw and error if they dont exist\n",
    "\n",
    "# STEP 2 validate the population file\n",
    "# - format is IND POP\n",
    "# - throw an error if individuals are missing from VCF\n",
    "\n"
   ]
  },
  {
   "cell_type": "code",
   "execution_count": null,
   "metadata": {},
   "outputs": [],
   "source": [
    "# filtering the data \n",
    "\n",
    "# - extracting the filtration values from the filter strings\n",
    "# - applying the filter to the whole dataset\n",
    "# - also filter out biallelic snps\n",
    "# - check to see there is any data left\n",
    "# - print warning for low data* think more about this\n"
   ]
  },
  {
   "cell_type": "code",
   "execution_count": null,
   "metadata": {},
   "outputs": [],
   "source": [
    "# calculate pi\n",
    "\n",
    "# for loop wrapper for pi calcuation\n",
    "# output looks like:\n",
    "\n",
    "# chromosome pos1 pos2 no_differences no_comparisons no_missing pi_1 pi_2 dxy\n",
    "# chromosome pos1 pos2 no_differences no_comparisons no_missing pi\n",
    "# chromosome pos1 pos2 no_differences no_comparisons no_missing dxy\n",
    "\n",
    "# check if pi output makes sense\n",
    "# - are any pis/dxys all zero?\n",
    "# - check if # missing == (pos2 - pos1)\n",
    "# - check if everything was either compared or missing\n",
    "# - write out summary of program parameters file* think about how this should work\n"
   ]
  },
  {
   "cell_type": "code",
   "execution_count": null,
   "metadata": {},
   "outputs": [],
   "source": []
  }
 ],
 "metadata": {
  "kernelspec": {
   "display_name": "Python 3",
   "language": "python",
   "name": "python3"
  },
  "language_info": {
   "codemirror_mode": {
    "name": "ipython",
    "version": 3
   },
   "file_extension": ".py",
   "mimetype": "text/x-python",
   "name": "python",
   "nbconvert_exporter": "python",
   "pygments_lexer": "ipython3",
   "version": "3.6.7"
  }
 },
 "nbformat": 4,
 "nbformat_minor": 2
}
