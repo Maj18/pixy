{
 "cells": [
  {
   "cell_type": "code",
   "execution_count": 1,
   "metadata": {},
   "outputs": [],
   "source": [
    "#! conda install -y -c conda-forge msprime\n",
    "import allel\n",
    "import msprime\n",
    "import zarr\n",
    "import numcodecs\n",
    "import numpy as np\n",
    "import sys\n",
    "import math\n",
    "import matplotlib.pyplot as plt\n",
    "import statistics as stats"
   ]
  },
  {
   "cell_type": "code",
   "execution_count": 7,
   "metadata": {},
   "outputs": [],
   "source": [
    "# define parameters + simulate some data\n",
    "\n",
    "Ne = 1e6\n",
    "Mu = 1e-8\n",
    "sample_size = 50\n",
    "n_sites = 10000\n",
    "iterations = list(range(1, 500, 1))\n",
    "\n",
    "# simulate the specified number of iterations/sites/samples\n",
    "\n",
    "# collected all the pi samples\n",
    "pi_list = list()\n",
    "\n",
    "for iteration in iterations:\n",
    "    tree_seq = msprime.simulate(sample_size=sample_size, Ne=Ne, \n",
    "                                length=n_sites, mutation_rate=Mu, random_seed = iteration)\n",
    "    pi_obs = (tree_seq.pairwise_diversity()/n_sites)\n",
    "    pi_list.append(pi_obs)\n",
    "    \n",
    "\n"
   ]
  },
  {
   "cell_type": "code",
   "execution_count": 8,
   "metadata": {},
   "outputs": [
    {
     "data": {
      "image/png": "[encoded data removed]",
      "text/plain": [
       "<Figure size 800x640 with 1 Axes>"
      ]
     },
     "metadata": {},
     "output_type": "display_data"
    }
   ],
   "source": [
    "# plot the observed and expected (4Neu) values of pi\n",
    "\n",
    "fig=plt.figure(figsize=(10, 8), dpi= 80, facecolor='w', edgecolor='k')\n",
    "plt.hist(x = pi_list)\n",
    "\n",
    "mean_pi = stats.mean(pi_list)\n",
    "\n",
    "plt.axvline(mean_pi, color='b', linestyle='dashed', linewidth=2, alpha=0.5)\n",
    "plt.axvline(4*Ne*Mu, color='r', linestyle='dashed', linewidth=2, alpha=0.5)\n",
    "\n",
    "# annotate the observed and expected values\n",
    "_, max_ = plt.ylim()\n",
    "plt.text(mean_pi, \n",
    "         max_ - max_/10, \n",
    "         'Observed mean Pi: {:.6f}'.format(mean_pi), color = 'b')\n",
    "\n",
    "_, max_ = plt.ylim()\n",
    "plt.text(4*Ne*Mu, \n",
    "         (max_ - max_/10) - max_/10 , \n",
    "         'Expected mean Pi: {:.6f}'.format(4*Ne*Mu), color = 'r')\n",
    "\n",
    "plt.show()"
   ]
  },
  {
   "cell_type": "code",
   "execution_count": 29,
   "metadata": {},
   "outputs": [
    {
     "name": "stdout",
     "output_type": "stream",
     "text": [
      "0.04\n",
      "0.048303673469387756\n"
     ]
    }
   ],
   "source": [
    "tree_seq = msprime.simulate(sample_size=sample_size, Ne=Ne, \n",
    "                                length=n_sites, mutation_rate=Mu, random_seed = iteration)\n",
    "pi_obs = (tree_seq.pairwise_diversity()/n_sites)\n",
    "\n",
    "print(4*Ne*Mu);\n",
    "print(pi_obs);\n",
    "\n",
    "\n",
    "with open(\"data/msprime/test_vcf_var_only.vcf\", \"w\") as vcf_file:\n",
    "    tree_seq.write_vcf(vcf_file, ploidy=2)\n",
    "    \n"
   ]
  },
  {
   "cell_type": "code",
   "execution_count": 59,
   "metadata": {},
   "outputs": [
    {
     "name": "stdout",
     "output_type": "stream",
     "text": [
      "Before\n",
      "After\n"
     ]
    }
   ],
   "source": [
    "print(\"Before\")\n",
    "#print(tree_seq.tables.sites)\n",
    "\n",
    "tree_seq = floor_sites(tree_seq)\n",
    "tables = tree_seq.dump_tables()\n",
    "new_sites = set(range(n_sites)) - set(tables.sites.position)\n",
    "for pos in new_sites:\n",
    "    tables.sites.add_row(position=pos, ancestral_state=\"0\")\n",
    "tables.sort()\n",
    "\n",
    "print(\"After\")\n",
    "#print(tables.sites)\n",
    "\n",
    "tree_seq = tables.tree_sequence()\n",
    "\n",
    "with open(\"data/msprime/test_vcf_var_invar.vcf\", \"w\") as vcf_file:\n",
    "    tree_seq.write_vcf(vcf_file, ploidy=2)\n",
    "    \n"
   ]
  },
  {
   "cell_type": "code",
   "execution_count": 30,
   "metadata": {},
   "outputs": [
    {
     "name": "stdout",
     "output_type": "stream",
     "text": [
      "[vcf_to_zarr] 10000 rows in 0.03s; chunk in 0.03s (312541 rows/s)\n",
      "[vcf_to_zarr] all done (134318 rows/s)\n"
     ]
    }
   ],
   "source": [
    "vcf_path = \"data/msprime/ms_prime_test.vcf\"\n",
    "zarr_path = \"data/msprime/ms_prime_test.zarr\"\n",
    "\n",
    "allel.vcf_to_zarr(vcf_path, zarr_path, group='1', fields='*', log=sys.stdout, overwrite=True)\n"
   ]
  },
  {
   "cell_type": "code",
   "execution_count": 31,
   "metadata": {},
   "outputs": [
    {
     "name": "stdout",
     "output_type": "stream",
     "text": [
      "[1, 2, 3, 4, 5, ..., 9996, 9997, 9998, 9999, 10000]\n"
     ]
    },
    {
     "data": {
      "text/plain": [
       "0.04829884358502925"
      ]
     },
     "execution_count": 31,
     "metadata": {},
     "output_type": "execute_result"
    }
   ],
   "source": [
    "# initialie the zarr array\n",
    "callset = zarr.open_group(zarr_path, mode='r')\n",
    "callset.tree(expand=True)\n",
    "\n",
    "# positions to compute pi\n",
    "pos = allel.SortedIndex(callset['1/variants/POS'])\n",
    "pos\n",
    "print(pos)\n",
    "\n",
    "gt_zarr = callset['1/calldata/GT']\n",
    "gt_zarr.info\n",
    "\n",
    "\n",
    "loc_region = pos.locate_range(0, n_sites)\n",
    "loc_region\n",
    "\n",
    "gt= allel.GenotypeArray(gt_zarr[loc_region])\n",
    "ac = gt.count_alleles()\n",
    "type(ac)\n",
    "\n",
    "allel.sequence_diversity(pos, ac, start=0, stop=n_sites)\n"
   ]
  },
  {
   "cell_type": "code",
   "execution_count": 32,
   "metadata": {},
   "outputs": [
    {
     "data": {
      "text/html": [
       "<div class=\"allel allel-DisplayAs2D\"><span>&lt;GenotypeArray shape=(10000, 25, 2) dtype=int8&gt;</span><table><thead><tr><th></th><th style=\"text-align: center\">0</th><th style=\"text-align: center\">1</th><th style=\"text-align: center\">2</th><th style=\"text-align: center\">3</th><th style=\"text-align: center\">4</th><th style=\"text-align: center\">...</th><th style=\"text-align: center\">20</th><th style=\"text-align: center\">21</th><th style=\"text-align: center\">22</th><th style=\"text-align: center\">23</th><th style=\"text-align: center\">24</th></tr></thead><tbody><tr><th style=\"text-align: center; background-color: white; border-right: 1px solid black; \">0</th><td style=\"text-align: center\">0/0</td><td style=\"text-align: center\">0/0</td><td style=\"text-align: center\">0/0</td><td style=\"text-align: center\">0/0</td><td style=\"text-align: center\">0/0</td><td style=\"text-align: center\">...</td><td style=\"text-align: center\">0/0</td><td style=\"text-align: center\">0/0</td><td style=\"text-align: center\">0/0</td><td style=\"text-align: center\">0/0</td><td style=\"text-align: center\">0/0</td></tr><tr><th style=\"text-align: center; background-color: white; border-right: 1px solid black; \">1</th><td style=\"text-align: center\">0/0</td><td style=\"text-align: center\">0/0</td><td style=\"text-align: center\">0/0</td><td style=\"text-align: center\">0/0</td><td style=\"text-align: center\">0/0</td><td style=\"text-align: center\">...</td><td style=\"text-align: center\">0/0</td><td style=\"text-align: center\">0/0</td><td style=\"text-align: center\">0/0</td><td style=\"text-align: center\">0/0</td><td style=\"text-align: center\">0/0</td></tr><tr><th style=\"text-align: center; background-color: white; border-right: 1px solid black; \">2</th><td style=\"text-align: center\">0/0</td><td style=\"text-align: center\">0/0</td><td style=\"text-align: center\">0/0</td><td style=\"text-align: center\">0/0</td><td style=\"text-align: center\">0/0</td><td style=\"text-align: center\">...</td><td style=\"text-align: center\">0/0</td><td style=\"text-align: center\">0/0</td><td style=\"text-align: center\">0/0</td><td style=\"text-align: center\">0/0</td><td style=\"text-align: center\">0/0</td></tr><tr><th style=\"text-align: center; background-color: white; border-right: 1px solid black; \">...</th><td style=\"text-align: center\" colspan=\"12\">...</td></tr><tr><th style=\"text-align: center; background-color: white; border-right: 1px solid black; \">9997</th><td style=\"text-align: center\">0/1</td><td style=\"text-align: center\">0/0</td><td style=\"text-align: center\">0/0</td><td style=\"text-align: center\">0/0</td><td style=\"text-align: center\">0/0</td><td style=\"text-align: center\">...</td><td style=\"text-align: center\">0/0</td><td style=\"text-align: center\">0/0</td><td style=\"text-align: center\">0/0</td><td style=\"text-align: center\">0/0</td><td style=\"text-align: center\">0/0</td></tr><tr><th style=\"text-align: center; background-color: white; border-right: 1px solid black; \">9998</th><td style=\"text-align: center\">0/0</td><td style=\"text-align: center\">0/0</td><td style=\"text-align: center\">0/0</td><td style=\"text-align: center\">0/0</td><td style=\"text-align: center\">0/0</td><td style=\"text-align: center\">...</td><td style=\"text-align: center\">0/0</td><td style=\"text-align: center\">0/0</td><td style=\"text-align: center\">0/0</td><td style=\"text-align: center\">0/0</td><td style=\"text-align: center\">0/0</td></tr><tr><th style=\"text-align: center; background-color: white; border-right: 1px solid black; \">9999</th><td style=\"text-align: center\">0/0</td><td style=\"text-align: center\">0/0</td><td style=\"text-align: center\">0/0</td><td style=\"text-align: center\">0/0</td><td style=\"text-align: center\">0/0</td><td style=\"text-align: center\">...</td><td style=\"text-align: center\">0/0</td><td style=\"text-align: center\">0/0</td><td style=\"text-align: center\">0/0</td><td style=\"text-align: center\">0/0</td><td style=\"text-align: center\">0/0</td></tr></tbody></table></div>"
      ],
      "text/plain": [
       "<GenotypeArray shape=(10000, 25, 2) dtype=int8>\n",
       "0/0 0/0 0/0 0/0 0/0 ... 0/0 0/0 0/0 0/0 0/0\n",
       "0/0 0/0 0/0 0/0 0/0 ... 0/0 0/0 0/0 0/0 0/0\n",
       "0/0 0/0 0/0 0/0 0/0 ... 0/0 0/0 0/0 0/0 0/0\n",
       "...\n",
       "0/1 0/0 0/0 0/0 0/0 ... 0/0 0/0 0/0 0/0 0/0\n",
       "0/0 0/0 0/0 0/0 0/0 ... 0/0 0/0 0/0 0/0 0/0\n",
       "0/0 0/0 0/0 0/0 0/0 ... 0/0 0/0 0/0 0/0 0/0"
      ]
     },
     "execution_count": 32,
     "metadata": {},
     "output_type": "execute_result"
    }
   ],
   "source": [
    "gt"
   ]
  },
  {
   "cell_type": "code",
   "execution_count": 51,
   "metadata": {},
   "outputs": [
    {
     "name": "stdout",
     "output_type": "stream",
     "text": [
      "[1, 2, 3, 4, 5, ..., 996, 997, 998, 999, 1000]\n"
     ]
    },
    {
     "data": {
      "text/plain": [
       "0.01979897653367041"
      ]
     },
     "execution_count": 51,
     "metadata": {},
     "output_type": "execute_result"
    }
   ],
   "source": [
    "zarr_path = \"data/msprime/test_vcf_var_invar.zarr\"\n",
    "\n",
    "# initialie the zarr array\n",
    "callset = zarr.open_group(zarr_path, mode='r')\n",
    "callset.tree(expand=True)\n",
    "\n",
    "# positions to compute pi\n",
    "pos = allel.SortedIndex(callset['1/variants/POS'])\n",
    "pos\n",
    "print(pos)\n",
    "\n",
    "gt_zarr = callset['1/calldata/GT']\n",
    "gt_zarr.info\n",
    "\n",
    "loc_region = pos.locate_range(0, n_sites)\n",
    "loc_region\n",
    "\n",
    "gt= allel.GenotypeArray(gt_zarr[loc_region])\n",
    "ac = gt.count_alleles()\n",
    "type(ac)\n",
    "\n",
    "allel.sequence_diversity(pos, ac, start=0, stop=n_sites)"
   ]
  },
  {
   "cell_type": "code",
   "execution_count": 57,
   "metadata": {},
   "outputs": [
    {
     "name": "stdout",
     "output_type": "stream",
     "text": [
      "[vcf_to_zarr] 1000 rows in 0.01s; chunk in 0.01s (81434 rows/s)\n",
      "[vcf_to_zarr] all done (18850 rows/s)\n",
      "[1, 2, 3, 4, 5, ..., 996, 997, 998, 999, 1000]\n"
     ]
    },
    {
     "data": {
      "text/plain": [
       "0.15395069576887757"
      ]
     },
     "execution_count": 57,
     "metadata": {},
     "output_type": "execute_result"
    }
   ],
   "source": [
    "vcf_path = \"data/msprime/vcf_out.vcf\"\n",
    "zarr_path = \"data/msprime/vcf_out.zarr\"\n",
    "\n",
    "allel.vcf_to_zarr(vcf_path, zarr_path, group='1', fields='*', log=sys.stdout, overwrite=True)\n",
    "\n",
    "zarr_path = \"data/msprime/vcf_out.zarr\"\n",
    "\n",
    "# initialie the zarr array\n",
    "callset = zarr.open_group(zarr_path, mode='r')\n",
    "callset.tree(expand=True)\n",
    "\n",
    "# positions to compute pi\n",
    "pos = allel.SortedIndex(callset['1/variants/POS'])\n",
    "pos\n",
    "print(pos)\n",
    "\n",
    "gt_zarr = callset['1/calldata/GT']\n",
    "gt_zarr.info\n",
    "\n",
    "loc_region = pos.locate_range(0, n_sites)\n",
    "loc_region\n",
    "\n",
    "gt= allel.GenotypeArray(gt_zarr[loc_region])\n",
    "ac = gt.count_alleles()\n",
    "type(ac)\n",
    "\n",
    "allel.sequence_diversity(pos, ac, start=0, stop=n_sites)"
   ]
  },
  {
   "cell_type": "code",
   "execution_count": null,
   "metadata": {},
   "outputs": [],
   "source": []
  }
 ],
 "metadata": {
  "kernelspec": {
   "display_name": "Python 3",
   "language": "python",
   "name": "python3"
  },
  "language_info": {
   "codemirror_mode": {
    "name": "ipython",
    "version": 3
   },
   "file_extension": ".py",
   "mimetype": "text/x-python",
   "name": "python",
   "nbconvert_exporter": "python",
   "pygments_lexer": "ipython3",
   "version": "3.7.1"
  }
 },
 "nbformat": 4,
 "nbformat_minor": 2
}
