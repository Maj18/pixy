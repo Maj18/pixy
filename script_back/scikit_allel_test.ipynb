{
 "cells": [
  {
   "cell_type": "markdown",
   "metadata": {},
   "source": [
    "# Exploring scikit-allel\n",
    "*May 2019*\n",
    "\n",
    "Question: Will this suit our needs for our pi/dxy project?\n",
    "\n",
    "**scikit-allel manual https://scikit-allel.readthedocs.io/en/stable/**\n",
    "\n",
    "Setup for the notebook (see shell commands below):\n",
    "\n",
    "- Making heavy use of Anaconda\n",
    "- I created a new conda environment for scikit-allel (just called 'allel')\n",
    "- I installed scikit-allel\n",
    "- On my Windows machine, I had to also install ipython kernel (`ipykernel`) and add the `allel` conda environment to it as a kernel\n",
    "- You can change the kernel for the notebook by clicking on the kernel name next to the circle at the top right\n"
   ]
  },
  {
   "cell_type": "code",
   "execution_count": 1,
   "metadata": {},
   "outputs": [],
   "source": [
    "# shell commands for setup\n",
    "\n",
    "# conda create --name allel\n",
    "# conda activate allel\n",
    "\n",
    "# conda install -c conda-forge scikit-allel\n",
    "# conda install ipykernel\n",
    "\n",
    "# ipython kernel install --user --name=allel\n",
    "# conda deactivate\n",
    "# conda activate allel\n",
    "# jupyter lab\n"
   ]
  },
  {
   "cell_type": "code",
   "execution_count": 2,
   "metadata": {},
   "outputs": [],
   "source": [
    "import allel\n",
    "import zarr\n",
    "import numcodecs\n",
    "import numpy as np\n",
    "import sys\n",
    "import matplotlib.pyplot as plt"
   ]
  },
  {
   "cell_type": "markdown",
   "metadata": {},
   "source": [
    "### 1. Read in and examine a VCF"
   ]
  },
  {
   "cell_type": "markdown",
   "metadata": {},
   "source": [
    "First, we read in and convert our test VCF to zarr format:"
   ]
  },
  {
   "cell_type": "code",
   "execution_count": 3,
   "metadata": {},
   "outputs": [],
   "source": [
    "chromosome = \"chrX\""
   ]
  },
  {
   "cell_type": "code",
   "execution_count": 4,
   "metadata": {},
   "outputs": [
    {
     "name": "stdout",
     "output_type": "stream",
     "text": [
      "data/vcf/ag1000/chrX_36Ag_allsites.zarr\n"
     ]
    }
   ],
   "source": [
    "vcf_path = 'data/vcf/ag1000/chrX_36Ag_allsites.vcf.gz'\n",
    "zarr_path = 'data/vcf/ag1000/chrX_36Ag_allsites.zarr'\n",
    "\n",
    "print(zarr_path)\n",
    "\n",
    "#allel.vcf_to_zarr(vcf_path, zarr_path, group='chrX', fields='*', log=sys.stdout, overwrite=True)"
   ]
  },
  {
   "cell_type": "code",
   "execution_count": 5,
   "metadata": {},
   "outputs": [
    {
     "data": {
      "text/html": [
       "<link rel=\"stylesheet\" href=\"//cdnjs.cloudflare.com/ajax/libs/jstree/3.3.3/themes/default/style.min.css\"/><div id=\"11dc103b-8ea9-4e90-8995-b887020bf49b\" class=\"zarr-tree\"><ul><li data-jstree='{\"type\": \"Group\"}' class='jstree-open'><span>/</span><ul><li data-jstree='{\"type\": \"Group\"}' class='jstree-open'><span>chrX</span><ul><li data-jstree='{\"type\": \"Group\"}' class='jstree-open'><span>calldata</span><ul><li data-jstree='{\"type\": \"Array\"}' class='jstree-open'><span>AD (23302924, 36, 4) int16</span></li><li data-jstree='{\"type\": \"Array\"}' class='jstree-open'><span>DP (23302924, 36) int16</span></li><li data-jstree='{\"type\": \"Array\"}' class='jstree-open'><span>GQ (23302924, 36) int8</span></li><li data-jstree='{\"type\": \"Array\"}' class='jstree-open'><span>GT (23302924, 36, 2) int8</span></li><li data-jstree='{\"type\": \"Array\"}' class='jstree-open'><span>MIN_DP (23302924, 36) int32</span></li><li data-jstree='{\"type\": \"Array\"}' class='jstree-open'><span>PGT (23302924, 36) object</span></li><li data-jstree='{\"type\": \"Array\"}' class='jstree-open'><span>PID (23302924, 36) object</span></li><li data-jstree='{\"type\": \"Array\"}' class='jstree-open'><span>PL (23302924, 36, 3) int32</span></li><li data-jstree='{\"type\": \"Array\"}' class='jstree-open'><span>RGQ (23302924, 36) int32</span></li><li data-jstree='{\"type\": \"Array\"}' class='jstree-open'><span>SB (23302924, 36, 4) int32</span></li></ul></li><li data-jstree='{\"type\": \"Array\"}' class='jstree-open'><span>samples (36,) object</span></li><li data-jstree='{\"type\": \"Group\"}' class='jstree-open'><span>variants</span><ul><li data-jstree='{\"type\": \"Array\"}' class='jstree-open'><span>AC (23302924, 3) int32</span></li><li data-jstree='{\"type\": \"Array\"}' class='jstree-open'><span>AF (23302924, 3) float32</span></li><li data-jstree='{\"type\": \"Array\"}' class='jstree-open'><span>ALT (23302924, 3) object</span></li><li data-jstree='{\"type\": \"Array\"}' class='jstree-open'><span>AN (23302924,) int32</span></li><li data-jstree='{\"type\": \"Array\"}' class='jstree-open'><span>BaseQRankSum (23302924,) float32</span></li><li data-jstree='{\"type\": \"Array\"}' class='jstree-open'><span>CHROM (23302924,) object</span></li><li data-jstree='{\"type\": \"Array\"}' class='jstree-open'><span>DP (23302924,) int32</span></li><li data-jstree='{\"type\": \"Array\"}' class='jstree-open'><span>DS (23302924,) bool</span></li><li data-jstree='{\"type\": \"Array\"}' class='jstree-open'><span>END (23302924,) int32</span></li><li data-jstree='{\"type\": \"Array\"}' class='jstree-open'><span>ExcessHet (23302924,) float32</span></li><li data-jstree='{\"type\": \"Array\"}' class='jstree-open'><span>FILTER_LowQual (23302924,) bool</span></li><li data-jstree='{\"type\": \"Array\"}' class='jstree-open'><span>FILTER_PASS (23302924,) bool</span></li><li data-jstree='{\"type\": \"Array\"}' class='jstree-open'><span>FS (23302924,) float32</span></li><li data-jstree='{\"type\": \"Array\"}' class='jstree-open'><span>ID (23302924,) object</span></li><li data-jstree='{\"type\": \"Array\"}' class='jstree-open'><span>InbreedingCoeff (23302924,) float32</span></li><li data-jstree='{\"type\": \"Array\"}' class='jstree-open'><span>MLEAC (23302924, 3) int32</span></li><li data-jstree='{\"type\": \"Array\"}' class='jstree-open'><span>MLEAF (23302924, 3) float32</span></li><li data-jstree='{\"type\": \"Array\"}' class='jstree-open'><span>MQ (23302924,) float32</span></li><li data-jstree='{\"type\": \"Array\"}' class='jstree-open'><span>MQRankSum (23302924,) float32</span></li><li data-jstree='{\"type\": \"Array\"}' class='jstree-open'><span>POS (23302924,) int32</span></li><li data-jstree='{\"type\": \"Array\"}' class='jstree-open'><span>QD (23302924,) float32</span></li><li data-jstree='{\"type\": \"Array\"}' class='jstree-open'><span>QUAL (23302924,) float32</span></li><li data-jstree='{\"type\": \"Array\"}' class='jstree-open'><span>RAW_MQ (23302924,) float32</span></li><li data-jstree='{\"type\": \"Array\"}' class='jstree-open'><span>REF (23302924,) object</span></li><li data-jstree='{\"type\": \"Array\"}' class='jstree-open'><span>ReadPosRankSum (23302924,) float32</span></li><li data-jstree='{\"type\": \"Array\"}' class='jstree-open'><span>SOR (23302924,) float32</span></li><li data-jstree='{\"type\": \"Array\"}' class='jstree-open'><span>altlen (23302924, 3) int32</span></li><li data-jstree='{\"type\": \"Array\"}' class='jstree-open'><span>is_snp (23302924,) bool</span></li><li data-jstree='{\"type\": \"Array\"}' class='jstree-open'><span>numalt (23302924,) int32</span></li></ul></li></ul></li></ul></li></ul></div>\n",
       "<script>\n",
       "    if (!require.defined('jquery')) {\n",
       "        require.config({\n",
       "            paths: {\n",
       "                jquery: '//cdnjs.cloudflare.com/ajax/libs/jquery/1.12.1/jquery.min'\n",
       "            },\n",
       "        });\n",
       "    }\n",
       "    if (!require.defined('jstree')) {\n",
       "        require.config({\n",
       "            paths: {\n",
       "                jstree: '//cdnjs.cloudflare.com/ajax/libs/jstree/3.3.3/jstree.min'\n",
       "            },\n",
       "        });\n",
       "    }\n",
       "    require(['jstree'], function() {\n",
       "        $('#11dc103b-8ea9-4e90-8995-b887020bf49b').jstree({\n",
       "            types: {\n",
       "                Group: {\n",
       "                    icon: \"fa fa-folder\"\n",
       "                },\n",
       "                Array: {\n",
       "                    icon: \"fa fa-table\"\n",
       "                }\n",
       "            },\n",
       "            plugins: [\"types\"]\n",
       "        });\n",
       "    });\n",
       "</script>\n"
      ],
      "text/plain": [
       "/\n",
       " └── chrX\n",
       "     ├── calldata\n",
       "     │   ├── AD (23302924, 36, 4) int16\n",
       "     │   ├── DP (23302924, 36) int16\n",
       "     │   ├── GQ (23302924, 36) int8\n",
       "     │   ├── GT (23302924, 36, 2) int8\n",
       "     │   ├── MIN_DP (23302924, 36) int32\n",
       "     │   ├── PGT (23302924, 36) object\n",
       "     │   ├── PID (23302924, 36) object\n",
       "     │   ├── PL (23302924, 36, 3) int32\n",
       "     │   ├── RGQ (23302924, 36) int32\n",
       "     │   └── SB (23302924, 36, 4) int32\n",
       "     ├── samples (36,) object\n",
       "     └── variants\n",
       "         ├── AC (23302924, 3) int32\n",
       "         ├── AF (23302924, 3) float32\n",
       "         ├── ALT (23302924, 3) object\n",
       "         ├── AN (23302924,) int32\n",
       "         ├── BaseQRankSum (23302924,) float32\n",
       "         ├── CHROM (23302924,) object\n",
       "         ├── DP (23302924,) int32\n",
       "         ├── DS (23302924,) bool\n",
       "         ├── END (23302924,) int32\n",
       "         ├── ExcessHet (23302924,) float32\n",
       "         ├── FILTER_LowQual (23302924,) bool\n",
       "         ├── FILTER_PASS (23302924,) bool\n",
       "         ├── FS (23302924,) float32\n",
       "         ├── ID (23302924,) object\n",
       "         ├── InbreedingCoeff (23302924,) float32\n",
       "         ├── MLEAC (23302924, 3) int32\n",
       "         ├── MLEAF (23302924, 3) float32\n",
       "         ├── MQ (23302924,) float32\n",
       "         ├── MQRankSum (23302924,) float32\n",
       "         ├── POS (23302924,) int32\n",
       "         ├── QD (23302924,) float32\n",
       "         ├── QUAL (23302924,) float32\n",
       "         ├── RAW_MQ (23302924,) float32\n",
       "         ├── REF (23302924,) object\n",
       "         ├── ReadPosRankSum (23302924,) float32\n",
       "         ├── SOR (23302924,) float32\n",
       "         ├── altlen (23302924, 3) int32\n",
       "         ├── is_snp (23302924,) bool\n",
       "         └── numalt (23302924,) int32"
      ]
     },
     "execution_count": 5,
     "metadata": {},
     "output_type": "execute_result"
    }
   ],
   "source": [
    "# inspect the zarr data\n",
    "\n",
    "callset = zarr.open_group(zarr_path, mode='r')\n",
    "callset.tree(expand=True)"
   ]
  },
  {
   "cell_type": "code",
   "execution_count": 8,
   "metadata": {},
   "outputs": [
    {
     "data": {
      "text/html": [
       "<table class=\"zarr-info\"><tbody><tr><th style=\"text-align: left\">Name</th><td style=\"text-align: left\">/chrX/calldata/GT</td></tr><tr><th style=\"text-align: left\">Type</th><td style=\"text-align: left\">zarr.core.Array</td></tr><tr><th style=\"text-align: left\">Data type</th><td style=\"text-align: left\">int8</td></tr><tr><th style=\"text-align: left\">Shape</th><td style=\"text-align: left\">(23302924, 36, 2)</td></tr><tr><th style=\"text-align: left\">Chunk shape</th><td style=\"text-align: left\">(65536, 36, 2)</td></tr><tr><th style=\"text-align: left\">Order</th><td style=\"text-align: left\">C</td></tr><tr><th style=\"text-align: left\">Read-only</th><td style=\"text-align: left\">True</td></tr><tr><th style=\"text-align: left\">Compressor</th><td style=\"text-align: left\">Blosc(cname='lz4', clevel=5, shuffle=SHUFFLE, blocksize=0)</td></tr><tr><th style=\"text-align: left\">Store type</th><td style=\"text-align: left\">zarr.storage.DirectoryStore</td></tr><tr><th style=\"text-align: left\">No. bytes</th><td style=\"text-align: left\">1677810528 (1.6G)</td></tr><tr><th style=\"text-align: left\">No. bytes stored</th><td style=\"text-align: left\">89336639 (85.2M)</td></tr><tr><th style=\"text-align: left\">Storage ratio</th><td style=\"text-align: left\">18.8</td></tr><tr><th style=\"text-align: left\">Chunks initialized</th><td style=\"text-align: left\">356/356</td></tr></tbody></table>"
      ],
      "text/plain": [
       "Name               : /chrX/calldata/GT\n",
       "Type               : zarr.core.Array\n",
       "Data type          : int8\n",
       "Shape              : (23302924, 36, 2)\n",
       "Chunk shape        : (65536, 36, 2)\n",
       "Order              : C\n",
       "Read-only          : True\n",
       "Compressor         : Blosc(cname='lz4', clevel=5, shuffle=SHUFFLE, blocksize=0)\n",
       "Store type         : zarr.storage.DirectoryStore\n",
       "No. bytes          : 1677810528 (1.6G)\n",
       "No. bytes stored   : 89336639 (85.2M)\n",
       "Storage ratio      : 18.8\n",
       "Chunks initialized : 356/356"
      ]
     },
     "execution_count": 8,
     "metadata": {},
     "output_type": "execute_result"
    }
   ],
   "source": [
    "# diagnostics on the zarr genotype array.\n",
    "\n",
    "\n",
    "gt_zarr = callset[chromosome + '/calldata/GT']\n",
    "gt_zarr.info"
   ]
  },
  {
   "cell_type": "code",
   "execution_count": 30,
   "metadata": {},
   "outputs": [
    {
     "data": {
      "text/html": [
       "<div class=\"allel allel-DisplayAs1D\"><span>&lt;SortedIndex shape=(23302924,) dtype=int32&gt;</span><table><thead><tr><th style=\"text-align: center\">0</th><th style=\"text-align: center\">1</th><th style=\"text-align: center\">2</th><th style=\"text-align: center\">3</th><th style=\"text-align: center\">4</th><th style=\"text-align: center\">...</th><th style=\"text-align: center\">23302919</th><th style=\"text-align: center\">23302920</th><th style=\"text-align: center\">23302921</th><th style=\"text-align: center\">23302922</th><th style=\"text-align: center\">23302923</th></tr></thead><tbody><tr><td style=\"text-align: center\">1</td><td style=\"text-align: center\">2</td><td style=\"text-align: center\">3</td><td style=\"text-align: center\">4</td><td style=\"text-align: center\">5</td><td style=\"text-align: center\">...</td><td style=\"text-align: center\">24393104</td><td style=\"text-align: center\">24393105</td><td style=\"text-align: center\">24393106</td><td style=\"text-align: center\">24393107</td><td style=\"text-align: center\">24393108</td></tr></tbody></table></div>"
      ],
      "text/plain": [
       "<SortedIndex shape=(23302924,) dtype=int32>\n",
       "[1, 2, 3, 4, 5, ..., 24393104, 24393105, 24393106, 24393107, 24393108]"
      ]
     },
     "execution_count": 30,
     "metadata": {},
     "output_type": "execute_result"
    }
   ],
   "source": [
    "# get genotypes from specific positions\n",
    "# first, list all the positions\n",
    "pos = allel.SortedIndex(callset[chromosome + '/variants/POS'])\n",
    "print(pos)\n",
    "\n",
    "# use the 'pos' object to create a slice for a specific region\n",
    "# e.g. 1:19999 in this case\n",
    "loc_region = pos.locate_range(0, 20000)\n",
    "print(loc_region)"
   ]
  },
  {
   "cell_type": "code",
   "execution_count": 31,
   "metadata": {},
   "outputs": [
    {
     "data": {
      "text/plain": [
       "slice(0, 19214, None)"
      ]
     },
     "execution_count": 31,
     "metadata": {},
     "output_type": "execute_result"
    }
   ],
   "source": []
  },
  {
   "cell_type": "code",
   "execution_count": 33,
   "metadata": {},
   "outputs": [
    {
     "data": {
      "text/html": [
       "<div class=\"allel allel-DisplayAs2D\"><span>&lt;GenotypeArray shape=(19214, 36, 2) dtype=int8&gt;</span><table><thead><tr><th></th><th style=\"text-align: center\">0</th><th style=\"text-align: center\">1</th><th style=\"text-align: center\">2</th><th style=\"text-align: center\">3</th><th style=\"text-align: center\">4</th><th style=\"text-align: center\">...</th><th style=\"text-align: center\">31</th><th style=\"text-align: center\">32</th><th style=\"text-align: center\">33</th><th style=\"text-align: center\">34</th><th style=\"text-align: center\">35</th></tr></thead><tbody><tr><th style=\"text-align: center; background-color: white; border-right: 1px solid black; \">0</th><td style=\"text-align: center\">0/0</td><td style=\"text-align: center\">0/0</td><td style=\"text-align: center\">0/0</td><td style=\"text-align: center\">0/0</td><td style=\"text-align: center\">0/0</td><td style=\"text-align: center\">...</td><td style=\"text-align: center\">0/0</td><td style=\"text-align: center\">0/0</td><td style=\"text-align: center\">0/0</td><td style=\"text-align: center\">0/0</td><td style=\"text-align: center\">0/0</td></tr><tr><th style=\"text-align: center; background-color: white; border-right: 1px solid black; \">1</th><td style=\"text-align: center\">0/0</td><td style=\"text-align: center\">0/0</td><td style=\"text-align: center\">0/0</td><td style=\"text-align: center\">0/0</td><td style=\"text-align: center\">0/0</td><td style=\"text-align: center\">...</td><td style=\"text-align: center\">0/0</td><td style=\"text-align: center\">0/0</td><td style=\"text-align: center\">0/0</td><td style=\"text-align: center\">0/0</td><td style=\"text-align: center\">0/0</td></tr><tr><th style=\"text-align: center; background-color: white; border-right: 1px solid black; \">2</th><td style=\"text-align: center\">0/0</td><td style=\"text-align: center\">0/0</td><td style=\"text-align: center\">0/0</td><td style=\"text-align: center\">0/0</td><td style=\"text-align: center\">0/0</td><td style=\"text-align: center\">...</td><td style=\"text-align: center\">0/0</td><td style=\"text-align: center\">0/0</td><td style=\"text-align: center\">0/0</td><td style=\"text-align: center\">0/0</td><td style=\"text-align: center\">0/0</td></tr><tr><th style=\"text-align: center; background-color: white; border-right: 1px solid black; \">...</th><td style=\"text-align: center\" colspan=\"12\">...</td></tr><tr><th style=\"text-align: center; background-color: white; border-right: 1px solid black; \">19211</th><td style=\"text-align: center\">0/0</td><td style=\"text-align: center\">0/0</td><td style=\"text-align: center\">0/0</td><td style=\"text-align: center\">0/0</td><td style=\"text-align: center\">0/0</td><td style=\"text-align: center\">...</td><td style=\"text-align: center\">0/0</td><td style=\"text-align: center\">0/0</td><td style=\"text-align: center\">0/0</td><td style=\"text-align: center\">0/0</td><td style=\"text-align: center\">0/0</td></tr><tr><th style=\"text-align: center; background-color: white; border-right: 1px solid black; \">19212</th><td style=\"text-align: center\">0/0</td><td style=\"text-align: center\">0/0</td><td style=\"text-align: center\">0/0</td><td style=\"text-align: center\">0/0</td><td style=\"text-align: center\">0/0</td><td style=\"text-align: center\">...</td><td style=\"text-align: center\">0/0</td><td style=\"text-align: center\">0/0</td><td style=\"text-align: center\">0/0</td><td style=\"text-align: center\">0/0</td><td style=\"text-align: center\">0/0</td></tr><tr><th style=\"text-align: center; background-color: white; border-right: 1px solid black; \">19213</th><td style=\"text-align: center\">0/0</td><td style=\"text-align: center\">0/0</td><td style=\"text-align: center\">0/0</td><td style=\"text-align: center\">0/0</td><td style=\"text-align: center\">0/0</td><td style=\"text-align: center\">...</td><td style=\"text-align: center\">0/0</td><td style=\"text-align: center\">0/0</td><td style=\"text-align: center\">0/0</td><td style=\"text-align: center\">0/0</td><td style=\"text-align: center\">0/0</td></tr></tbody></table></div>"
      ],
      "text/plain": [
       "<GenotypeArray shape=(19214, 36, 2) dtype=int8>\n",
       "0/0 0/0 0/0 0/0 0/0 ... 0/0 0/0 0/0 0/0 0/0\n",
       "0/0 0/0 0/0 0/0 0/0 ... 0/0 0/0 0/0 0/0 0/0\n",
       "0/0 0/0 0/0 0/0 0/0 ... 0/0 0/0 0/0 0/0 0/0\n",
       "...\n",
       "0/0 0/0 0/0 0/0 0/0 ... 0/0 0/0 0/0 0/0 0/0\n",
       "0/0 0/0 0/0 0/0 0/0 ... 0/0 0/0 0/0 0/0 0/0\n",
       "0/0 0/0 0/0 0/0 0/0 ... 0/0 0/0 0/0 0/0 0/0"
      ]
     },
     "execution_count": 33,
     "metadata": {},
     "output_type": "execute_result"
    }
   ],
   "source": [
    "# once we have the slice, we can use it to subset the zarr array\n",
    "# nice!\n",
    "gt_region = allel.GenotypeArray(gt_zarr[loc_region])\n",
    "gt_region"
   ]
  },
  {
   "cell_type": "code",
   "execution_count": 34,
   "metadata": {},
   "outputs": [
    {
     "ename": "ValueError",
     "evalue": "Unknown input type",
     "output_type": "error",
     "traceback": [
      "\u001b[0;31m---------------------------------------------------------------------------\u001b[0m",
      "\u001b[0;31mValueError\u001b[0m                                Traceback (most recent call last)",
      "\u001b[0;32m<ipython-input-34-73b35eb48fbc>\u001b[0m in \u001b[0;36m<module>\u001b[0;34m\u001b[0m\n\u001b[0;32m----> 1\u001b[0;31m \u001b[0mallel\u001b[0m\u001b[0;34m.\u001b[0m\u001b[0mVariantTable\u001b[0m\u001b[0;34m(\u001b[0m\u001b[0mgt_region\u001b[0m\u001b[0;34m)\u001b[0m\u001b[0;34m\u001b[0m\u001b[0;34m\u001b[0m\u001b[0m\n\u001b[0m",
      "\u001b[0;32m~/anaconda3/envs/scikit-allel/lib/python3.6/site-packages/allel/model/ndarray.py\u001b[0m in \u001b[0;36m__init__\u001b[0;34m(self, data, index, copy, **kwargs)\u001b[0m\n\u001b[1;32m   4530\u001b[0m \u001b[0;34m\u001b[0m\u001b[0m\n\u001b[1;32m   4531\u001b[0m     \u001b[0;32mdef\u001b[0m \u001b[0m__init__\u001b[0m\u001b[0;34m(\u001b[0m\u001b[0mself\u001b[0m\u001b[0;34m,\u001b[0m \u001b[0mdata\u001b[0m\u001b[0;34m,\u001b[0m \u001b[0mindex\u001b[0m\u001b[0;34m=\u001b[0m\u001b[0;32mNone\u001b[0m\u001b[0;34m,\u001b[0m \u001b[0mcopy\u001b[0m\u001b[0;34m=\u001b[0m\u001b[0;32mFalse\u001b[0m\u001b[0;34m,\u001b[0m \u001b[0;34m**\u001b[0m\u001b[0mkwargs\u001b[0m\u001b[0;34m)\u001b[0m\u001b[0;34m:\u001b[0m\u001b[0;34m\u001b[0m\u001b[0;34m\u001b[0m\u001b[0m\n\u001b[0;32m-> 4532\u001b[0;31m         \u001b[0msuper\u001b[0m\u001b[0;34m(\u001b[0m\u001b[0mVariantTable\u001b[0m\u001b[0;34m,\u001b[0m \u001b[0mself\u001b[0m\u001b[0;34m)\u001b[0m\u001b[0;34m.\u001b[0m\u001b[0m__init__\u001b[0m\u001b[0;34m(\u001b[0m\u001b[0mdata\u001b[0m\u001b[0;34m,\u001b[0m \u001b[0mcopy\u001b[0m\u001b[0;34m=\u001b[0m\u001b[0mcopy\u001b[0m\u001b[0;34m,\u001b[0m \u001b[0;34m**\u001b[0m\u001b[0mkwargs\u001b[0m\u001b[0;34m)\u001b[0m\u001b[0;34m\u001b[0m\u001b[0;34m\u001b[0m\u001b[0m\n\u001b[0m\u001b[1;32m   4533\u001b[0m         \u001b[0mself\u001b[0m\u001b[0;34m.\u001b[0m\u001b[0mset_index\u001b[0m\u001b[0;34m(\u001b[0m\u001b[0mindex\u001b[0m\u001b[0;34m)\u001b[0m\u001b[0;34m\u001b[0m\u001b[0;34m\u001b[0m\u001b[0m\n\u001b[1;32m   4534\u001b[0m \u001b[0;34m\u001b[0m\u001b[0m\n",
      "\u001b[0;32m~/anaconda3/envs/scikit-allel/lib/python3.6/site-packages/allel/model/ndarray.py\u001b[0m in \u001b[0;36m__init__\u001b[0;34m(self, data, copy, **kwargs)\u001b[0m\n\u001b[1;32m     86\u001b[0m             \u001b[0mvalues\u001b[0m \u001b[0;34m=\u001b[0m \u001b[0mnp\u001b[0m\u001b[0;34m.\u001b[0m\u001b[0mrec\u001b[0m\u001b[0;34m.\u001b[0m\u001b[0mfromarrays\u001b[0m\u001b[0;34m(\u001b[0m\u001b[0marrays\u001b[0m\u001b[0;34m,\u001b[0m \u001b[0mnames\u001b[0m\u001b[0;34m=\u001b[0m\u001b[0mnames\u001b[0m\u001b[0;34m)\u001b[0m\u001b[0;34m\u001b[0m\u001b[0;34m\u001b[0m\u001b[0m\n\u001b[1;32m     87\u001b[0m         \u001b[0;32melse\u001b[0m\u001b[0;34m:\u001b[0m\u001b[0;34m\u001b[0m\u001b[0;34m\u001b[0m\u001b[0m\n\u001b[0;32m---> 88\u001b[0;31m             \u001b[0mvalues\u001b[0m \u001b[0;34m=\u001b[0m \u001b[0mnp\u001b[0m\u001b[0;34m.\u001b[0m\u001b[0mrec\u001b[0m\u001b[0;34m.\u001b[0m\u001b[0marray\u001b[0m\u001b[0;34m(\u001b[0m\u001b[0mdata\u001b[0m\u001b[0;34m,\u001b[0m \u001b[0mcopy\u001b[0m\u001b[0;34m=\u001b[0m\u001b[0mcopy\u001b[0m\u001b[0;34m,\u001b[0m \u001b[0;34m**\u001b[0m\u001b[0mkwargs\u001b[0m\u001b[0;34m)\u001b[0m\u001b[0;34m\u001b[0m\u001b[0;34m\u001b[0m\u001b[0m\n\u001b[0m\u001b[1;32m     89\u001b[0m             \u001b[0mcheck_ndim\u001b[0m\u001b[0;34m(\u001b[0m\u001b[0mvalues\u001b[0m\u001b[0;34m,\u001b[0m \u001b[0;36m1\u001b[0m\u001b[0;34m)\u001b[0m\u001b[0;34m\u001b[0m\u001b[0;34m\u001b[0m\u001b[0m\n\u001b[1;32m     90\u001b[0m         \u001b[0;32mif\u001b[0m \u001b[0;32mnot\u001b[0m \u001b[0mvalues\u001b[0m\u001b[0;34m.\u001b[0m\u001b[0mdtype\u001b[0m\u001b[0;34m.\u001b[0m\u001b[0mnames\u001b[0m\u001b[0;34m:\u001b[0m\u001b[0;34m\u001b[0m\u001b[0;34m\u001b[0m\u001b[0m\n",
      "\u001b[0;32m~/anaconda3/envs/scikit-allel/lib/python3.6/site-packages/numpy/core/records.py\u001b[0m in \u001b[0;36marray\u001b[0;34m(obj, dtype, shape, offset, strides, formats, names, titles, aligned, byteorder, copy)\u001b[0m\n\u001b[1;32m    873\u001b[0m         \u001b[0minterface\u001b[0m \u001b[0;34m=\u001b[0m \u001b[0mgetattr\u001b[0m\u001b[0;34m(\u001b[0m\u001b[0mobj\u001b[0m\u001b[0;34m,\u001b[0m \u001b[0;34m\"__array_interface__\"\u001b[0m\u001b[0;34m,\u001b[0m \u001b[0;32mNone\u001b[0m\u001b[0;34m)\u001b[0m\u001b[0;34m\u001b[0m\u001b[0;34m\u001b[0m\u001b[0m\n\u001b[1;32m    874\u001b[0m         \u001b[0;32mif\u001b[0m \u001b[0minterface\u001b[0m \u001b[0;32mis\u001b[0m \u001b[0;32mNone\u001b[0m \u001b[0;32mor\u001b[0m \u001b[0;32mnot\u001b[0m \u001b[0misinstance\u001b[0m\u001b[0;34m(\u001b[0m\u001b[0minterface\u001b[0m\u001b[0;34m,\u001b[0m \u001b[0mdict\u001b[0m\u001b[0;34m)\u001b[0m\u001b[0;34m:\u001b[0m\u001b[0;34m\u001b[0m\u001b[0;34m\u001b[0m\u001b[0m\n\u001b[0;32m--> 875\u001b[0;31m             \u001b[0;32mraise\u001b[0m \u001b[0mValueError\u001b[0m\u001b[0;34m(\u001b[0m\u001b[0;34m\"Unknown input type\"\u001b[0m\u001b[0;34m)\u001b[0m\u001b[0;34m\u001b[0m\u001b[0;34m\u001b[0m\u001b[0m\n\u001b[0m\u001b[1;32m    876\u001b[0m         \u001b[0mobj\u001b[0m \u001b[0;34m=\u001b[0m \u001b[0msb\u001b[0m\u001b[0;34m.\u001b[0m\u001b[0marray\u001b[0m\u001b[0;34m(\u001b[0m\u001b[0mobj\u001b[0m\u001b[0;34m)\u001b[0m\u001b[0;34m\u001b[0m\u001b[0;34m\u001b[0m\u001b[0m\n\u001b[1;32m    877\u001b[0m         \u001b[0;32mif\u001b[0m \u001b[0mdtype\u001b[0m \u001b[0;32mis\u001b[0m \u001b[0;32mnot\u001b[0m \u001b[0;32mNone\u001b[0m \u001b[0;32mand\u001b[0m \u001b[0;34m(\u001b[0m\u001b[0mobj\u001b[0m\u001b[0;34m.\u001b[0m\u001b[0mdtype\u001b[0m \u001b[0;34m!=\u001b[0m \u001b[0mdtype\u001b[0m\u001b[0;34m)\u001b[0m\u001b[0;34m:\u001b[0m\u001b[0;34m\u001b[0m\u001b[0;34m\u001b[0m\u001b[0m\n",
      "\u001b[0;31mValueError\u001b[0m: Unknown input type"
     ]
    }
   ],
   "source": [
    "allel.VariantTable(gt_region)"
   ]
  },
  {
   "cell_type": "markdown",
   "metadata": {},
   "source": [
    "This all looks very promising!"
   ]
  },
  {
   "cell_type": "markdown",
   "metadata": {},
   "source": [
    "### 2. Filtering Variants\n",
    "\n",
    "We definitely want to be able to filter variants. Looking at the zarr array from above, it appears:\n",
    "\n",
    "- /variants has all the site-level annotations (i.e. INFO fields)\n",
    "- /calldata has the individual genotype annotations (i.e. FORMAT fields)"
   ]
  },
  {
   "cell_type": "code",
   "execution_count": 21,
   "metadata": {},
   "outputs": [
    {
     "data": {
      "text/plain": [
       "array([False, False, False, ..., False, False, False])"
      ]
     },
     "execution_count": 21,
     "metadata": {},
     "output_type": "execute_result"
    }
   ],
   "source": [
    "# e.g. a 1D boolean array indicated if the site is a snp (or an indel, I guess?)\n",
    "\n",
    "is_snp = callset[chromosome + '/variants/is_snp'][:]\n",
    "is_snp"
   ]
  },
  {
   "cell_type": "code",
   "execution_count": 27,
   "metadata": {},
   "outputs": [
    {
     "data": {
      "text/plain": [
       "array([[-1, -1, -1, ..., -1, -1, -1],\n",
       "       [-1, -1, -1, ..., -1, -1, -1],\n",
       "       [-1, -1, -1, ..., -1, -1, -1],\n",
       "       ...,\n",
       "       [-1, -1, -1, ..., -1, -1, -1],\n",
       "       [-1, -1, -1, ..., -1, -1, -1],\n",
       "       [-1, -1, -1, ..., -1, -1, -1]], dtype=int8)"
      ]
     },
     "execution_count": 27,
     "metadata": {},
     "output_type": "execute_result"
    }
   ],
   "source": [
    "# a N-D numeric array for genotype annotations, e.g. depth\n",
    "# rows are individuals, columns are sites\n",
    "\n",
    "geno_dp = callset[chromosome + '/calldata/DP'][:]\n",
    "geno_dp > 22\n",
    "\n",
    "geno_gq = callset[chromosome + '/calldata/GQ'][:]\n",
    "geno_gq\n"
   ]
  },
  {
   "cell_type": "markdown",
   "metadata": {},
   "source": [
    "### A look at GQ vs RGQ\n",
    "\n",
    "For purposes of filtration, we'd like to treat variant and invariant sites as similarly as possible. \n",
    "\n",
    "In an GATK 'allsites' VCF, invariant sites have only four genotype fields: GT, AD, DP, RGQ\n",
    "\n",
    "- GT is the genotype (always 0/0 for invariant sites)\n",
    "- AD is per-allele depth, which is basically redundant with DP for invariant sites\n",
    "- DP the total depth (AD allele 1 + AD allele 2)\n",
    "- RGQ, the \"reference genotype quality\"\n",
    "\n",
    "So, really, we just have DP and RGQ to work with. First question is whether RGQ can be treated \"the same\" as GQ for filtration.\n"
   ]
  },
  {
   "cell_type": "code",
   "execution_count": 23,
   "metadata": {},
   "outputs": [
    {
     "data": {
      "text/plain": [
       "array([[-1, -1, -1, ..., -1, -1, -1],\n",
       "       [-1, -1, -1, ..., -1, -1, -1],\n",
       "       [-1, -1, -1, ..., -1, -1, -1],\n",
       "       ...,\n",
       "       [-1, -1, -1, ..., -1, -1, -1],\n",
       "       [-1, -1, -1, ..., -1, -1, -1],\n",
       "       [-1, -1, -1, ..., -1, -1, -1]], dtype=int8)"
      ]
     },
     "execution_count": 23,
     "metadata": {},
     "output_type": "execute_result"
    }
   ],
   "source": [
    "# the GQ scores\n",
    "# 0/0 ref calls have -1 (which is missing, I take it)\n",
    "\n",
    "geno_gq = callset[chromosome + '/calldata/GQ'][:]\n",
    "geno_gq"
   ]
  },
  {
   "cell_type": "code",
   "execution_count": 24,
   "metadata": {},
   "outputs": [
    {
     "data": {
      "text/plain": [
       "array([[ 75, 108,  99, ...,  99,  66, 105],\n",
       "       [ 75, 108,  99, ...,  99,  66, 105],\n",
       "       [ 75, 108,  99, ...,  99,  66, 105],\n",
       "       ...,\n",
       "       [ -1,  -1,  -1, ...,  -1,  -1,  -1],\n",
       "       [ -1,  -1,  -1, ...,  -1,  -1,  -1],\n",
       "       [ -1,  -1,  -1, ...,  -1,  -1,  -1]], dtype=int32)"
      ]
     },
     "execution_count": 24,
     "metadata": {},
     "output_type": "execute_result"
    }
   ],
   "source": [
    "# the RGQ (reference genotype quality) scores\n",
    "# anything with an alt call has -1 \n",
    "\n",
    "geno_rgq = callset[chromosome + '/calldata/RGQ'][:]\n",
    "geno_rgq"
   ]
  },
  {
   "cell_type": "code",
   "execution_count": 30,
   "metadata": {},
   "outputs": [
    {
     "data": {
      "image/png": "[encoded data removed]",
      "text/plain": [
       "<Figure size 800x640 with 1 Axes>"
      ]
     },
     "metadata": {},
     "output_type": "display_data"
    }
   ],
   "source": [
    "# quick plot of gq and rgq\n",
    "\n",
    "# subsample down to 10000 rows for faster plotting\n",
    "\n",
    "indices = np.random.randint(0,geno_rgq.shape[0], 10000)\n",
    "geno_rgq_sub = geno_rgq[indices]\n",
    "\n",
    "indices = np.random.randint(0,geno_gq.shape[0], 10000)\n",
    "geno_gq_sub = geno_gq[indices]\n",
    "\n",
    "\n",
    "%matplotlib inline\n",
    "\n",
    "fig=plt.figure(figsize=(10, 8), dpi= 80, facecolor='w', edgecolor='k')\n",
    "\n",
    "plt.hist(geno_gq_sub, facecolor='g', alpha=0.5, label = \"GQ\")\n",
    "plt.hist(geno_rgq_sub, facecolor='r', alpha=0.5, label = \"RGQ\")\n",
    "plt.legend(loc='upper right')\n",
    "plt.ylabel('Frequency')\n",
    "plt.xlabel('Quality Score')\n",
    "plt.show()\n"
   ]
  },
  {
   "cell_type": "markdown",
   "metadata": {},
   "source": [
    "### 3. Filtering at the sample level\n",
    "\n",
    "We want to be able to: \n",
    "- Select specific samples \n",
    "- Filter individual genotypes (i.e. not only at the site level)"
   ]
  },
  {
   "cell_type": "code",
   "execution_count": 26,
   "metadata": {},
   "outputs": [
    {
     "data": {
      "text/html": [
       "<div>\n",
       "<style scoped>\n",
       "    .dataframe tbody tr th:only-of-type {\n",
       "        vertical-align: middle;\n",
       "    }\n",
       "\n",
       "    .dataframe tbody tr th {\n",
       "        vertical-align: top;\n",
       "    }\n",
       "\n",
       "    .dataframe thead th {\n",
       "        text-align: right;\n",
       "    }\n",
       "</style>\n",
       "<table border=\"1\" class=\"dataframe\">\n",
       "  <thead>\n",
       "    <tr style=\"text-align: right;\">\n",
       "      <th></th>\n",
       "      <th>sample</th>\n",
       "      <th>id</th>\n",
       "      <th>pop</th>\n",
       "    </tr>\n",
       "  </thead>\n",
       "  <tbody>\n",
       "    <tr>\n",
       "      <th>0</th>\n",
       "      <td>S1</td>\n",
       "      <td>A56</td>\n",
       "      <td>AFC</td>\n",
       "    </tr>\n",
       "    <tr>\n",
       "      <th>1</th>\n",
       "      <td>S2</td>\n",
       "      <td>MV2-25</td>\n",
       "      <td>MV</td>\n",
       "    </tr>\n",
       "    <tr>\n",
       "      <th>2</th>\n",
       "      <td>S3</td>\n",
       "      <td>M14</td>\n",
       "      <td>MC</td>\n",
       "    </tr>\n",
       "    <tr>\n",
       "      <th>3</th>\n",
       "      <td>S4</td>\n",
       "      <td>A60</td>\n",
       "      <td>AFC</td>\n",
       "    </tr>\n",
       "    <tr>\n",
       "      <th>4</th>\n",
       "      <td>S5</td>\n",
       "      <td>M17</td>\n",
       "      <td>MC</td>\n",
       "    </tr>\n",
       "    <tr>\n",
       "      <th>5</th>\n",
       "      <td>S6</td>\n",
       "      <td>A19</td>\n",
       "      <td>AFC</td>\n",
       "    </tr>\n",
       "    <tr>\n",
       "      <th>6</th>\n",
       "      <td>S7</td>\n",
       "      <td>Flag14</td>\n",
       "      <td>FLAG</td>\n",
       "    </tr>\n",
       "    <tr>\n",
       "      <th>7</th>\n",
       "      <td>S8</td>\n",
       "      <td>VY-F16</td>\n",
       "      <td>VY</td>\n",
       "    </tr>\n",
       "    <tr>\n",
       "      <th>8</th>\n",
       "      <td>S9</td>\n",
       "      <td>A12</td>\n",
       "      <td>AFC</td>\n",
       "    </tr>\n",
       "    <tr>\n",
       "      <th>9</th>\n",
       "      <td>S10</td>\n",
       "      <td>A47</td>\n",
       "      <td>A47</td>\n",
       "    </tr>\n",
       "    <tr>\n",
       "      <th>10</th>\n",
       "      <td>S11</td>\n",
       "      <td>A14</td>\n",
       "      <td>AFC</td>\n",
       "    </tr>\n",
       "    <tr>\n",
       "      <th>11</th>\n",
       "      <td>S12</td>\n",
       "      <td>M27</td>\n",
       "      <td>MC</td>\n",
       "    </tr>\n",
       "    <tr>\n",
       "      <th>12</th>\n",
       "      <td>S13</td>\n",
       "      <td>A48</td>\n",
       "      <td>AFC</td>\n",
       "    </tr>\n",
       "    <tr>\n",
       "      <th>13</th>\n",
       "      <td>S14</td>\n",
       "      <td>A49</td>\n",
       "      <td>AFC</td>\n",
       "    </tr>\n",
       "    <tr>\n",
       "      <th>14</th>\n",
       "      <td>S15</td>\n",
       "      <td>A57</td>\n",
       "      <td>AFC</td>\n",
       "    </tr>\n",
       "    <tr>\n",
       "      <th>15</th>\n",
       "      <td>S16</td>\n",
       "      <td>A30</td>\n",
       "      <td>AFC</td>\n",
       "    </tr>\n",
       "    <tr>\n",
       "      <th>16</th>\n",
       "      <td>S17</td>\n",
       "      <td>M20</td>\n",
       "      <td>MC</td>\n",
       "    </tr>\n",
       "    <tr>\n",
       "      <th>17</th>\n",
       "      <td>S18</td>\n",
       "      <td>M15</td>\n",
       "      <td>MC</td>\n",
       "    </tr>\n",
       "    <tr>\n",
       "      <th>18</th>\n",
       "      <td>S19</td>\n",
       "      <td>A24</td>\n",
       "      <td>AFC</td>\n",
       "    </tr>\n",
       "    <tr>\n",
       "      <th>19</th>\n",
       "      <td>S20</td>\n",
       "      <td>M13</td>\n",
       "      <td>MC</td>\n",
       "    </tr>\n",
       "    <tr>\n",
       "      <th>20</th>\n",
       "      <td>S21</td>\n",
       "      <td>M6</td>\n",
       "      <td>MC</td>\n",
       "    </tr>\n",
       "    <tr>\n",
       "      <th>21</th>\n",
       "      <td>S22</td>\n",
       "      <td>A6</td>\n",
       "      <td>AFC</td>\n",
       "    </tr>\n",
       "  </tbody>\n",
       "</table>\n",
       "</div>"
      ],
      "text/plain": [
       "   sample      id   pop\n",
       "0      S1     A56   AFC\n",
       "1      S2  MV2-25    MV\n",
       "2      S3     M14    MC\n",
       "3      S4     A60   AFC\n",
       "4      S5     M17    MC\n",
       "5      S6     A19   AFC\n",
       "6      S7  Flag14  FLAG\n",
       "7      S8  VY-F16    VY\n",
       "8      S9     A12   AFC\n",
       "9     S10     A47   A47\n",
       "10    S11     A14   AFC\n",
       "11    S12     M27    MC\n",
       "12    S13     A48   AFC\n",
       "13    S14     A49   AFC\n",
       "14    S15     A57   AFC\n",
       "15    S16     A30   AFC\n",
       "16    S17     M20    MC\n",
       "17    S18     M15    MC\n",
       "18    S19     A24   AFC\n",
       "19    S20     M13    MC\n",
       "20    S21      M6    MC\n",
       "21    S22      A6   AFC"
      ]
     },
     "execution_count": 26,
     "metadata": {},
     "output_type": "execute_result"
    }
   ],
   "source": [
    "# read in the list of samples/populations\n",
    "\n",
    "import pandas\n",
    "pop_file_path = 'data/vcf/dpse/fasta_samplelist_recode.txt'\n",
    "panel = pandas.read_csv(pop_file_path, sep='\\t', usecols=['sample', 'id', 'pop'])\n",
    "panel"
   ]
  },
  {
   "cell_type": "code",
   "execution_count": 91,
   "metadata": {},
   "outputs": [
    {
     "data": {
      "text/plain": [
       "array(['S1', 'S10', 'S11', 'S12', 'S13', 'S14', 'S15', 'S16', 'S17',\n",
       "       'S18', 'S19', 'S2', 'S20', 'S21', 'S22', 'S3', 'S4', 'S5', 'S6',\n",
       "       'S7', 'S8', 'S9'], dtype=object)"
      ]
     },
     "execution_count": 91,
     "metadata": {},
     "output_type": "execute_result"
    }
   ],
   "source": [
    "# get a list of samples from the callset\n",
    "\n",
    "samples = callset[chromosome + '/samples'][:]\n",
    "\n",
    "samples"
   ]
  },
  {
   "cell_type": "code",
   "execution_count": 107,
   "metadata": {},
   "outputs": [
    {
     "data": {
      "text/plain": [
       "[0, 11, 15, 16, 17, 18, 19, 20, 21, 1, 2, 3, 4, 5, 6, 7, 8, 9, 10, 12, 13, 14]"
      ]
     },
     "execution_count": 107,
     "metadata": {},
     "output_type": "execute_result"
    }
   ],
   "source": [
    "# find the samples in the callset index\n",
    "\n",
    "samples_list = list(samples)\n",
    "panel['sample']\n",
    "[samples_list.index(s) for s in panel['sample']]\n",
    "\n",
    "\n",
    "#samples_callset_index = \n",
    "#samples_callset_index \n",
    "\n",
    "#loc_samples_afr = panel[panel.pop == 'AFC'].callset_index.values\n",
    "#loc_samples_afr\n"
   ]
  },
  {
   "cell_type": "code",
   "execution_count": 53,
   "metadata": {},
   "outputs": [
    {
     "ename": "SyntaxError",
     "evalue": "invalid syntax (<ipython-input-53-5053dbb1b16a>, line 9)",
     "output_type": "error",
     "traceback": [
      "\u001b[0;36m  File \u001b[0;32m\"<ipython-input-53-5053dbb1b16a>\"\u001b[0;36m, line \u001b[0;32m9\u001b[0m\n\u001b[0;31m    loc_variant_selection = (geno_dp[:] > 7) & (geno_gq[:] > 30)\u001b[0m\n\u001b[0m                        ^\u001b[0m\n\u001b[0;31mSyntaxError\u001b[0m\u001b[0;31m:\u001b[0m invalid syntax\n"
     ]
    }
   ],
   "source": [
    "# we can intersect two filtration criteria\n",
    "\n",
    "geno_dp = callset[chromosome + '/calldata/DP'][:]\n",
    "geno_gq = callset[chromosome + '/calldata/GQ'][:]\n",
    "is_snp = callset[chromosome + '/variants/is_snp'][:]\n",
    "\n",
    "loc_variant_selection = ~is_snp & (geno_dp[:] > 0.05)\n",
    "\n",
    "                  \n",
    "                  \n",
    "#is_snp\n",
    "loc_variant_selection.dtype\n"
   ]
  },
  {
   "cell_type": "code",
   "execution_count": 47,
   "metadata": {},
   "outputs": [
    {
     "ename": "ValueError",
     "evalue": "bad length of condition; expected 387872, found 8533184",
     "output_type": "error",
     "traceback": [
      "\u001b[0;31m---------------------------------------------------------------------------\u001b[0m",
      "\u001b[0;31mValueError\u001b[0m                                Traceback (most recent call last)",
      "\u001b[0;32m<ipython-input-47-00567ea91bf4>\u001b[0m in \u001b[0;36m<module>\u001b[0;34m\u001b[0m\n\u001b[1;32m      6\u001b[0m \u001b[0mgt\u001b[0m\u001b[0;34m\u001b[0m\u001b[0;34m\u001b[0m\u001b[0m\n\u001b[1;32m      7\u001b[0m \u001b[0;34m\u001b[0m\u001b[0m\n\u001b[0;32m----> 8\u001b[0;31m \u001b[0mgt_variant_selection\u001b[0m \u001b[0;34m=\u001b[0m \u001b[0mgt\u001b[0m\u001b[0;34m.\u001b[0m\u001b[0mcompress\u001b[0m\u001b[0;34m(\u001b[0m\u001b[0mloc_variant_selection\u001b[0m\u001b[0;34m,\u001b[0m \u001b[0maxis\u001b[0m \u001b[0;34m=\u001b[0m \u001b[0;36m0\u001b[0m\u001b[0;34m)\u001b[0m\u001b[0;34m\u001b[0m\u001b[0;34m\u001b[0m\u001b[0m\n\u001b[0m\u001b[1;32m      9\u001b[0m \u001b[0;31m#gt_variant_selection\u001b[0m\u001b[0;34m\u001b[0m\u001b[0;34m\u001b[0m\u001b[0;34m\u001b[0m\u001b[0m\n",
      "\u001b[0;32m~/anaconda3/envs/scikit-allel/lib/python3.6/site-packages/allel/model/ndarray.py\u001b[0m in \u001b[0;36mcompress\u001b[0;34m(self, condition, axis, out)\u001b[0m\n\u001b[1;32m   1492\u001b[0m     \u001b[0;32mdef\u001b[0m \u001b[0mcompress\u001b[0m\u001b[0;34m(\u001b[0m\u001b[0mself\u001b[0m\u001b[0;34m,\u001b[0m \u001b[0mcondition\u001b[0m\u001b[0;34m,\u001b[0m \u001b[0maxis\u001b[0m\u001b[0;34m=\u001b[0m\u001b[0;36m0\u001b[0m\u001b[0;34m,\u001b[0m \u001b[0mout\u001b[0m\u001b[0;34m=\u001b[0m\u001b[0;32mNone\u001b[0m\u001b[0;34m)\u001b[0m\u001b[0;34m:\u001b[0m\u001b[0;34m\u001b[0m\u001b[0;34m\u001b[0m\u001b[0m\n\u001b[1;32m   1493\u001b[0m         return compress_genotypes(self, condition=condition, axis=axis, wrap_axes={0, 1},\n\u001b[0;32m-> 1494\u001b[0;31m                                   cls=type(self), compress=np.compress, out=out)\n\u001b[0m\u001b[1;32m   1495\u001b[0m \u001b[0;34m\u001b[0m\u001b[0m\n\u001b[1;32m   1496\u001b[0m     \u001b[0;32mdef\u001b[0m \u001b[0mtake\u001b[0m\u001b[0;34m(\u001b[0m\u001b[0mself\u001b[0m\u001b[0;34m,\u001b[0m \u001b[0mindices\u001b[0m\u001b[0;34m,\u001b[0m \u001b[0maxis\u001b[0m\u001b[0;34m=\u001b[0m\u001b[0;36m0\u001b[0m\u001b[0;34m,\u001b[0m \u001b[0mout\u001b[0m\u001b[0;34m=\u001b[0m\u001b[0;32mNone\u001b[0m\u001b[0;34m,\u001b[0m \u001b[0mmode\u001b[0m\u001b[0;34m=\u001b[0m\u001b[0;34m'raise'\u001b[0m\u001b[0;34m)\u001b[0m\u001b[0;34m:\u001b[0m\u001b[0;34m\u001b[0m\u001b[0;34m\u001b[0m\u001b[0m\n",
      "\u001b[0;32m~/anaconda3/envs/scikit-allel/lib/python3.6/site-packages/allel/model/generic.py\u001b[0m in \u001b[0;36mcompress_genotypes\u001b[0;34m(g, condition, axis, wrap_axes, cls, compress, **kwargs)\u001b[0m\n\u001b[1;32m    175\u001b[0m     \u001b[0mcondition\u001b[0m \u001b[0;34m=\u001b[0m \u001b[0mnp\u001b[0m\u001b[0;34m.\u001b[0m\u001b[0masarray\u001b[0m\u001b[0;34m(\u001b[0m\u001b[0mcondition\u001b[0m\u001b[0;34m,\u001b[0m \u001b[0mdtype\u001b[0m\u001b[0;34m=\u001b[0m\u001b[0mbool\u001b[0m\u001b[0;34m)\u001b[0m\u001b[0;34m\u001b[0m\u001b[0;34m\u001b[0m\u001b[0m\n\u001b[1;32m    176\u001b[0m     \u001b[0mcheck_ndim\u001b[0m\u001b[0;34m(\u001b[0m\u001b[0mcondition\u001b[0m\u001b[0;34m,\u001b[0m \u001b[0;36m1\u001b[0m\u001b[0;34m)\u001b[0m\u001b[0;34m\u001b[0m\u001b[0;34m\u001b[0m\u001b[0m\n\u001b[0;32m--> 177\u001b[0;31m     \u001b[0m_check_condition_length\u001b[0m\u001b[0;34m(\u001b[0m\u001b[0mg\u001b[0m\u001b[0;34m,\u001b[0m \u001b[0mcondition\u001b[0m\u001b[0;34m,\u001b[0m \u001b[0maxis\u001b[0m\u001b[0;34m)\u001b[0m\u001b[0;34m\u001b[0m\u001b[0;34m\u001b[0m\u001b[0m\n\u001b[0m\u001b[1;32m    178\u001b[0m \u001b[0;34m\u001b[0m\u001b[0m\n\u001b[1;32m    179\u001b[0m     \u001b[0;31m# apply compress operation on the underlying values\u001b[0m\u001b[0;34m\u001b[0m\u001b[0;34m\u001b[0m\u001b[0;34m\u001b[0m\u001b[0m\n",
      "\u001b[0;32m~/anaconda3/envs/scikit-allel/lib/python3.6/site-packages/allel/model/generic.py\u001b[0m in \u001b[0;36m_check_condition_length\u001b[0;34m(a, condition, axis)\u001b[0m\n\u001b[1;32m    168\u001b[0m         \u001b[0;32mif\u001b[0m \u001b[0mk\u001b[0m \u001b[0;34m!=\u001b[0m \u001b[0mexpected_length\u001b[0m\u001b[0;34m:\u001b[0m\u001b[0;34m\u001b[0m\u001b[0;34m\u001b[0m\u001b[0m\n\u001b[1;32m    169\u001b[0m             raise ValueError('bad length of condition; expected %s, found %s' %\n\u001b[0;32m--> 170\u001b[0;31m                              (expected_length, k))\n\u001b[0m\u001b[1;32m    171\u001b[0m \u001b[0;34m\u001b[0m\u001b[0m\n\u001b[1;32m    172\u001b[0m \u001b[0;34m\u001b[0m\u001b[0m\n",
      "\u001b[0;31mValueError\u001b[0m: bad length of condition; expected 387872, found 8533184"
     ]
    }
   ],
   "source": [
    "# extract the loci passing filter\n",
    "\n",
    "# load the genotype matrix into memory\n",
    "# weeoo\n",
    "gt = allel.GenotypeArray(gt_zarr)\n",
    "gt\n",
    "\n",
    "gt_variant_selection = gt.compress(loc_variant_selection, axis = 0)\n",
    "#gt_variant_selection\n"
   ]
  },
  {
   "cell_type": "code",
   "execution_count": 48,
   "metadata": {},
   "outputs": [],
   "source": [
    "# DATA VALIDATION\n",
    "\n",
    "# we want to check:\n",
    "# - the vcf is valid (this is done by pyVCF)\n",
    "# - the individuals in the population file exist in the vcf\n",
    "#     - if there are inds missing, generate a warning?\n",
    "# - the vcf contains invariant and variant sites\n",
    "#     - if the last point is not true, refuse to continue\n",
    "#     - alternatively, generate a very explicit warning about the miscalculation of pi/dxy\n",
    "# - the filter expression(s) correctly refer to annotations in the VCF\n",
    "#    - stop if any annotations don't exist in the file\n"
   ]
  },
  {
   "cell_type": "code",
   "execution_count": null,
   "metadata": {},
   "outputs": [],
   "source": [
    "# NUCLEOTIDE DIVERSITY (PI) CALCULATION"
   ]
  },
  {
   "cell_type": "code",
   "execution_count": null,
   "metadata": {},
   "outputs": [],
   "source": [
    "# for a single window, apply general filters to genotypes\n",
    "# depth, GQ, GATK best practices filters, etc.\n",
    "# might also want to consider a missingness filter here\n",
    "# also ignore + remove indels!\n"
   ]
  },
  {
   "cell_type": "code",
   "execution_count": null,
   "metadata": {},
   "outputs": [],
   "source": [
    "# with filtered data, extract genotypes into a matrix (??)\n"
   ]
  },
  {
   "cell_type": "code",
   "execution_count": null,
   "metadata": {},
   "outputs": [],
   "source": [
    "# for a genotype matrix, count number of differences between each row (individual)\n",
    "# missing sites are ignored (but reduce sample size)\n",
    "# use langley formula here\n",
    "\n",
    "# alternatively, we could compute per-site pi here and do the windows after the fact\n",
    "# maybe not a bad idea\n",
    "# important to keep track of numerator and denominator either way \n"
   ]
  },
  {
   "cell_type": "code",
   "execution_count": null,
   "metadata": {},
   "outputs": [],
   "source": [
    "# count missing sites (for dropping windows)\n",
    "# this is kind of implicit if we track the denominators properly\n"
   ]
  },
  {
   "cell_type": "code",
   "execution_count": null,
   "metadata": {},
   "outputs": [],
   "source": [
    "# compute pi over the chosen window size\n"
   ]
  },
  {
   "cell_type": "code",
   "execution_count": null,
   "metadata": {},
   "outputs": [],
   "source": [
    "# generate a flat output file \n",
    "# something like:\n",
    "#\n",
    "# # <META = list of filtration criteria etc>.\n",
    "# chrom pos1 pos2 n_inds n_sites_avg n_snps n_monomorphic pi_est/dxy_est\n",
    "#\n",
    "# the n_sites/n_snps/n_monomorphic will have to be averages across individuals i suppose\n"
   ]
  },
  {
   "cell_type": "code",
   "execution_count": null,
   "metadata": {},
   "outputs": [],
   "source": [
    "# ABSOLUTE DIVERGENCE (DXY) CALCULATION"
   ]
  },
  {
   "cell_type": "code",
   "execution_count": null,
   "metadata": {},
   "outputs": [],
   "source": [
    "# as with pi, apply genotype-level filters first\n"
   ]
  },
  {
   "cell_type": "code",
   "execution_count": null,
   "metadata": {},
   "outputs": [],
   "source": [
    "# read in population file\n"
   ]
  },
  {
   "cell_type": "code",
   "execution_count": null,
   "metadata": {},
   "outputs": [],
   "source": [
    "# create genotype matrix for each population\n",
    "# (or track indexes in a single matrix)\n",
    " "
   ]
  },
  {
   "cell_type": "code",
   "execution_count": null,
   "metadata": {},
   "outputs": [],
   "source": [
    "# count differences between all between-population pairs\n",
    "# can do per-site and sum or do whole windows "
   ]
  },
  {
   "cell_type": "code",
   "execution_count": null,
   "metadata": {},
   "outputs": [],
   "source": [
    "# CLI will look like\n",
    "pi_dxy --pi --dxy\\ # compute both pi within and dxy between\n",
    "--vcf allsites.vcf.gz \\\n",
    "--populations popfile.txt \\\n",
    "--window_size 10000 \\\n",
    "--snp_filter_expression \"DP>=10, GQ>=20, FS>2\" \\\n",
    "--monomorphic_filter_expression \"DP>=10, RGQ>=20\" \\\n",
    "--outfile pi_dxy_out.txt"
   ]
  }
 ],
 "metadata": {
  "kernelspec": {
   "display_name": "Python 3",
   "language": "python",
   "name": "python3"
  },
  "language_info": {
   "codemirror_mode": {
    "name": "ipython",
    "version": 3
   },
   "file_extension": ".py",
   "mimetype": "text/x-python",
   "name": "python",
   "nbconvert_exporter": "python",
   "pygments_lexer": "ipython3",
   "version": "3.6.7"
  }
 },
 "nbformat": 4,
 "nbformat_minor": 4
}
