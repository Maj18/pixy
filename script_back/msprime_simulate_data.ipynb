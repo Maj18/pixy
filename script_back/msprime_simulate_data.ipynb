{
 "cells": [
  {
   "cell_type": "code",
   "execution_count": 1,
   "metadata": {},
   "outputs": [],
   "source": [
    "#! conda install -y -c conda-forge msprime\n",
    "import msprime\n",
    "import argparse"
   ]
  },
  {
   "cell_type": "code",
   "execution_count": 2,
   "metadata": {},
   "outputs": [
    {
     "name": "stdout",
     "output_type": "stream",
     "text": [
      "usage: ipykernel_launcher.py [-h] [--prefix [PREFIX]] [--datasets [DATASETS]]\n",
      "\n",
      "Simulate polymorphism data with msprime and write to VCF file(s)\n",
      "\n",
      "optional arguments:\n",
      "  -h, --help            show this help message and exit\n",
      "  --prefix [PREFIX]     file name prefix for output VCF(s)\n",
      "  --datasets [DATASETS]\n",
      "                        number of datasets to simulate\n"
     ]
    }
   ],
   "source": [
    "# define arguments for the parser\n",
    "parser = argparse.ArgumentParser(description='Simulate polymorphism data with msprime and write to VCF file(s)')\n",
    "parser.add_argument('--prefix', type=str, nargs='?', help='file name prefix for output VCF(s)')\n",
    "parser.add_argument('--datasets', type=int, nargs='?', help='number of datasets to simulate')\n",
    "\n",
    "# pull out varizbles from the parsed args\n",
    "# sim_args = parser.parse_args(['--prefix', 'data/msprime_sim/pi_sim_', '--datasets', '10'])\n",
    "sim_args = parser.parse_args()\n",
    "\n",
    "prefix = sim_args.prefix\n",
    "datasets = sim_args.datasets\n"
   ]
  },
  {
   "cell_type": "code",
   "execution_count": 17,
   "metadata": {},
   "outputs": [],
   "source": [
    "# define parameters + simulate some data\n",
    "Ne = 1e6\n",
    "Mu = 1e-8\n",
    "sample_size = 100\n",
    "n_sites = 10000\n",
    "iterations = list(range(0, datasets, 1))\n",
    "\n",
    "for iteration in iterations:\n",
    "    # simulate the specified number of iterations/sites/samples\n",
    "    tree_seq = msprime.simulate(sample_size=sample_size, Ne=Ne, \n",
    "                                length=n_sites, mutation_rate=Mu, random_seed = iteration + 1)\n",
    "    # write to file\n",
    "    filename = prefix + \"Ne=\" + str('%.1e' % Ne) + \"_\" + \"mu=\" + str(Mu) + \"_\" + \"samples=\" + str(sample_size) + \"_\" + \"sites=\" + str(n_sites) + \"_\" + str(iteration) + '.vcf'\n",
    "    with open(filename, \"w\") as vcf_file:\n",
    "        tree_seq.write_vcf(vcf_file, ploidy=2)\n"
   ]
  },
  {
   "cell_type": "code",
   "execution_count": 19,
   "metadata": {},
   "outputs": [
    {
     "name": "stdout",
     "output_type": "stream",
     "text": [
      "[NbConvertApp] Converting notebook msprime_simulate_data.ipynb to python\n",
      "[NbConvertApp] Writing 1398 bytes to msprime_simulate_data.py\n"
     ]
    }
   ],
   "source": [
    "!jupyter nbconvert --to=python msprime_simulate_data.ipynb"
   ]
  },
  {
   "cell_type": "code",
   "execution_count": null,
   "metadata": {},
   "outputs": [],
   "source": []
  }
 ],
 "metadata": {
  "kernelspec": {
   "display_name": "Python 3",
   "language": "python",
   "name": "python3"
  },
  "language_info": {
   "codemirror_mode": {
    "name": "ipython",
    "version": 3
   },
   "file_extension": ".py",
   "mimetype": "text/x-python",
   "name": "python",
   "nbconvert_exporter": "python",
   "pygments_lexer": "ipython3",
   "version": "3.7.1"
  }
 },
 "nbformat": 4,
 "nbformat_minor": 2
}
