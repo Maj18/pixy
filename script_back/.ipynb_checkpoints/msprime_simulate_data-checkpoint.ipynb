{
 "cells": [
  {
   "cell_type": "code",
   "execution_count": 9,
   "metadata": {},
   "outputs": [],
   "source": [
    "#! conda install -y -c conda-forge msprime\n",
    "import msprime\n",
    "import argparse"
   ]
  },
  {
   "cell_type": "code",
   "execution_count": 40,
   "metadata": {},
   "outputs": [
    {
     "name": "stdout",
     "output_type": "stream",
     "text": [
      "usage: ipykernel_launcher.py [-h] [--prefix [PREFIX]] [--datasets [DATASETS]]\n",
      "\n",
      "Simulate polymorphism data with msprime and write to VCF file(s)\n",
      "\n",
      "optional arguments:\n",
      "  -h, --help            show this help message and exit\n",
      "  --prefix [PREFIX]     file name prefix for output VCF(s)\n",
      "  --datasets [DATASETS]\n",
      "                        number of datasets to simulate\n"
     ]
    }
   ],
   "source": [
    "parser = argparse.ArgumentParser(description='Simulate polymorphism data with msprime and write to VCF file(s)')\n",
    "parser.add_argument('--prefix', nargs='?', help='file name prefix for output VCF(s)')\n",
    "parser.add_argument('--datasets', nargs='?', help='number of datasets to simulate')\n",
    "\n",
    "\n",
    "parser.print_help()\n",
    "\n",
    "sim_args = parser.parse_args(['--prefix', 'data/msprime_sim/pi_sim_', '--datasets', '10'])\n",
    "prefix = sim_args.prefix\n",
    "datasets = sim_args.datasets\n"
   ]
  },
  {
   "cell_type": "code",
   "execution_count": 42,
   "metadata": {},
   "outputs": [
    {
     "ename": "TypeError",
     "evalue": "'str' object cannot be interpreted as an integer",
     "output_type": "error",
     "traceback": [
      "\u001b[0;31m---------------------------------------------------------------------------\u001b[0m",
      "\u001b[0;31mTypeError\u001b[0m                                 Traceback (most recent call last)",
      "\u001b[0;32m<ipython-input-42-76608849b944>\u001b[0m in \u001b[0;36m<module>\u001b[0;34m\u001b[0m\n\u001b[1;32m      4\u001b[0m \u001b[0msample_size\u001b[0m \u001b[0;34m=\u001b[0m \u001b[0;36m50\u001b[0m\u001b[0;34m\u001b[0m\u001b[0;34m\u001b[0m\u001b[0m\n\u001b[1;32m      5\u001b[0m \u001b[0mn_sites\u001b[0m \u001b[0;34m=\u001b[0m \u001b[0;36m10000\u001b[0m\u001b[0;34m\u001b[0m\u001b[0;34m\u001b[0m\u001b[0m\n\u001b[0;32m----> 6\u001b[0;31m \u001b[0miterations\u001b[0m \u001b[0;34m=\u001b[0m \u001b[0mlist\u001b[0m\u001b[0;34m(\u001b[0m\u001b[0mrange\u001b[0m\u001b[0;34m(\u001b[0m\u001b[0;36m1\u001b[0m\u001b[0;34m,\u001b[0m \u001b[0mdatasets\u001b[0m\u001b[0;34m,\u001b[0m \u001b[0;36m1\u001b[0m\u001b[0;34m)\u001b[0m\u001b[0;34m)\u001b[0m\u001b[0;34m\u001b[0m\u001b[0;34m\u001b[0m\u001b[0m\n\u001b[0m\u001b[1;32m      7\u001b[0m \u001b[0;34m\u001b[0m\u001b[0m\n\u001b[1;32m      8\u001b[0m \u001b[0;32mfor\u001b[0m \u001b[0miteration\u001b[0m \u001b[0;32min\u001b[0m \u001b[0miterations\u001b[0m\u001b[0;34m:\u001b[0m\u001b[0;34m\u001b[0m\u001b[0;34m\u001b[0m\u001b[0m\n",
      "\u001b[0;31mTypeError\u001b[0m: 'str' object cannot be interpreted as an integer"
     ]
    }
   ],
   "source": [
    "# define parameters + simulate some data\n",
    "Ne = 1e6\n",
    "Mu = 1e-8\n",
    "sample_size = 50\n",
    "n_sites = 10000\n",
    "iterations = list(range(1, datasets, 1))\n",
    "\n",
    "for iteration in iterations:\n",
    "    tree_seq = msprime.simulate(sample_size=sample_size, Ne=Ne, \n",
    "                                length=n_sites, mutation_rate=Mu, random_seed = iteration)\n",
    "\n",
    "# simulate the specified number of iterations/sites/samples\n",
    "tree_seq = msprime.simulate(sample_size=sample_size, Ne=Ne, \n",
    "                                length=n_sites, mutation_rate=Mu, random_seed = iteration)\n",
    "\n",
    "# write to file\n",
    "filename = prefix + '1' + '.vcf'\n",
    "with open(filename, \"w\") as vcf_file:\n",
    "    tree_seq.write_vcf(vcf_file, ploidy=2)\n"
   ]
  },
  {
   "cell_type": "code",
   "execution_count": 29,
   "metadata": {},
   "outputs": [
    {
     "name": "stdout",
     "output_type": "stream",
     "text": [
      "0.04\n",
      "0.048303673469387756\n"
     ]
    }
   ],
   "source": [
    "\n",
    "    \n"
   ]
  },
  {
   "cell_type": "code",
   "execution_count": null,
   "metadata": {},
   "outputs": [],
   "source": []
  }
 ],
 "metadata": {
  "kernelspec": {
   "display_name": "Python 3",
   "language": "python",
   "name": "python3"
  },
  "language_info": {
   "codemirror_mode": {
    "name": "ipython",
    "version": 3
   },
   "file_extension": ".py",
   "mimetype": "text/x-python",
   "name": "python",
   "nbconvert_exporter": "python",
   "pygments_lexer": "ipython3",
   "version": "3.6.7"
  }
 },
 "nbformat": 4,
 "nbformat_minor": 2
}
