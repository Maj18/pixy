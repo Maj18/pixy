{
 "cells": [
  {
   "cell_type": "markdown",
   "metadata": {},
   "source": [
    "# Exploring scikit-allel\n",
    "*May 2019*\n",
    "\n",
    "Question: Will this suit our needs for our pi/dxy project?\n",
    "\n",
    "**scikit-allel manual https://scikit-allel.readthedocs.io/en/stable/**\n",
    "\n",
    "Setup for the notebook (see shell commands below):\n",
    "\n",
    "- Making heavy use of Anaconda\n",
    "- I created a new conda environment for scikit-allel (just called 'allel')\n",
    "- I installed scikit-allel\n",
    "- On my Windows machine, I had to also install ipython kernel (`ipykernel`) and add the `allel` conda environment to it as a kernel\n",
    "- You can change the kernel for the notebook by clicking on the kernel name next to the circle at the top right\n"
   ]
  },
  {
   "cell_type": "code",
   "execution_count": 1,
   "metadata": {},
   "outputs": [],
   "source": [
    "# shell commands for setup\n",
    "\n",
    "# conda create --name allel\n",
    "# conda activate allel\n",
    "\n",
    "# conda install -c conda-forge scikit-allel\n",
    "# conda install ipykernel\n",
    "\n",
    "# ipython kernel install --user --name=allel\n",
    "# conda deactivate\n",
    "# conda activate allel\n",
    "# jupyter lab\n"
   ]
  },
  {
   "cell_type": "code",
   "execution_count": 2,
   "metadata": {},
   "outputs": [],
   "source": [
    "import allel\n",
    "import zarr\n",
    "import numcodecs\n",
    "import numpy as np\n",
    "import sys\n",
    "import matplotlib.pyplot as plt"
   ]
  },
  {
   "cell_type": "markdown",
   "metadata": {},
   "source": [
    "### 1. Read in and examine a VCF"
   ]
  },
  {
   "cell_type": "markdown",
   "metadata": {},
   "source": [
    "First, we read in and convert our test VCF to zarr format:"
   ]
  },
  {
   "cell_type": "code",
   "execution_count": 3,
   "metadata": {},
   "outputs": [],
   "source": [
    "chromosome = \"chrX\""
   ]
  },
  {
   "cell_type": "code",
   "execution_count": 4,
   "metadata": {},
   "outputs": [
    {
     "name": "stdout",
     "output_type": "stream",
     "text": [
      "data/vcf/ag1000/chrX_36Ag_allsites.zarr\n",
      "[vcf_to_zarr] 65536 rows in 0.84s; chunk in 0.84s (78009 rows/s); X\u0000:67658\n",
      "[vcf_to_zarr] 131072 rows in 1.94s; chunk in 1.10s (59450 rows/s); X\u0000:134877\n",
      "[vcf_to_zarr] 196608 rows in 3.01s; chunk in 1.07s (61142 rows/s); X\u0000:201964\n",
      "[vcf_to_zarr] 262144 rows in 4.10s; chunk in 1.09s (60307 rows/s); X\u0000:269210\n",
      "[vcf_to_zarr] 327680 rows in 5.20s; chunk in 1.09s (59892 rows/s); X\u0000:336650\n",
      "[vcf_to_zarr] 393216 rows in 6.35s; chunk in 1.15s (56966 rows/s); X\u0000:405906\n",
      "[vcf_to_zarr] 458752 rows in 7.52s; chunk in 1.17s (55834 rows/s); X\u0000:474456\n",
      "[vcf_to_zarr] 524288 rows in 8.67s; chunk in 1.15s (56884 rows/s); X\u0000:543294\n",
      "[vcf_to_zarr] 589824 rows in 9.97s; chunk in 1.29s (50661 rows/s); X\u0000:614421\n",
      "[vcf_to_zarr] 655360 rows in 11.28s; chunk in 1.32s (49829 rows/s); X\u0000:685287\n",
      "[vcf_to_zarr] 720896 rows in 12.59s; chunk in 1.31s (50158 rows/s); X\u0000:754666\n",
      "[vcf_to_zarr] 786432 rows in 13.86s; chunk in 1.27s (51654 rows/s); X\u0000:824240\n",
      "[vcf_to_zarr] 851968 rows in 15.09s; chunk in 1.23s (53267 rows/s); X\u0000:893985\n",
      "[vcf_to_zarr] 917504 rows in 16.37s; chunk in 1.28s (51219 rows/s); X\u0000:963336\n",
      "[vcf_to_zarr] 983040 rows in 17.59s; chunk in 1.22s (53604 rows/s); X\u0000:1032486\n",
      "[vcf_to_zarr] 1048576 rows in 18.87s; chunk in 1.28s (51186 rows/s); X\u0000:1102433\n",
      "[vcf_to_zarr] 1114112 rows in 20.11s; chunk in 1.25s (52583 rows/s); X\u0000:1171589\n",
      "[vcf_to_zarr] 1179648 rows in 21.41s; chunk in 1.30s (50419 rows/s); X\u0000:1241523\n",
      "[vcf_to_zarr] 1245184 rows in 22.60s; chunk in 1.19s (55287 rows/s); X\u0000:1311315\n",
      "[vcf_to_zarr] 1310720 rows in 23.83s; chunk in 1.23s (53108 rows/s); X\u0000:1381524\n",
      "[vcf_to_zarr] 1376256 rows in 25.06s; chunk in 1.23s (53413 rows/s); X\u0000:1451291\n",
      "[vcf_to_zarr] 1441792 rows in 26.35s; chunk in 1.28s (51022 rows/s); X\u0000:1521702\n",
      "[vcf_to_zarr] 1507328 rows in 27.56s; chunk in 1.21s (54146 rows/s); X\u0000:1591542\n",
      "[vcf_to_zarr] 1572864 rows in 28.85s; chunk in 1.30s (50566 rows/s); X\u0000:1661834\n",
      "[vcf_to_zarr] 1638400 rows in 30.14s; chunk in 1.29s (50935 rows/s); X\u0000:1731374\n",
      "[vcf_to_zarr] 1703936 rows in 31.36s; chunk in 1.23s (53427 rows/s); X\u0000:1800512\n",
      "[vcf_to_zarr] 1769472 rows in 32.57s; chunk in 1.20s (54505 rows/s); X\u0000:1870025\n",
      "[vcf_to_zarr] 1835008 rows in 33.86s; chunk in 1.29s (50755 rows/s); X\u0000:1940722\n",
      "[vcf_to_zarr] 1900544 rows in 35.12s; chunk in 1.26s (51930 rows/s); X\u0000:2010450\n",
      "[vcf_to_zarr] 1966080 rows in 36.33s; chunk in 1.20s (54392 rows/s); X\u0000:2079300\n",
      "[vcf_to_zarr] 2031616 rows in 37.49s; chunk in 1.16s (56440 rows/s); X\u0000:2148020\n",
      "[vcf_to_zarr] 2097152 rows in 38.72s; chunk in 1.24s (53016 rows/s); X\u0000:2217693\n",
      "[vcf_to_zarr] 2162688 rows in 40.01s; chunk in 1.29s (50910 rows/s); X\u0000:2288350\n",
      "[vcf_to_zarr] 2228224 rows in 41.27s; chunk in 1.26s (51991 rows/s); X\u0000:2358389\n",
      "[vcf_to_zarr] 2293760 rows in 42.53s; chunk in 1.26s (52190 rows/s); X\u0000:2428008\n",
      "[vcf_to_zarr] 2359296 rows in 43.77s; chunk in 1.24s (52793 rows/s); X\u0000:2497776\n",
      "[vcf_to_zarr] 2424832 rows in 44.99s; chunk in 1.23s (53452 rows/s); X\u0000:2566824\n",
      "[vcf_to_zarr] 2490368 rows in 46.24s; chunk in 1.24s (52720 rows/s); X\u0000:2636898\n",
      "[vcf_to_zarr] 2555904 rows in 47.44s; chunk in 1.20s (54432 rows/s); X\u0000:2706563\n",
      "[vcf_to_zarr] 2621440 rows in 48.70s; chunk in 1.26s (52190 rows/s); X\u0000:2775875\n",
      "[vcf_to_zarr] 2686976 rows in 49.97s; chunk in 1.27s (51603 rows/s); X\u0000:2846569\n",
      "[vcf_to_zarr] 2752512 rows in 51.19s; chunk in 1.22s (53585 rows/s); X\u0000:2916284\n",
      "[vcf_to_zarr] 2818048 rows in 52.38s; chunk in 1.19s (54882 rows/s); X\u0000:2985463\n",
      "[vcf_to_zarr] 2883584 rows in 53.50s; chunk in 1.12s (58488 rows/s); X\u0000:3053597\n",
      "[vcf_to_zarr] 2949120 rows in 54.67s; chunk in 1.17s (56224 rows/s); X\u0000:3121840\n",
      "[vcf_to_zarr] 3014656 rows in 55.92s; chunk in 1.25s (52419 rows/s); X\u0000:3190373\n",
      "[vcf_to_zarr] 3080192 rows in 57.10s; chunk in 1.18s (55347 rows/s); X\u0000:3259288\n",
      "[vcf_to_zarr] 3145728 rows in 58.25s; chunk in 1.14s (57389 rows/s); X\u0000:3328120\n",
      "[vcf_to_zarr] 3211264 rows in 59.42s; chunk in 1.17s (55888 rows/s); X\u0000:3397584\n",
      "[vcf_to_zarr] 3276800 rows in 60.64s; chunk in 1.22s (53688 rows/s); X\u0000:3467650\n",
      "[vcf_to_zarr] 3342336 rows in 61.85s; chunk in 1.21s (54111 rows/s); X\u0000:3537057\n",
      "[vcf_to_zarr] 3407872 rows in 63.10s; chunk in 1.25s (52585 rows/s); X\u0000:3606417\n",
      "[vcf_to_zarr] 3473408 rows in 64.40s; chunk in 1.30s (50430 rows/s); X\u0000:3676585\n",
      "[vcf_to_zarr] 3538944 rows in 65.73s; chunk in 1.33s (49271 rows/s); X\u0000:3746927\n",
      "[vcf_to_zarr] 3604480 rows in 67.05s; chunk in 1.32s (49538 rows/s); X\u0000:3817137\n",
      "[vcf_to_zarr] 3670016 rows in 68.30s; chunk in 1.25s (52516 rows/s); X\u0000:3887525\n",
      "[vcf_to_zarr] 3735552 rows in 69.58s; chunk in 1.28s (51182 rows/s); X\u0000:3956584\n",
      "[vcf_to_zarr] 3801088 rows in 70.92s; chunk in 1.34s (48965 rows/s); X\u0000:4027083\n",
      "[vcf_to_zarr] 3866624 rows in 72.18s; chunk in 1.27s (51676 rows/s); X\u0000:4097026\n",
      "[vcf_to_zarr] 3932160 rows in 73.44s; chunk in 1.26s (52196 rows/s); X\u0000:4167194\n",
      "[vcf_to_zarr] 3997696 rows in 74.72s; chunk in 1.28s (51225 rows/s); X\u0000:4236300\n",
      "[vcf_to_zarr] 4063232 rows in 75.97s; chunk in 1.25s (52507 rows/s); X\u0000:4305204\n",
      "[vcf_to_zarr] 4128768 rows in 77.28s; chunk in 1.31s (49976 rows/s); X\u0000:4374946\n",
      "[vcf_to_zarr] 4194304 rows in 78.56s; chunk in 1.28s (51083 rows/s); X\u0000:4445747\n",
      "[vcf_to_zarr] 4259840 rows in 79.84s; chunk in 1.28s (51112 rows/s); X\u0000:4516215\n",
      "[vcf_to_zarr] 4325376 rows in 81.08s; chunk in 1.24s (52994 rows/s); X\u0000:4585926\n",
      "[vcf_to_zarr] 4390912 rows in 82.37s; chunk in 1.29s (50726 rows/s); X\u0000:4656095\n",
      "[vcf_to_zarr] 4456448 rows in 83.65s; chunk in 1.28s (51377 rows/s); X\u0000:4725675\n",
      "[vcf_to_zarr] 4521984 rows in 84.89s; chunk in 1.24s (52836 rows/s); X\u0000:4795144\n",
      "[vcf_to_zarr] 4587520 rows in 86.16s; chunk in 1.28s (51333 rows/s); X\u0000:4864998\n",
      "[vcf_to_zarr] 4653056 rows in 87.42s; chunk in 1.25s (52252 rows/s); X\u0000:4934514\n",
      "[vcf_to_zarr] 4718592 rows in 88.58s; chunk in 1.16s (56320 rows/s); X\u0000:5003638\n",
      "[vcf_to_zarr] 4784128 rows in 89.83s; chunk in 1.24s (52654 rows/s); X\u0000:5073483\n",
      "[vcf_to_zarr] 4849664 rows in 91.06s; chunk in 1.23s (53125 rows/s); X\u0000:5143374\n",
      "[vcf_to_zarr] 4915200 rows in 92.35s; chunk in 1.29s (50880 rows/s); X\u0000:5214558\n",
      "[vcf_to_zarr] 4980736 rows in 93.67s; chunk in 1.33s (49443 rows/s); X\u0000:5284836\n",
      "[vcf_to_zarr] 5046272 rows in 94.94s; chunk in 1.27s (51700 rows/s); X\u0000:5354966\n",
      "[vcf_to_zarr] 5111808 rows in 96.19s; chunk in 1.24s (52719 rows/s); X\u0000:5423799\n",
      "[vcf_to_zarr] 5177344 rows in 97.36s; chunk in 1.17s (55894 rows/s); X\u0000:5492938\n",
      "[vcf_to_zarr] 5242880 rows in 98.63s; chunk in 1.27s (51443 rows/s); X\u0000:5563764\n",
      "[vcf_to_zarr] 5308416 rows in 99.88s; chunk in 1.25s (52290 rows/s); X\u0000:5632643\n",
      "[vcf_to_zarr] 5373952 rows in 101.17s; chunk in 1.29s (50986 rows/s); X\u0000:5703108\n",
      "[vcf_to_zarr] 5439488 rows in 102.36s; chunk in 1.19s (54875 rows/s); X\u0000:5772685\n",
      "[vcf_to_zarr] 5505024 rows in 103.59s; chunk in 1.23s (53346 rows/s); X\u0000:5841604\n",
      "[vcf_to_zarr] 5570560 rows in 104.83s; chunk in 1.23s (53091 rows/s); X\u0000:5910721\n",
      "[vcf_to_zarr] 5636096 rows in 106.07s; chunk in 1.24s (52805 rows/s); X\u0000:5980397\n",
      "[vcf_to_zarr] 5701632 rows in 107.47s; chunk in 1.41s (46642 rows/s); X\u0000:6050314\n",
      "[vcf_to_zarr] 5767168 rows in 108.83s; chunk in 1.36s (48174 rows/s); X\u0000:6120474\n",
      "[vcf_to_zarr] 5832704 rows in 109.99s; chunk in 1.15s (56810 rows/s); X\u0000:6189495\n",
      "[vcf_to_zarr] 5898240 rows in 111.20s; chunk in 1.21s (54040 rows/s); X\u0000:6259305\n",
      "[vcf_to_zarr] 5963776 rows in 112.55s; chunk in 1.35s (48435 rows/s); X\u0000:6330442\n",
      "[vcf_to_zarr] 6029312 rows in 113.83s; chunk in 1.28s (51313 rows/s); X\u0000:6400846\n",
      "[vcf_to_zarr] 6094848 rows in 115.16s; chunk in 1.33s (49448 rows/s); X\u0000:6470955\n",
      "[vcf_to_zarr] 6160384 rows in 116.54s; chunk in 1.38s (47323 rows/s); X\u0000:6541302\n",
      "[vcf_to_zarr] 6225920 rows in 117.86s; chunk in 1.32s (49576 rows/s); X\u0000:6611122\n",
      "[vcf_to_zarr] 6291456 rows in 119.18s; chunk in 1.32s (49573 rows/s); X\u0000:6680848\n",
      "[vcf_to_zarr] 6356992 rows in 120.51s; chunk in 1.33s (49331 rows/s); X\u0000:6751124\n",
      "[vcf_to_zarr] 6422528 rows in 121.73s; chunk in 1.21s (54001 rows/s); X\u0000:6820985\n",
      "[vcf_to_zarr] 6488064 rows in 123.00s; chunk in 1.27s (51404 rows/s); X\u0000:6892331\n",
      "[vcf_to_zarr] 6553600 rows in 124.30s; chunk in 1.29s (50645 rows/s); X\u0000:6963146\n",
      "[vcf_to_zarr] 6619136 rows in 125.64s; chunk in 1.35s (48593 rows/s); X\u0000:7034160\n",
      "[vcf_to_zarr] 6684672 rows in 126.91s; chunk in 1.27s (51769 rows/s); X\u0000:7103782\n",
      "[vcf_to_zarr] 6750208 rows in 128.19s; chunk in 1.28s (51112 rows/s); X\u0000:7173645\n",
      "[vcf_to_zarr] 6815744 rows in 129.37s; chunk in 1.18s (55769 rows/s); X\u0000:7243210\n",
      "[vcf_to_zarr] 6881280 rows in 130.54s; chunk in 1.18s (55655 rows/s); X\u0000:7312517\n",
      "[vcf_to_zarr] 6946816 rows in 131.74s; chunk in 1.19s (55017 rows/s); X\u0000:7382086\n",
      "[vcf_to_zarr] 7012352 rows in 132.97s; chunk in 1.23s (53250 rows/s); X\u0000:7452364\n",
      "[vcf_to_zarr] 7077888 rows in 134.16s; chunk in 1.19s (55133 rows/s); X\u0000:7521576\n",
      "[vcf_to_zarr] 7143424 rows in 135.41s; chunk in 1.26s (52128 rows/s); X\u0000:7592057\n",
      "[vcf_to_zarr] 7208960 rows in 136.55s; chunk in 1.14s (57526 rows/s); X\u0000:7661424\n",
      "[vcf_to_zarr] 7274496 rows in 137.76s; chunk in 1.21s (54127 rows/s); X\u0000:7730768\n",
      "[vcf_to_zarr] 7340032 rows in 138.93s; chunk in 1.17s (55972 rows/s); X\u0000:7799265\n",
      "[vcf_to_zarr] 7405568 rows in 140.09s; chunk in 1.16s (56712 rows/s); X\u0000:7867677\n",
      "[vcf_to_zarr] 7471104 rows in 141.29s; chunk in 1.20s (54500 rows/s); X\u0000:7937381\n",
      "[vcf_to_zarr] 7536640 rows in 142.54s; chunk in 1.25s (52613 rows/s); X\u0000:8007284\n",
      "[vcf_to_zarr] 7602176 rows in 143.73s; chunk in 1.19s (55164 rows/s); X\u0000:8076911\n",
      "[vcf_to_zarr] 7667712 rows in 144.94s; chunk in 1.21s (54015 rows/s); X\u0000:8146717\n",
      "[vcf_to_zarr] 7733248 rows in 146.21s; chunk in 1.27s (51619 rows/s); X\u0000:8217439\n",
      "[vcf_to_zarr] 7798784 rows in 147.44s; chunk in 1.24s (52989 rows/s); X\u0000:8287805\n",
      "[vcf_to_zarr] 7864320 rows in 148.78s; chunk in 1.34s (49021 rows/s); X\u0000:8358306\n",
      "[vcf_to_zarr] 7929856 rows in 150.03s; chunk in 1.25s (52355 rows/s); X\u0000:8428498\n",
      "[vcf_to_zarr] 7995392 rows in 151.33s; chunk in 1.30s (50413 rows/s); X\u0000:8498273\n",
      "[vcf_to_zarr] 8060928 rows in 152.63s; chunk in 1.30s (50480 rows/s); X\u0000:8568181\n",
      "[vcf_to_zarr] 8126464 rows in 153.93s; chunk in 1.30s (50560 rows/s); X\u0000:8637646\n",
      "[vcf_to_zarr] 8192000 rows in 155.19s; chunk in 1.26s (51886 rows/s); X\u0000:8709138\n",
      "[vcf_to_zarr] 8257536 rows in 156.38s; chunk in 1.19s (55061 rows/s); X\u0000:8777552\n",
      "[vcf_to_zarr] 8323072 rows in 157.60s; chunk in 1.22s (53561 rows/s); X\u0000:8847049\n",
      "[vcf_to_zarr] 8388608 rows in 158.90s; chunk in 1.29s (50744 rows/s); X\u0000:8917465\n",
      "[vcf_to_zarr] 8454144 rows in 160.18s; chunk in 1.28s (51120 rows/s); X\u0000:8987686\n",
      "[vcf_to_zarr] 8519680 rows in 161.56s; chunk in 1.38s (47577 rows/s); X\u0000:9058933\n",
      "[vcf_to_zarr] 8585216 rows in 162.93s; chunk in 1.38s (47660 rows/s); X\u0000:9130124\n",
      "[vcf_to_zarr] 8650752 rows in 164.20s; chunk in 1.27s (51676 rows/s); X\u0000:9198711\n",
      "[vcf_to_zarr] 8716288 rows in 165.50s; chunk in 1.30s (50522 rows/s); X\u0000:9267627\n",
      "[vcf_to_zarr] 8781824 rows in 166.86s; chunk in 1.36s (48216 rows/s); X\u0000:9336978\n",
      "[vcf_to_zarr] 8847360 rows in 168.19s; chunk in 1.33s (49181 rows/s); X\u0000:9406428\n",
      "[vcf_to_zarr] 8912896 rows in 169.53s; chunk in 1.34s (48977 rows/s); X\u0000:9475823\n",
      "[vcf_to_zarr] 8978432 rows in 170.88s; chunk in 1.36s (48339 rows/s); X\u0000:9545944\n",
      "[vcf_to_zarr] 9043968 rows in 172.19s; chunk in 1.31s (50078 rows/s); X\u0000:9615347\n",
      "[vcf_to_zarr] 9109504 rows in 173.48s; chunk in 1.29s (50839 rows/s); X\u0000:9684508\n",
      "[vcf_to_zarr] 9175040 rows in 174.75s; chunk in 1.27s (51685 rows/s); X\u0000:9753499\n",
      "[vcf_to_zarr] 9240576 rows in 176.06s; chunk in 1.31s (49892 rows/s); X\u0000:9822559\n",
      "[vcf_to_zarr] 9306112 rows in 177.35s; chunk in 1.29s (50657 rows/s); X\u0000:9890720\n",
      "[vcf_to_zarr] 9371648 rows in 178.72s; chunk in 1.36s (48163 rows/s); X\u0000:9960834\n",
      "[vcf_to_zarr] 9437184 rows in 180.10s; chunk in 1.39s (47180 rows/s); X\u0000:10031096\n",
      "[vcf_to_zarr] 9502720 rows in 181.40s; chunk in 1.29s (50672 rows/s); X\u0000:10100883\n",
      "[vcf_to_zarr] 9568256 rows in 182.64s; chunk in 1.24s (52683 rows/s); X\u0000:10170732\n",
      "[vcf_to_zarr] 9633792 rows in 184.04s; chunk in 1.39s (47031 rows/s); X\u0000:10240357\n",
      "[vcf_to_zarr] 9699328 rows in 185.54s; chunk in 1.51s (43525 rows/s); X\u0000:10311513\n",
      "[vcf_to_zarr] 9764864 rows in 187.08s; chunk in 1.54s (42481 rows/s); X\u0000:10382416\n",
      "[vcf_to_zarr] 9830400 rows in 188.55s; chunk in 1.46s (44769 rows/s); X\u0000:10452695\n",
      "[vcf_to_zarr] 9895936 rows in 189.95s; chunk in 1.40s (46694 rows/s); X\u0000:10522153\n",
      "[vcf_to_zarr] 9961472 rows in 191.40s; chunk in 1.45s (45164 rows/s); X\u0000:10592864\n",
      "[vcf_to_zarr] 10027008 rows in 192.84s; chunk in 1.44s (45649 rows/s); X\u0000:10662114\n",
      "[vcf_to_zarr] 10092544 rows in 194.27s; chunk in 1.44s (45622 rows/s); X\u0000:10732523\n",
      "[vcf_to_zarr] 10158080 rows in 195.67s; chunk in 1.40s (46824 rows/s); X\u0000:10801911\n",
      "[vcf_to_zarr] 10223616 rows in 197.15s; chunk in 1.47s (44485 rows/s); X\u0000:10871808\n",
      "[vcf_to_zarr] 10289152 rows in 198.59s; chunk in 1.44s (45362 rows/s); X\u0000:10941634\n",
      "[vcf_to_zarr] 10354688 rows in 199.93s; chunk in 1.34s (49048 rows/s); X\u0000:11012259\n",
      "[vcf_to_zarr] 10420224 rows in 201.18s; chunk in 1.25s (52228 rows/s); X\u0000:11080661\n",
      "[vcf_to_zarr] 10485760 rows in 202.54s; chunk in 1.36s (48154 rows/s); X\u0000:11151107\n",
      "[vcf_to_zarr] 10551296 rows in 203.77s; chunk in 1.23s (53241 rows/s); X\u0000:11220812\n",
      "[vcf_to_zarr] 10616832 rows in 205.01s; chunk in 1.24s (52881 rows/s); X\u0000:11290739\n",
      "[vcf_to_zarr] 10682368 rows in 206.08s; chunk in 1.06s (61737 rows/s); X\u0000:11358011\n",
      "[vcf_to_zarr] 10747904 rows in 207.25s; chunk in 1.17s (55889 rows/s); X\u0000:11426764\n",
      "[vcf_to_zarr] 10813440 rows in 208.49s; chunk in 1.24s (52771 rows/s); X\u0000:11496995\n",
      "[vcf_to_zarr] 10878976 rows in 209.71s; chunk in 1.22s (53575 rows/s); X\u0000:11566863\n",
      "[vcf_to_zarr] 10944512 rows in 210.94s; chunk in 1.22s (53536 rows/s); X\u0000:11636682\n",
      "[vcf_to_zarr] 11010048 rows in 212.10s; chunk in 1.16s (56361 rows/s); X\u0000:11705027\n",
      "[vcf_to_zarr] 11075584 rows in 213.27s; chunk in 1.17s (56243 rows/s); X\u0000:11773167\n",
      "[vcf_to_zarr] 11141120 rows in 214.45s; chunk in 1.18s (55424 rows/s); X\u0000:11841579\n",
      "[vcf_to_zarr] 11206656 rows in 215.73s; chunk in 1.28s (51184 rows/s); X\u0000:11911364\n",
      "[vcf_to_zarr] 11272192 rows in 217.09s; chunk in 1.36s (48150 rows/s); X\u0000:11981208\n",
      "[vcf_to_zarr] 11337728 rows in 218.46s; chunk in 1.37s (47938 rows/s); X\u0000:12050783\n",
      "[vcf_to_zarr] 11403264 rows in 219.76s; chunk in 1.31s (50185 rows/s); X\u0000:12120650\n",
      "[vcf_to_zarr] 11468800 rows in 221.01s; chunk in 1.25s (52401 rows/s); X\u0000:12190646\n",
      "[vcf_to_zarr] 11534336 rows in 222.28s; chunk in 1.27s (51516 rows/s); X\u0000:12259981\n",
      "[vcf_to_zarr] 11599872 rows in 223.71s; chunk in 1.42s (46113 rows/s); X\u0000:12329941\n",
      "[vcf_to_zarr] 11665408 rows in 225.07s; chunk in 1.36s (48069 rows/s); X\u0000:12400976\n",
      "[vcf_to_zarr] 11730944 rows in 226.35s; chunk in 1.29s (50993 rows/s); X\u0000:12470406\n",
      "[vcf_to_zarr] 11796480 rows in 227.66s; chunk in 1.31s (50214 rows/s); X\u0000:12539341\n",
      "[vcf_to_zarr] 11862016 rows in 228.98s; chunk in 1.32s (49662 rows/s); X\u0000:12609094\n",
      "[vcf_to_zarr] 11927552 rows in 230.28s; chunk in 1.30s (50264 rows/s); X\u0000:12678628\n",
      "[vcf_to_zarr] 11993088 rows in 231.59s; chunk in 1.30s (50336 rows/s); X\u0000:12747931\n",
      "[vcf_to_zarr] 12058624 rows in 232.84s; chunk in 1.25s (52351 rows/s); X\u0000:12816553\n",
      "[vcf_to_zarr] 12124160 rows in 234.04s; chunk in 1.20s (54461 rows/s); X\u0000:12885781\n",
      "[vcf_to_zarr] 12189696 rows in 235.36s; chunk in 1.32s (49696 rows/s); X\u0000:12955639\n",
      "[vcf_to_zarr] 12255232 rows in 236.67s; chunk in 1.31s (49938 rows/s); X\u0000:13025352\n",
      "[vcf_to_zarr] 12320768 rows in 237.96s; chunk in 1.29s (50857 rows/s); X\u0000:13095057\n",
      "[vcf_to_zarr] 12386304 rows in 239.35s; chunk in 1.39s (46993 rows/s); X\u0000:13164234\n",
      "[vcf_to_zarr] 12451840 rows in 240.79s; chunk in 1.43s (45727 rows/s); X\u0000:13234944\n",
      "[vcf_to_zarr] 12517376 rows in 242.19s; chunk in 1.40s (46767 rows/s); X\u0000:13305217\n",
      "[vcf_to_zarr] 12582912 rows in 243.57s; chunk in 1.38s (47584 rows/s); X\u0000:13374656\n",
      "[vcf_to_zarr] 12648448 rows in 244.80s; chunk in 1.23s (53078 rows/s); X\u0000:13444703\n",
      "[vcf_to_zarr] 12713984 rows in 246.07s; chunk in 1.26s (51841 rows/s); X\u0000:13514208\n",
      "[vcf_to_zarr] 12779520 rows in 247.49s; chunk in 1.43s (45953 rows/s); X\u0000:13583349\n",
      "[vcf_to_zarr] 12845056 rows in 249.01s; chunk in 1.51s (43279 rows/s); X\u0000:13653011\n",
      "[vcf_to_zarr] 12910592 rows in 250.63s; chunk in 1.63s (40235 rows/s); X\u0000:13721701\n",
      "[vcf_to_zarr] 12976128 rows in 252.12s; chunk in 1.49s (44049 rows/s); X\u0000:13790318\n",
      "[vcf_to_zarr] 13041664 rows in 253.52s; chunk in 1.40s (46722 rows/s); X\u0000:13859049\n",
      "[vcf_to_zarr] 13107200 rows in 254.90s; chunk in 1.37s (47688 rows/s); X\u0000:13928979\n",
      "[vcf_to_zarr] 13172736 rows in 256.17s; chunk in 1.27s (51590 rows/s); X\u0000:13997608\n",
      "[vcf_to_zarr] 13238272 rows in 257.56s; chunk in 1.39s (47262 rows/s); X\u0000:14067530\n",
      "[vcf_to_zarr] 13303808 rows in 259.05s; chunk in 1.49s (43965 rows/s); X\u0000:14137079\n",
      "[vcf_to_zarr] 13369344 rows in 260.43s; chunk in 1.38s (47500 rows/s); X\u0000:14206372\n",
      "[vcf_to_zarr] 13434880 rows in 261.95s; chunk in 1.52s (43016 rows/s); X\u0000:14274727\n",
      "[vcf_to_zarr] 13500416 rows in 263.31s; chunk in 1.36s (48306 rows/s); X\u0000:14343109\n",
      "[vcf_to_zarr] 13565952 rows in 264.65s; chunk in 1.34s (48877 rows/s); X\u0000:14412825\n",
      "[vcf_to_zarr] 13631488 rows in 265.95s; chunk in 1.30s (50300 rows/s); X\u0000:14481474\n",
      "[vcf_to_zarr] 13697024 rows in 267.25s; chunk in 1.30s (50537 rows/s); X\u0000:14549945\n",
      "[vcf_to_zarr] 13762560 rows in 268.58s; chunk in 1.33s (49118 rows/s); X\u0000:14618492\n",
      "[vcf_to_zarr] 13828096 rows in 270.00s; chunk in 1.42s (46278 rows/s); X\u0000:14687940\n",
      "[vcf_to_zarr] 13893632 rows in 271.42s; chunk in 1.42s (46034 rows/s); X\u0000:14756653\n",
      "[vcf_to_zarr] 13959168 rows in 272.80s; chunk in 1.38s (47656 rows/s); X\u0000:14825426\n",
      "[vcf_to_zarr] 14024704 rows in 274.20s; chunk in 1.40s (46713 rows/s); X\u0000:14894671\n",
      "[vcf_to_zarr] 14090240 rows in 275.52s; chunk in 1.32s (49465 rows/s); X\u0000:14963088\n",
      "[vcf_to_zarr] 14155776 rows in 276.70s; chunk in 1.17s (55856 rows/s); X\u0000:15029612\n",
      "[vcf_to_zarr] 14221312 rows in 277.79s; chunk in 1.09s (60150 rows/s); X\u0000:15095818\n",
      "[vcf_to_zarr] 14286848 rows in 279.02s; chunk in 1.23s (53126 rows/s); X\u0000:15163106\n",
      "[vcf_to_zarr] 14352384 rows in 280.27s; chunk in 1.25s (52313 rows/s); X\u0000:15230249\n",
      "[vcf_to_zarr] 14417920 rows in 281.53s; chunk in 1.26s (52145 rows/s); X\u0000:15297006\n",
      "[vcf_to_zarr] 14483456 rows in 282.81s; chunk in 1.28s (51357 rows/s); X\u0000:15364017\n",
      "[vcf_to_zarr] 14548992 rows in 284.05s; chunk in 1.25s (52484 rows/s); X\u0000:15430980\n",
      "[vcf_to_zarr] 14614528 rows in 285.37s; chunk in 1.31s (49867 rows/s); X\u0000:15498023\n",
      "[vcf_to_zarr] 14680064 rows in 286.67s; chunk in 1.30s (50484 rows/s); X\u0000:15566037\n",
      "[vcf_to_zarr] 14745600 rows in 287.95s; chunk in 1.28s (51215 rows/s); X\u0000:15633583\n",
      "[vcf_to_zarr] 14811136 rows in 289.18s; chunk in 1.24s (52976 rows/s); X\u0000:15701030\n",
      "[vcf_to_zarr] 14876672 rows in 290.46s; chunk in 1.28s (51358 rows/s); X\u0000:15768597\n",
      "[vcf_to_zarr] 14942208 rows in 291.74s; chunk in 1.28s (51249 rows/s); X\u0000:15835848\n",
      "[vcf_to_zarr] 15007744 rows in 293.03s; chunk in 1.29s (50889 rows/s); X\u0000:15903427\n",
      "[vcf_to_zarr] 15073280 rows in 294.34s; chunk in 1.31s (49864 rows/s); X\u0000:15971469\n",
      "[vcf_to_zarr] 15138816 rows in 295.69s; chunk in 1.35s (48521 rows/s); X\u0000:16040235\n",
      "[vcf_to_zarr] 15204352 rows in 297.07s; chunk in 1.38s (47615 rows/s); X\u0000:16108599\n",
      "[vcf_to_zarr] 15269888 rows in 298.40s; chunk in 1.33s (49227 rows/s); X\u0000:16177252\n",
      "[vcf_to_zarr] 15335424 rows in 299.75s; chunk in 1.36s (48363 rows/s); X\u0000:16247193\n",
      "[vcf_to_zarr] 15400960 rows in 301.09s; chunk in 1.33s (49231 rows/s); X\u0000:16315277\n",
      "[vcf_to_zarr] 15466496 rows in 302.34s; chunk in 1.26s (52168 rows/s); X\u0000:16383134\n",
      "[vcf_to_zarr] 15532032 rows in 303.62s; chunk in 1.28s (51112 rows/s); X\u0000:16450467\n",
      "[vcf_to_zarr] 15597568 rows in 304.93s; chunk in 1.30s (50315 rows/s); X\u0000:16518199\n",
      "[vcf_to_zarr] 15663104 rows in 306.20s; chunk in 1.27s (51496 rows/s); X\u0000:16586046\n",
      "[vcf_to_zarr] 15728640 rows in 307.45s; chunk in 1.25s (52222 rows/s); X\u0000:16653527\n",
      "[vcf_to_zarr] 15794176 rows in 308.74s; chunk in 1.29s (50981 rows/s); X\u0000:16721172\n",
      "[vcf_to_zarr] 15859712 rows in 310.03s; chunk in 1.29s (50664 rows/s); X\u0000:16789376\n",
      "[vcf_to_zarr] 15925248 rows in 311.29s; chunk in 1.26s (52118 rows/s); X\u0000:16856799\n",
      "[vcf_to_zarr] 15990784 rows in 312.54s; chunk in 1.25s (52492 rows/s); X\u0000:16924874\n",
      "[vcf_to_zarr] 16056320 rows in 313.73s; chunk in 1.19s (54912 rows/s); X\u0000:16993729\n",
      "[vcf_to_zarr] 16121856 rows in 314.86s; chunk in 1.12s (58324 rows/s); X\u0000:17061173\n",
      "[vcf_to_zarr] 16187392 rows in 315.98s; chunk in 1.13s (58057 rows/s); X\u0000:17129313\n",
      "[vcf_to_zarr] 16252928 rows in 317.06s; chunk in 1.08s (60924 rows/s); X\u0000:17196847\n",
      "[vcf_to_zarr] 16318464 rows in 318.17s; chunk in 1.11s (58859 rows/s); X\u0000:17264153\n",
      "[vcf_to_zarr] 16384000 rows in 319.39s; chunk in 1.21s (54093 rows/s); X\u0000:17331962\n",
      "[vcf_to_zarr] 16449536 rows in 320.54s; chunk in 1.15s (56865 rows/s); X\u0000:17399474\n",
      "[vcf_to_zarr] 16515072 rows in 321.63s; chunk in 1.09s (60159 rows/s); X\u0000:17467137\n",
      "[vcf_to_zarr] 16580608 rows in 322.74s; chunk in 1.11s (59027 rows/s); X\u0000:17534944\n",
      "[vcf_to_zarr] 16646144 rows in 323.88s; chunk in 1.14s (57425 rows/s); X\u0000:17602888\n",
      "[vcf_to_zarr] 16711680 rows in 324.99s; chunk in 1.11s (58915 rows/s); X\u0000:17671049\n",
      "[vcf_to_zarr] 16777216 rows in 326.10s; chunk in 1.11s (59094 rows/s); X\u0000:17738478\n",
      "[vcf_to_zarr] 16842752 rows in 327.25s; chunk in 1.15s (56835 rows/s); X\u0000:17805940\n",
      "[vcf_to_zarr] 16908288 rows in 328.38s; chunk in 1.13s (58020 rows/s); X\u0000:17872925\n",
      "[vcf_to_zarr] 16973824 rows in 329.55s; chunk in 1.17s (56139 rows/s); X\u0000:17940604\n",
      "[vcf_to_zarr] 17039360 rows in 330.73s; chunk in 1.18s (55649 rows/s); X\u0000:18007984\n",
      "[vcf_to_zarr] 17104896 rows in 331.91s; chunk in 1.18s (55477 rows/s); X\u0000:18076191\n",
      "[vcf_to_zarr] 17170432 rows in 333.05s; chunk in 1.14s (57559 rows/s); X\u0000:18143272\n",
      "[vcf_to_zarr] 17235968 rows in 334.22s; chunk in 1.17s (56094 rows/s); X\u0000:18210661\n",
      "[vcf_to_zarr] 17301504 rows in 335.41s; chunk in 1.19s (54848 rows/s); X\u0000:18277928\n",
      "[vcf_to_zarr] 17367040 rows in 336.65s; chunk in 1.23s (53074 rows/s); X\u0000:18345722\n",
      "[vcf_to_zarr] 17432576 rows in 337.86s; chunk in 1.22s (53864 rows/s); X\u0000:18413469\n",
      "[vcf_to_zarr] 17498112 rows in 339.02s; chunk in 1.16s (56646 rows/s); X\u0000:18480544\n",
      "[vcf_to_zarr] 17563648 rows in 340.17s; chunk in 1.15s (56819 rows/s); X\u0000:18548423\n",
      "[vcf_to_zarr] 17629184 rows in 341.30s; chunk in 1.13s (58203 rows/s); X\u0000:18615542\n",
      "[vcf_to_zarr] 17694720 rows in 342.43s; chunk in 1.13s (57880 rows/s); X\u0000:18683032\n",
      "[vcf_to_zarr] 17760256 rows in 343.51s; chunk in 1.08s (60801 rows/s); X\u0000:18750080\n",
      "[vcf_to_zarr] 17825792 rows in 344.62s; chunk in 1.11s (58791 rows/s); X\u0000:18816961\n",
      "[vcf_to_zarr] 17891328 rows in 345.75s; chunk in 1.13s (58202 rows/s); X\u0000:18884315\n",
      "[vcf_to_zarr] 17956864 rows in 346.99s; chunk in 1.24s (52887 rows/s); X\u0000:18951070\n",
      "[vcf_to_zarr] 18022400 rows in 348.11s; chunk in 1.12s (58303 rows/s); X\u0000:19018286\n",
      "[vcf_to_zarr] 18087936 rows in 349.22s; chunk in 1.10s (59311 rows/s); X\u0000:19085405\n",
      "[vcf_to_zarr] 18153472 rows in 350.39s; chunk in 1.17s (55908 rows/s); X\u0000:19152560\n",
      "[vcf_to_zarr] 18219008 rows in 351.51s; chunk in 1.12s (58442 rows/s); X\u0000:19219458\n",
      "[vcf_to_zarr] 18284544 rows in 352.61s; chunk in 1.10s (59811 rows/s); X\u0000:19286197\n",
      "[vcf_to_zarr] 18350080 rows in 353.77s; chunk in 1.17s (56169 rows/s); X\u0000:19353162\n",
      "[vcf_to_zarr] 18415616 rows in 354.93s; chunk in 1.16s (56613 rows/s); X\u0000:19419790\n",
      "[vcf_to_zarr] 18481152 rows in 356.10s; chunk in 1.17s (56147 rows/s); X\u0000:19486738\n",
      "[vcf_to_zarr] 18546688 rows in 357.21s; chunk in 1.12s (58757 rows/s); X\u0000:19554159\n",
      "[vcf_to_zarr] 18612224 rows in 358.33s; chunk in 1.11s (58815 rows/s); X\u0000:19620811\n",
      "[vcf_to_zarr] 18677760 rows in 359.42s; chunk in 1.09s (60083 rows/s); X\u0000:19687503\n",
      "[vcf_to_zarr] 18743296 rows in 360.49s; chunk in 1.07s (61088 rows/s); X\u0000:19754208\n",
      "[vcf_to_zarr] 18808832 rows in 361.56s; chunk in 1.07s (61177 rows/s); X\u0000:19821411\n",
      "[vcf_to_zarr] 18874368 rows in 362.65s; chunk in 1.09s (60396 rows/s); X\u0000:19887680\n",
      "[vcf_to_zarr] 18939904 rows in 363.66s; chunk in 1.01s (64811 rows/s); X\u0000:19954293\n",
      "[vcf_to_zarr] 19005440 rows in 364.75s; chunk in 1.09s (59994 rows/s); X\u0000:20020631\n",
      "[vcf_to_zarr] 19070976 rows in 365.87s; chunk in 1.12s (58436 rows/s); X\u0000:20087912\n",
      "[vcf_to_zarr] 19136512 rows in 367.04s; chunk in 1.17s (56178 rows/s); X\u0000:20154860\n",
      "[vcf_to_zarr] 19202048 rows in 368.06s; chunk in 1.02s (63946 rows/s); X\u0000:20221549\n",
      "[vcf_to_zarr] 19267584 rows in 369.12s; chunk in 1.05s (62269 rows/s); X\u0000:20287958\n",
      "[vcf_to_zarr] 19333120 rows in 370.17s; chunk in 1.05s (62447 rows/s); X\u0000:20354431\n",
      "[vcf_to_zarr] 19398656 rows in 371.22s; chunk in 1.06s (61923 rows/s); X\u0000:20421097\n",
      "[vcf_to_zarr] 19464192 rows in 372.32s; chunk in 1.09s (60036 rows/s); X\u0000:20487657\n",
      "[vcf_to_zarr] 19529728 rows in 373.31s; chunk in 0.99s (66108 rows/s); X\u0000:20553956\n",
      "[vcf_to_zarr] 19595264 rows in 374.32s; chunk in 1.01s (64780 rows/s); X\u0000:20620522\n",
      "[vcf_to_zarr] 19660800 rows in 375.33s; chunk in 1.01s (64683 rows/s); X\u0000:20686872\n",
      "[vcf_to_zarr] 19726336 rows in 376.36s; chunk in 1.03s (63683 rows/s); X\u0000:20753494\n",
      "[vcf_to_zarr] 19791872 rows in 377.39s; chunk in 1.03s (63565 rows/s); X\u0000:20820511\n",
      "[vcf_to_zarr] 19857408 rows in 378.35s; chunk in 0.96s (68294 rows/s); X\u0000:20886777\n",
      "[vcf_to_zarr] 19922944 rows in 379.39s; chunk in 1.03s (63381 rows/s); X\u0000:20953445\n",
      "[vcf_to_zarr] 19988480 rows in 380.47s; chunk in 1.08s (60462 rows/s); X\u0000:21020241\n",
      "[vcf_to_zarr] 20054016 rows in 381.57s; chunk in 1.10s (59315 rows/s); X\u0000:21086989\n",
      "[vcf_to_zarr] 20119552 rows in 382.65s; chunk in 1.07s (61189 rows/s); X\u0000:21153277\n",
      "[vcf_to_zarr] 20185088 rows in 383.70s; chunk in 1.06s (62100 rows/s); X\u0000:21220049\n",
      "[vcf_to_zarr] 20250624 rows in 384.77s; chunk in 1.07s (61328 rows/s); X\u0000:21287100\n",
      "[vcf_to_zarr] 20316160 rows in 385.80s; chunk in 1.03s (63378 rows/s); X\u0000:21354182\n",
      "[vcf_to_zarr] 20381696 rows in 386.82s; chunk in 1.01s (64602 rows/s); X\u0000:21420866\n",
      "[vcf_to_zarr] 20447232 rows in 387.90s; chunk in 1.08s (60462 rows/s); X\u0000:21487219\n",
      "[vcf_to_zarr] 20512768 rows in 389.00s; chunk in 1.09s (59938 rows/s); X\u0000:21554216\n",
      "[vcf_to_zarr] 20578304 rows in 390.02s; chunk in 1.02s (64249 rows/s); X\u0000:21620495\n",
      "[vcf_to_zarr] 20643840 rows in 391.07s; chunk in 1.05s (62234 rows/s); X\u0000:21687371\n",
      "[vcf_to_zarr] 20709376 rows in 392.13s; chunk in 1.06s (62000 rows/s); X\u0000:21754451\n",
      "[vcf_to_zarr] 20774912 rows in 393.16s; chunk in 1.04s (63144 rows/s); X\u0000:21821540\n",
      "[vcf_to_zarr] 20840448 rows in 394.19s; chunk in 1.03s (63889 rows/s); X\u0000:21887987\n",
      "[vcf_to_zarr] 20905984 rows in 395.26s; chunk in 1.07s (61318 rows/s); X\u0000:21954694\n",
      "[vcf_to_zarr] 20971520 rows in 396.33s; chunk in 1.07s (61115 rows/s); X\u0000:22021221\n",
      "[vcf_to_zarr] 21037056 rows in 397.43s; chunk in 1.10s (59437 rows/s); X\u0000:22087885\n",
      "[vcf_to_zarr] 21102592 rows in 398.54s; chunk in 1.11s (59268 rows/s); X\u0000:22154555\n",
      "[vcf_to_zarr] 21168128 rows in 399.65s; chunk in 1.11s (59224 rows/s); X\u0000:22221878\n",
      "[vcf_to_zarr] 21233664 rows in 400.77s; chunk in 1.12s (58465 rows/s); X\u0000:22289212\n",
      "[vcf_to_zarr] 21299200 rows in 401.84s; chunk in 1.07s (61039 rows/s); X\u0000:22355655\n",
      "[vcf_to_zarr] 21364736 rows in 402.95s; chunk in 1.11s (58938 rows/s); X\u0000:22422554\n",
      "[vcf_to_zarr] 21430272 rows in 404.02s; chunk in 1.07s (61107 rows/s); X\u0000:22489154\n",
      "[vcf_to_zarr] 21495808 rows in 405.13s; chunk in 1.11s (59032 rows/s); X\u0000:22555760\n",
      "[vcf_to_zarr] 21561344 rows in 406.10s; chunk in 0.97s (67763 rows/s); X\u0000:22622006\n",
      "[vcf_to_zarr] 21626880 rows in 407.04s; chunk in 0.94s (69964 rows/s); X\u0000:22688377\n",
      "[vcf_to_zarr] 21692416 rows in 408.00s; chunk in 0.96s (68332 rows/s); X\u0000:22754561\n",
      "[vcf_to_zarr] 21757952 rows in 409.10s; chunk in 1.10s (59668 rows/s); X\u0000:22821374\n",
      "[vcf_to_zarr] 21823488 rows in 410.31s; chunk in 1.22s (53871 rows/s); X\u0000:22888448\n",
      "[vcf_to_zarr] 21889024 rows in 411.42s; chunk in 1.11s (59223 rows/s); X\u0000:22954719\n",
      "[vcf_to_zarr] 21954560 rows in 412.56s; chunk in 1.14s (57503 rows/s); X\u0000:23022154\n",
      "[vcf_to_zarr] 22020096 rows in 413.61s; chunk in 1.05s (62598 rows/s); X\u0000:23088938\n",
      "[vcf_to_zarr] 22085632 rows in 414.59s; chunk in 0.99s (66232 rows/s); X\u0000:23155320\n",
      "[vcf_to_zarr] 22151168 rows in 415.53s; chunk in 0.94s (69845 rows/s); X\u0000:23221632\n",
      "[vcf_to_zarr] 22216704 rows in 416.58s; chunk in 1.05s (62506 rows/s); X\u0000:23288393\n",
      "[vcf_to_zarr] 22282240 rows in 417.68s; chunk in 1.09s (59892 rows/s); X\u0000:23355188\n",
      "[vcf_to_zarr] 22347776 rows in 418.91s; chunk in 1.23s (53259 rows/s); X\u0000:23422566\n",
      "[vcf_to_zarr] 22413312 rows in 420.02s; chunk in 1.12s (58757 rows/s); X\u0000:23489348\n",
      "[vcf_to_zarr] 22478848 rows in 421.13s; chunk in 1.11s (59276 rows/s); X\u0000:23556137\n",
      "[vcf_to_zarr] 22544384 rows in 422.17s; chunk in 1.04s (62944 rows/s); X\u0000:23623017\n",
      "[vcf_to_zarr] 22609920 rows in 423.25s; chunk in 1.08s (60753 rows/s); X\u0000:23689504\n",
      "[vcf_to_zarr] 22675456 rows in 424.44s; chunk in 1.19s (55077 rows/s); X\u0000:23756532\n",
      "[vcf_to_zarr] 22740992 rows in 425.57s; chunk in 1.14s (57605 rows/s); X\u0000:23823219\n",
      "[vcf_to_zarr] 22806528 rows in 426.70s; chunk in 1.13s (58023 rows/s); X\u0000:23889959\n",
      "[vcf_to_zarr] 22872064 rows in 427.68s; chunk in 0.97s (67381 rows/s); X\u0000:23955947\n",
      "[vcf_to_zarr] 22937600 rows in 428.75s; chunk in 1.07s (61046 rows/s); X\u0000:24022275\n",
      "[vcf_to_zarr] 23003136 rows in 429.81s; chunk in 1.06s (62106 rows/s); X\u0000:24088818\n",
      "[vcf_to_zarr] 23068672 rows in 431.00s; chunk in 1.19s (54907 rows/s); X\u0000:24155156\n",
      "[vcf_to_zarr] 23134208 rows in 432.08s; chunk in 1.08s (60695 rows/s); X\u0000:24221812\n",
      "[vcf_to_zarr] 23199744 rows in 433.17s; chunk in 1.10s (59812 rows/s); X\u0000:24288066\n",
      "[vcf_to_zarr] 23265280 rows in 434.29s; chunk in 1.11s (58800 rows/s); X\u0000:24354882\n",
      "[vcf_to_zarr] 23302924 rows in 435.22s; chunk in 0.93s (40500 rows/s)\n",
      "[vcf_to_zarr] all done (53503 rows/s)\n"
     ]
    }
   ],
   "source": [
    "vcf_path = 'data/vcf/ag1000/chrX_36Ag_allsites.vcf.gz'\n",
    "zarr_path = 'data/vcf/ag1000/chrX_36Ag_allsites.zarr'\n",
    "\n",
    "print(zarr_path)\n",
    "\n",
    "allel.vcf_to_zarr(vcf_path, zarr_path, group='chrX', fields='*', log=sys.stdout, overwrite=True)"
   ]
  },
  {
   "cell_type": "code",
   "execution_count": 7,
   "metadata": {},
   "outputs": [
    {
     "data": {
      "text/html": [
       "<link rel=\"stylesheet\" href=\"//cdnjs.cloudflare.com/ajax/libs/jstree/3.3.3/themes/default/style.min.css\"/><div id=\"93fce592-4d2f-477e-a6d1-97769f000467\" class=\"zarr-tree\"><ul><li data-jstree='{\"type\": \"Group\"}' class='jstree-open'><span>/</span><ul><li data-jstree='{\"type\": \"Group\"}' class='jstree-open'><span>chrX</span><ul><li data-jstree='{\"type\": \"Group\"}' class='jstree-open'><span>calldata</span><ul><li data-jstree='{\"type\": \"Array\"}' class='jstree-open'><span>AD (23302924, 36, 4) int16</span></li><li data-jstree='{\"type\": \"Array\"}' class='jstree-open'><span>DP (23302924, 36) int16</span></li><li data-jstree='{\"type\": \"Array\"}' class='jstree-open'><span>GQ (23302924, 36) int8</span></li><li data-jstree='{\"type\": \"Array\"}' class='jstree-open'><span>GT (23302924, 36, 2) int8</span></li><li data-jstree='{\"type\": \"Array\"}' class='jstree-open'><span>MIN_DP (23302924, 36) int32</span></li><li data-jstree='{\"type\": \"Array\"}' class='jstree-open'><span>PGT (23302924, 36) object</span></li><li data-jstree='{\"type\": \"Array\"}' class='jstree-open'><span>PID (23302924, 36) object</span></li><li data-jstree='{\"type\": \"Array\"}' class='jstree-open'><span>PL (23302924, 36, 3) int32</span></li><li data-jstree='{\"type\": \"Array\"}' class='jstree-open'><span>RGQ (23302924, 36) int32</span></li><li data-jstree='{\"type\": \"Array\"}' class='jstree-open'><span>SB (23302924, 36, 4) int32</span></li></ul></li><li data-jstree='{\"type\": \"Array\"}' class='jstree-open'><span>samples (36,) object</span></li><li data-jstree='{\"type\": \"Group\"}' class='jstree-open'><span>variants</span><ul><li data-jstree='{\"type\": \"Array\"}' class='jstree-open'><span>AC (23302924, 3) int32</span></li><li data-jstree='{\"type\": \"Array\"}' class='jstree-open'><span>AF (23302924, 3) float32</span></li><li data-jstree='{\"type\": \"Array\"}' class='jstree-open'><span>ALT (23302924, 3) object</span></li><li data-jstree='{\"type\": \"Array\"}' class='jstree-open'><span>AN (23302924,) int32</span></li><li data-jstree='{\"type\": \"Array\"}' class='jstree-open'><span>BaseQRankSum (23302924,) float32</span></li><li data-jstree='{\"type\": \"Array\"}' class='jstree-open'><span>CHROM (23302924,) object</span></li><li data-jstree='{\"type\": \"Array\"}' class='jstree-open'><span>DP (23302924,) int32</span></li><li data-jstree='{\"type\": \"Array\"}' class='jstree-open'><span>DS (23302924,) bool</span></li><li data-jstree='{\"type\": \"Array\"}' class='jstree-open'><span>END (23302924,) int32</span></li><li data-jstree='{\"type\": \"Array\"}' class='jstree-open'><span>ExcessHet (23302924,) float32</span></li><li data-jstree='{\"type\": \"Array\"}' class='jstree-open'><span>FILTER_LowQual (23302924,) bool</span></li><li data-jstree='{\"type\": \"Array\"}' class='jstree-open'><span>FILTER_PASS (23302924,) bool</span></li><li data-jstree='{\"type\": \"Array\"}' class='jstree-open'><span>FS (23302924,) float32</span></li><li data-jstree='{\"type\": \"Array\"}' class='jstree-open'><span>ID (23302924,) object</span></li><li data-jstree='{\"type\": \"Array\"}' class='jstree-open'><span>InbreedingCoeff (23302924,) float32</span></li><li data-jstree='{\"type\": \"Array\"}' class='jstree-open'><span>MLEAC (23302924, 3) int32</span></li><li data-jstree='{\"type\": \"Array\"}' class='jstree-open'><span>MLEAF (23302924, 3) float32</span></li><li data-jstree='{\"type\": \"Array\"}' class='jstree-open'><span>MQ (23302924,) float32</span></li><li data-jstree='{\"type\": \"Array\"}' class='jstree-open'><span>MQRankSum (23302924,) float32</span></li><li data-jstree='{\"type\": \"Array\"}' class='jstree-open'><span>POS (23302924,) int32</span></li><li data-jstree='{\"type\": \"Array\"}' class='jstree-open'><span>QD (23302924,) float32</span></li><li data-jstree='{\"type\": \"Array\"}' class='jstree-open'><span>QUAL (23302924,) float32</span></li><li data-jstree='{\"type\": \"Array\"}' class='jstree-open'><span>RAW_MQ (23302924,) float32</span></li><li data-jstree='{\"type\": \"Array\"}' class='jstree-open'><span>REF (23302924,) object</span></li><li data-jstree='{\"type\": \"Array\"}' class='jstree-open'><span>ReadPosRankSum (23302924,) float32</span></li><li data-jstree='{\"type\": \"Array\"}' class='jstree-open'><span>SOR (23302924,) float32</span></li><li data-jstree='{\"type\": \"Array\"}' class='jstree-open'><span>altlen (23302924, 3) int32</span></li><li data-jstree='{\"type\": \"Array\"}' class='jstree-open'><span>is_snp (23302924,) bool</span></li><li data-jstree='{\"type\": \"Array\"}' class='jstree-open'><span>numalt (23302924,) int32</span></li></ul></li></ul></li></ul></li></ul></div>\n",
       "<script>\n",
       "    if (!require.defined('jquery')) {\n",
       "        require.config({\n",
       "            paths: {\n",
       "                jquery: '//cdnjs.cloudflare.com/ajax/libs/jquery/1.12.1/jquery.min'\n",
       "            },\n",
       "        });\n",
       "    }\n",
       "    if (!require.defined('jstree')) {\n",
       "        require.config({\n",
       "            paths: {\n",
       "                jstree: '//cdnjs.cloudflare.com/ajax/libs/jstree/3.3.3/jstree.min'\n",
       "            },\n",
       "        });\n",
       "    }\n",
       "    require(['jstree'], function() {\n",
       "        $('#93fce592-4d2f-477e-a6d1-97769f000467').jstree({\n",
       "            types: {\n",
       "                Group: {\n",
       "                    icon: \"fa fa-folder\"\n",
       "                },\n",
       "                Array: {\n",
       "                    icon: \"fa fa-table\"\n",
       "                }\n",
       "            },\n",
       "            plugins: [\"types\"]\n",
       "        });\n",
       "    });\n",
       "</script>\n"
      ],
      "text/plain": [
       "/\n",
       " └── chrX\n",
       "     ├── calldata\n",
       "     │   ├── AD (23302924, 36, 4) int16\n",
       "     │   ├── DP (23302924, 36) int16\n",
       "     │   ├── GQ (23302924, 36) int8\n",
       "     │   ├── GT (23302924, 36, 2) int8\n",
       "     │   ├── MIN_DP (23302924, 36) int32\n",
       "     │   ├── PGT (23302924, 36) object\n",
       "     │   ├── PID (23302924, 36) object\n",
       "     │   ├── PL (23302924, 36, 3) int32\n",
       "     │   ├── RGQ (23302924, 36) int32\n",
       "     │   └── SB (23302924, 36, 4) int32\n",
       "     ├── samples (36,) object\n",
       "     └── variants\n",
       "         ├── AC (23302924, 3) int32\n",
       "         ├── AF (23302924, 3) float32\n",
       "         ├── ALT (23302924, 3) object\n",
       "         ├── AN (23302924,) int32\n",
       "         ├── BaseQRankSum (23302924,) float32\n",
       "         ├── CHROM (23302924,) object\n",
       "         ├── DP (23302924,) int32\n",
       "         ├── DS (23302924,) bool\n",
       "         ├── END (23302924,) int32\n",
       "         ├── ExcessHet (23302924,) float32\n",
       "         ├── FILTER_LowQual (23302924,) bool\n",
       "         ├── FILTER_PASS (23302924,) bool\n",
       "         ├── FS (23302924,) float32\n",
       "         ├── ID (23302924,) object\n",
       "         ├── InbreedingCoeff (23302924,) float32\n",
       "         ├── MLEAC (23302924, 3) int32\n",
       "         ├── MLEAF (23302924, 3) float32\n",
       "         ├── MQ (23302924,) float32\n",
       "         ├── MQRankSum (23302924,) float32\n",
       "         ├── POS (23302924,) int32\n",
       "         ├── QD (23302924,) float32\n",
       "         ├── QUAL (23302924,) float32\n",
       "         ├── RAW_MQ (23302924,) float32\n",
       "         ├── REF (23302924,) object\n",
       "         ├── ReadPosRankSum (23302924,) float32\n",
       "         ├── SOR (23302924,) float32\n",
       "         ├── altlen (23302924, 3) int32\n",
       "         ├── is_snp (23302924,) bool\n",
       "         └── numalt (23302924,) int32"
      ]
     },
     "execution_count": 7,
     "metadata": {},
     "output_type": "execute_result"
    }
   ],
   "source": [
    "# inspect the zarr data\n",
    "\n",
    "callset = zarr.open_group(zarr_path, mode='r')\n",
    "callset.tree(expand=True)"
   ]
  },
  {
   "cell_type": "code",
   "execution_count": 8,
   "metadata": {},
   "outputs": [
    {
     "data": {
      "text/html": [
       "<table class=\"zarr-info\"><tbody><tr><th style=\"text-align: left\">Name</th><td style=\"text-align: left\">/chrX/calldata/GT</td></tr><tr><th style=\"text-align: left\">Type</th><td style=\"text-align: left\">zarr.core.Array</td></tr><tr><th style=\"text-align: left\">Data type</th><td style=\"text-align: left\">int8</td></tr><tr><th style=\"text-align: left\">Shape</th><td style=\"text-align: left\">(23302924, 36, 2)</td></tr><tr><th style=\"text-align: left\">Chunk shape</th><td style=\"text-align: left\">(65536, 36, 2)</td></tr><tr><th style=\"text-align: left\">Order</th><td style=\"text-align: left\">C</td></tr><tr><th style=\"text-align: left\">Read-only</th><td style=\"text-align: left\">True</td></tr><tr><th style=\"text-align: left\">Compressor</th><td style=\"text-align: left\">Blosc(cname='lz4', clevel=5, shuffle=SHUFFLE, blocksize=0)</td></tr><tr><th style=\"text-align: left\">Store type</th><td style=\"text-align: left\">zarr.storage.DirectoryStore</td></tr><tr><th style=\"text-align: left\">No. bytes</th><td style=\"text-align: left\">1677810528 (1.6G)</td></tr><tr><th style=\"text-align: left\">No. bytes stored</th><td style=\"text-align: left\">89336639 (85.2M)</td></tr><tr><th style=\"text-align: left\">Storage ratio</th><td style=\"text-align: left\">18.8</td></tr><tr><th style=\"text-align: left\">Chunks initialized</th><td style=\"text-align: left\">356/356</td></tr></tbody></table>"
      ],
      "text/plain": [
       "Name               : /chrX/calldata/GT\n",
       "Type               : zarr.core.Array\n",
       "Data type          : int8\n",
       "Shape              : (23302924, 36, 2)\n",
       "Chunk shape        : (65536, 36, 2)\n",
       "Order              : C\n",
       "Read-only          : True\n",
       "Compressor         : Blosc(cname='lz4', clevel=5, shuffle=SHUFFLE, blocksize=0)\n",
       "Store type         : zarr.storage.DirectoryStore\n",
       "No. bytes          : 1677810528 (1.6G)\n",
       "No. bytes stored   : 89336639 (85.2M)\n",
       "Storage ratio      : 18.8\n",
       "Chunks initialized : 356/356"
      ]
     },
     "execution_count": 8,
     "metadata": {},
     "output_type": "execute_result"
    }
   ],
   "source": [
    "# diagnostics on the zarr genotype array.\n",
    "\n",
    "\n",
    "gt_zarr = callset[chromosome + '/calldata/GT']\n",
    "gt_zarr.info"
   ]
  },
  {
   "cell_type": "code",
   "execution_count": 30,
   "metadata": {},
   "outputs": [
    {
     "data": {
      "text/html": [
       "<div class=\"allel allel-DisplayAs1D\"><span>&lt;SortedIndex shape=(23302924,) dtype=int32&gt;</span><table><thead><tr><th style=\"text-align: center\">0</th><th style=\"text-align: center\">1</th><th style=\"text-align: center\">2</th><th style=\"text-align: center\">3</th><th style=\"text-align: center\">4</th><th style=\"text-align: center\">...</th><th style=\"text-align: center\">23302919</th><th style=\"text-align: center\">23302920</th><th style=\"text-align: center\">23302921</th><th style=\"text-align: center\">23302922</th><th style=\"text-align: center\">23302923</th></tr></thead><tbody><tr><td style=\"text-align: center\">1</td><td style=\"text-align: center\">2</td><td style=\"text-align: center\">3</td><td style=\"text-align: center\">4</td><td style=\"text-align: center\">5</td><td style=\"text-align: center\">...</td><td style=\"text-align: center\">24393104</td><td style=\"text-align: center\">24393105</td><td style=\"text-align: center\">24393106</td><td style=\"text-align: center\">24393107</td><td style=\"text-align: center\">24393108</td></tr></tbody></table></div>"
      ],
      "text/plain": [
       "<SortedIndex shape=(23302924,) dtype=int32>\n",
       "[1, 2, 3, 4, 5, ..., 24393104, 24393105, 24393106, 24393107, 24393108]"
      ]
     },
     "execution_count": 30,
     "metadata": {},
     "output_type": "execute_result"
    }
   ],
   "source": [
    "# get genotypes from specific positions\n",
    "# first, list all the positions\n",
    "pos = allel.SortedIndex(callset[chromosome + '/variants/POS'])\n",
    "pos"
   ]
  },
  {
   "cell_type": "code",
   "execution_count": 31,
   "metadata": {},
   "outputs": [
    {
     "data": {
      "text/plain": [
       "slice(0, 19214, None)"
      ]
     },
     "execution_count": 31,
     "metadata": {},
     "output_type": "execute_result"
    }
   ],
   "source": [
    "# use the 'pos' object to create a slice for a specific region\n",
    "# e.g. 1:19999 in this case\n",
    "loc_region = pos.locate_range(0, 20000)\n",
    "loc_region"
   ]
  },
  {
   "cell_type": "code",
   "execution_count": 33,
   "metadata": {},
   "outputs": [
    {
     "data": {
      "text/html": [
       "<div class=\"allel allel-DisplayAs2D\"><span>&lt;GenotypeArray shape=(19214, 36, 2) dtype=int8&gt;</span><table><thead><tr><th></th><th style=\"text-align: center\">0</th><th style=\"text-align: center\">1</th><th style=\"text-align: center\">2</th><th style=\"text-align: center\">3</th><th style=\"text-align: center\">4</th><th style=\"text-align: center\">...</th><th style=\"text-align: center\">31</th><th style=\"text-align: center\">32</th><th style=\"text-align: center\">33</th><th style=\"text-align: center\">34</th><th style=\"text-align: center\">35</th></tr></thead><tbody><tr><th style=\"text-align: center; background-color: white; border-right: 1px solid black; \">0</th><td style=\"text-align: center\">0/0</td><td style=\"text-align: center\">0/0</td><td style=\"text-align: center\">0/0</td><td style=\"text-align: center\">0/0</td><td style=\"text-align: center\">0/0</td><td style=\"text-align: center\">...</td><td style=\"text-align: center\">0/0</td><td style=\"text-align: center\">0/0</td><td style=\"text-align: center\">0/0</td><td style=\"text-align: center\">0/0</td><td style=\"text-align: center\">0/0</td></tr><tr><th style=\"text-align: center; background-color: white; border-right: 1px solid black; \">1</th><td style=\"text-align: center\">0/0</td><td style=\"text-align: center\">0/0</td><td style=\"text-align: center\">0/0</td><td style=\"text-align: center\">0/0</td><td style=\"text-align: center\">0/0</td><td style=\"text-align: center\">...</td><td style=\"text-align: center\">0/0</td><td style=\"text-align: center\">0/0</td><td style=\"text-align: center\">0/0</td><td style=\"text-align: center\">0/0</td><td style=\"text-align: center\">0/0</td></tr><tr><th style=\"text-align: center; background-color: white; border-right: 1px solid black; \">2</th><td style=\"text-align: center\">0/0</td><td style=\"text-align: center\">0/0</td><td style=\"text-align: center\">0/0</td><td style=\"text-align: center\">0/0</td><td style=\"text-align: center\">0/0</td><td style=\"text-align: center\">...</td><td style=\"text-align: center\">0/0</td><td style=\"text-align: center\">0/0</td><td style=\"text-align: center\">0/0</td><td style=\"text-align: center\">0/0</td><td style=\"text-align: center\">0/0</td></tr><tr><th style=\"text-align: center; background-color: white; border-right: 1px solid black; \">...</th><td style=\"text-align: center\" colspan=\"12\">...</td></tr><tr><th style=\"text-align: center; background-color: white; border-right: 1px solid black; \">19211</th><td style=\"text-align: center\">0/0</td><td style=\"text-align: center\">0/0</td><td style=\"text-align: center\">0/0</td><td style=\"text-align: center\">0/0</td><td style=\"text-align: center\">0/0</td><td style=\"text-align: center\">...</td><td style=\"text-align: center\">0/0</td><td style=\"text-align: center\">0/0</td><td style=\"text-align: center\">0/0</td><td style=\"text-align: center\">0/0</td><td style=\"text-align: center\">0/0</td></tr><tr><th style=\"text-align: center; background-color: white; border-right: 1px solid black; \">19212</th><td style=\"text-align: center\">0/0</td><td style=\"text-align: center\">0/0</td><td style=\"text-align: center\">0/0</td><td style=\"text-align: center\">0/0</td><td style=\"text-align: center\">0/0</td><td style=\"text-align: center\">...</td><td style=\"text-align: center\">0/0</td><td style=\"text-align: center\">0/0</td><td style=\"text-align: center\">0/0</td><td style=\"text-align: center\">0/0</td><td style=\"text-align: center\">0/0</td></tr><tr><th style=\"text-align: center; background-color: white; border-right: 1px solid black; \">19213</th><td style=\"text-align: center\">0/0</td><td style=\"text-align: center\">0/0</td><td style=\"text-align: center\">0/0</td><td style=\"text-align: center\">0/0</td><td style=\"text-align: center\">0/0</td><td style=\"text-align: center\">...</td><td style=\"text-align: center\">0/0</td><td style=\"text-align: center\">0/0</td><td style=\"text-align: center\">0/0</td><td style=\"text-align: center\">0/0</td><td style=\"text-align: center\">0/0</td></tr></tbody></table></div>"
      ],
      "text/plain": [
       "<GenotypeArray shape=(19214, 36, 2) dtype=int8>\n",
       "0/0 0/0 0/0 0/0 0/0 ... 0/0 0/0 0/0 0/0 0/0\n",
       "0/0 0/0 0/0 0/0 0/0 ... 0/0 0/0 0/0 0/0 0/0\n",
       "0/0 0/0 0/0 0/0 0/0 ... 0/0 0/0 0/0 0/0 0/0\n",
       "...\n",
       "0/0 0/0 0/0 0/0 0/0 ... 0/0 0/0 0/0 0/0 0/0\n",
       "0/0 0/0 0/0 0/0 0/0 ... 0/0 0/0 0/0 0/0 0/0\n",
       "0/0 0/0 0/0 0/0 0/0 ... 0/0 0/0 0/0 0/0 0/0"
      ]
     },
     "execution_count": 33,
     "metadata": {},
     "output_type": "execute_result"
    }
   ],
   "source": [
    "# once we have the slice, we can use it to subset the zarr array\n",
    "# nice!\n",
    "gt_region = allel.GenotypeArray(gt_zarr[loc_region])\n",
    "gt_region"
   ]
  },
  {
   "cell_type": "code",
   "execution_count": 34,
   "metadata": {},
   "outputs": [
    {
     "ename": "ValueError",
     "evalue": "Unknown input type",
     "output_type": "error",
     "traceback": [
      "\u001b[0;31m---------------------------------------------------------------------------\u001b[0m",
      "\u001b[0;31mValueError\u001b[0m                                Traceback (most recent call last)",
      "\u001b[0;32m<ipython-input-34-73b35eb48fbc>\u001b[0m in \u001b[0;36m<module>\u001b[0;34m\u001b[0m\n\u001b[0;32m----> 1\u001b[0;31m \u001b[0mallel\u001b[0m\u001b[0;34m.\u001b[0m\u001b[0mVariantTable\u001b[0m\u001b[0;34m(\u001b[0m\u001b[0mgt_region\u001b[0m\u001b[0;34m)\u001b[0m\u001b[0;34m\u001b[0m\u001b[0;34m\u001b[0m\u001b[0m\n\u001b[0m",
      "\u001b[0;32m~/anaconda3/envs/scikit-allel/lib/python3.6/site-packages/allel/model/ndarray.py\u001b[0m in \u001b[0;36m__init__\u001b[0;34m(self, data, index, copy, **kwargs)\u001b[0m\n\u001b[1;32m   4530\u001b[0m \u001b[0;34m\u001b[0m\u001b[0m\n\u001b[1;32m   4531\u001b[0m     \u001b[0;32mdef\u001b[0m \u001b[0m__init__\u001b[0m\u001b[0;34m(\u001b[0m\u001b[0mself\u001b[0m\u001b[0;34m,\u001b[0m \u001b[0mdata\u001b[0m\u001b[0;34m,\u001b[0m \u001b[0mindex\u001b[0m\u001b[0;34m=\u001b[0m\u001b[0;32mNone\u001b[0m\u001b[0;34m,\u001b[0m \u001b[0mcopy\u001b[0m\u001b[0;34m=\u001b[0m\u001b[0;32mFalse\u001b[0m\u001b[0;34m,\u001b[0m \u001b[0;34m**\u001b[0m\u001b[0mkwargs\u001b[0m\u001b[0;34m)\u001b[0m\u001b[0;34m:\u001b[0m\u001b[0;34m\u001b[0m\u001b[0;34m\u001b[0m\u001b[0m\n\u001b[0;32m-> 4532\u001b[0;31m         \u001b[0msuper\u001b[0m\u001b[0;34m(\u001b[0m\u001b[0mVariantTable\u001b[0m\u001b[0;34m,\u001b[0m \u001b[0mself\u001b[0m\u001b[0;34m)\u001b[0m\u001b[0;34m.\u001b[0m\u001b[0m__init__\u001b[0m\u001b[0;34m(\u001b[0m\u001b[0mdata\u001b[0m\u001b[0;34m,\u001b[0m \u001b[0mcopy\u001b[0m\u001b[0;34m=\u001b[0m\u001b[0mcopy\u001b[0m\u001b[0;34m,\u001b[0m \u001b[0;34m**\u001b[0m\u001b[0mkwargs\u001b[0m\u001b[0;34m)\u001b[0m\u001b[0;34m\u001b[0m\u001b[0;34m\u001b[0m\u001b[0m\n\u001b[0m\u001b[1;32m   4533\u001b[0m         \u001b[0mself\u001b[0m\u001b[0;34m.\u001b[0m\u001b[0mset_index\u001b[0m\u001b[0;34m(\u001b[0m\u001b[0mindex\u001b[0m\u001b[0;34m)\u001b[0m\u001b[0;34m\u001b[0m\u001b[0;34m\u001b[0m\u001b[0m\n\u001b[1;32m   4534\u001b[0m \u001b[0;34m\u001b[0m\u001b[0m\n",
      "\u001b[0;32m~/anaconda3/envs/scikit-allel/lib/python3.6/site-packages/allel/model/ndarray.py\u001b[0m in \u001b[0;36m__init__\u001b[0;34m(self, data, copy, **kwargs)\u001b[0m\n\u001b[1;32m     86\u001b[0m             \u001b[0mvalues\u001b[0m \u001b[0;34m=\u001b[0m \u001b[0mnp\u001b[0m\u001b[0;34m.\u001b[0m\u001b[0mrec\u001b[0m\u001b[0;34m.\u001b[0m\u001b[0mfromarrays\u001b[0m\u001b[0;34m(\u001b[0m\u001b[0marrays\u001b[0m\u001b[0;34m,\u001b[0m \u001b[0mnames\u001b[0m\u001b[0;34m=\u001b[0m\u001b[0mnames\u001b[0m\u001b[0;34m)\u001b[0m\u001b[0;34m\u001b[0m\u001b[0;34m\u001b[0m\u001b[0m\n\u001b[1;32m     87\u001b[0m         \u001b[0;32melse\u001b[0m\u001b[0;34m:\u001b[0m\u001b[0;34m\u001b[0m\u001b[0;34m\u001b[0m\u001b[0m\n\u001b[0;32m---> 88\u001b[0;31m             \u001b[0mvalues\u001b[0m \u001b[0;34m=\u001b[0m \u001b[0mnp\u001b[0m\u001b[0;34m.\u001b[0m\u001b[0mrec\u001b[0m\u001b[0;34m.\u001b[0m\u001b[0marray\u001b[0m\u001b[0;34m(\u001b[0m\u001b[0mdata\u001b[0m\u001b[0;34m,\u001b[0m \u001b[0mcopy\u001b[0m\u001b[0;34m=\u001b[0m\u001b[0mcopy\u001b[0m\u001b[0;34m,\u001b[0m \u001b[0;34m**\u001b[0m\u001b[0mkwargs\u001b[0m\u001b[0;34m)\u001b[0m\u001b[0;34m\u001b[0m\u001b[0;34m\u001b[0m\u001b[0m\n\u001b[0m\u001b[1;32m     89\u001b[0m             \u001b[0mcheck_ndim\u001b[0m\u001b[0;34m(\u001b[0m\u001b[0mvalues\u001b[0m\u001b[0;34m,\u001b[0m \u001b[0;36m1\u001b[0m\u001b[0;34m)\u001b[0m\u001b[0;34m\u001b[0m\u001b[0;34m\u001b[0m\u001b[0m\n\u001b[1;32m     90\u001b[0m         \u001b[0;32mif\u001b[0m \u001b[0;32mnot\u001b[0m \u001b[0mvalues\u001b[0m\u001b[0;34m.\u001b[0m\u001b[0mdtype\u001b[0m\u001b[0;34m.\u001b[0m\u001b[0mnames\u001b[0m\u001b[0;34m:\u001b[0m\u001b[0;34m\u001b[0m\u001b[0;34m\u001b[0m\u001b[0m\n",
      "\u001b[0;32m~/anaconda3/envs/scikit-allel/lib/python3.6/site-packages/numpy/core/records.py\u001b[0m in \u001b[0;36marray\u001b[0;34m(obj, dtype, shape, offset, strides, formats, names, titles, aligned, byteorder, copy)\u001b[0m\n\u001b[1;32m    873\u001b[0m         \u001b[0minterface\u001b[0m \u001b[0;34m=\u001b[0m \u001b[0mgetattr\u001b[0m\u001b[0;34m(\u001b[0m\u001b[0mobj\u001b[0m\u001b[0;34m,\u001b[0m \u001b[0;34m\"__array_interface__\"\u001b[0m\u001b[0;34m,\u001b[0m \u001b[0;32mNone\u001b[0m\u001b[0;34m)\u001b[0m\u001b[0;34m\u001b[0m\u001b[0;34m\u001b[0m\u001b[0m\n\u001b[1;32m    874\u001b[0m         \u001b[0;32mif\u001b[0m \u001b[0minterface\u001b[0m \u001b[0;32mis\u001b[0m \u001b[0;32mNone\u001b[0m \u001b[0;32mor\u001b[0m \u001b[0;32mnot\u001b[0m \u001b[0misinstance\u001b[0m\u001b[0;34m(\u001b[0m\u001b[0minterface\u001b[0m\u001b[0;34m,\u001b[0m \u001b[0mdict\u001b[0m\u001b[0;34m)\u001b[0m\u001b[0;34m:\u001b[0m\u001b[0;34m\u001b[0m\u001b[0;34m\u001b[0m\u001b[0m\n\u001b[0;32m--> 875\u001b[0;31m             \u001b[0;32mraise\u001b[0m \u001b[0mValueError\u001b[0m\u001b[0;34m(\u001b[0m\u001b[0;34m\"Unknown input type\"\u001b[0m\u001b[0;34m)\u001b[0m\u001b[0;34m\u001b[0m\u001b[0;34m\u001b[0m\u001b[0m\n\u001b[0m\u001b[1;32m    876\u001b[0m         \u001b[0mobj\u001b[0m \u001b[0;34m=\u001b[0m \u001b[0msb\u001b[0m\u001b[0;34m.\u001b[0m\u001b[0marray\u001b[0m\u001b[0;34m(\u001b[0m\u001b[0mobj\u001b[0m\u001b[0;34m)\u001b[0m\u001b[0;34m\u001b[0m\u001b[0;34m\u001b[0m\u001b[0m\n\u001b[1;32m    877\u001b[0m         \u001b[0;32mif\u001b[0m \u001b[0mdtype\u001b[0m \u001b[0;32mis\u001b[0m \u001b[0;32mnot\u001b[0m \u001b[0;32mNone\u001b[0m \u001b[0;32mand\u001b[0m \u001b[0;34m(\u001b[0m\u001b[0mobj\u001b[0m\u001b[0;34m.\u001b[0m\u001b[0mdtype\u001b[0m \u001b[0;34m!=\u001b[0m \u001b[0mdtype\u001b[0m\u001b[0;34m)\u001b[0m\u001b[0;34m:\u001b[0m\u001b[0;34m\u001b[0m\u001b[0;34m\u001b[0m\u001b[0m\n",
      "\u001b[0;31mValueError\u001b[0m: Unknown input type"
     ]
    }
   ],
   "source": [
    "allel.VariantTable(gt_region)"
   ]
  },
  {
   "cell_type": "markdown",
   "metadata": {},
   "source": [
    "This all looks very promising!"
   ]
  },
  {
   "cell_type": "markdown",
   "metadata": {},
   "source": [
    "### 2. Filtering Variants\n",
    "\n",
    "We definitely want to be able to filter variants. Looking at the zarr array from above, it appears:\n",
    "\n",
    "- /variants has all the site-level annotations (i.e. INFO fields)\n",
    "- /calldata has the individual genotype annotations (i.e. FORMAT fields)"
   ]
  },
  {
   "cell_type": "code",
   "execution_count": 21,
   "metadata": {},
   "outputs": [
    {
     "data": {
      "text/plain": [
       "array([False, False, False, ..., False, False, False])"
      ]
     },
     "execution_count": 21,
     "metadata": {},
     "output_type": "execute_result"
    }
   ],
   "source": [
    "# e.g. a 1D boolean array indicated if the site is a snp (or an indel, I guess?)\n",
    "\n",
    "is_snp = callset[chromosome + '/variants/is_snp'][:]\n",
    "is_snp"
   ]
  },
  {
   "cell_type": "code",
   "execution_count": 27,
   "metadata": {},
   "outputs": [
    {
     "data": {
      "text/plain": [
       "array([[-1, -1, -1, ..., -1, -1, -1],\n",
       "       [-1, -1, -1, ..., -1, -1, -1],\n",
       "       [-1, -1, -1, ..., -1, -1, -1],\n",
       "       ...,\n",
       "       [-1, -1, -1, ..., -1, -1, -1],\n",
       "       [-1, -1, -1, ..., -1, -1, -1],\n",
       "       [-1, -1, -1, ..., -1, -1, -1]], dtype=int8)"
      ]
     },
     "execution_count": 27,
     "metadata": {},
     "output_type": "execute_result"
    }
   ],
   "source": [
    "# a N-D numeric array for genotype annotations, e.g. depth\n",
    "# rows are individuals, columns are sites\n",
    "\n",
    "geno_dp = callset[chromosome + '/calldata/DP'][:]\n",
    "geno_dp > 22\n",
    "\n",
    "geno_gq = callset[chromosome + '/calldata/GQ'][:]\n",
    "geno_gq\n"
   ]
  },
  {
   "cell_type": "markdown",
   "metadata": {},
   "source": [
    "### A look at GQ vs RGQ\n",
    "\n",
    "For purposes of filtration, we'd like to treat variant and invariant sites as similarly as possible. \n",
    "\n",
    "In an GATK 'allsites' VCF, invariant sites have only four genotype fields: GT, AD, DP, RGQ\n",
    "\n",
    "- GT is the genotype (always 0/0 for invariant sites)\n",
    "- AD is per-allele depth, which is basically redundant with DP for invariant sites\n",
    "- DP the total depth (AD allele 1 + AD allele 2)\n",
    "- RGQ, the \"reference genotype quality\"\n",
    "\n",
    "So, really, we just have DP and RGQ to work with. First question is whether RGQ can be treated \"the same\" as GQ for filtration.\n"
   ]
  },
  {
   "cell_type": "code",
   "execution_count": 23,
   "metadata": {},
   "outputs": [
    {
     "data": {
      "text/plain": [
       "array([[-1, -1, -1, ..., -1, -1, -1],\n",
       "       [-1, -1, -1, ..., -1, -1, -1],\n",
       "       [-1, -1, -1, ..., -1, -1, -1],\n",
       "       ...,\n",
       "       [-1, -1, -1, ..., -1, -1, -1],\n",
       "       [-1, -1, -1, ..., -1, -1, -1],\n",
       "       [-1, -1, -1, ..., -1, -1, -1]], dtype=int8)"
      ]
     },
     "execution_count": 23,
     "metadata": {},
     "output_type": "execute_result"
    }
   ],
   "source": [
    "# the GQ scores\n",
    "# 0/0 ref calls have -1 (which is missing, I take it)\n",
    "\n",
    "geno_gq = callset[chromosome + '/calldata/GQ'][:]\n",
    "geno_gq"
   ]
  },
  {
   "cell_type": "code",
   "execution_count": 24,
   "metadata": {},
   "outputs": [
    {
     "data": {
      "text/plain": [
       "array([[ 75, 108,  99, ...,  99,  66, 105],\n",
       "       [ 75, 108,  99, ...,  99,  66, 105],\n",
       "       [ 75, 108,  99, ...,  99,  66, 105],\n",
       "       ...,\n",
       "       [ -1,  -1,  -1, ...,  -1,  -1,  -1],\n",
       "       [ -1,  -1,  -1, ...,  -1,  -1,  -1],\n",
       "       [ -1,  -1,  -1, ...,  -1,  -1,  -1]], dtype=int32)"
      ]
     },
     "execution_count": 24,
     "metadata": {},
     "output_type": "execute_result"
    }
   ],
   "source": [
    "# the RGQ (reference genotype quality) scores\n",
    "# anything with an alt call has -1 \n",
    "\n",
    "geno_rgq = callset[chromosome + '/calldata/RGQ'][:]\n",
    "geno_rgq"
   ]
  },
  {
   "cell_type": "code",
   "execution_count": 30,
   "metadata": {},
   "outputs": [
    {
     "data": {
      "image/png": "[encoded data removed]",
      "text/plain": [
       "<Figure size 800x640 with 1 Axes>"
      ]
     },
     "metadata": {},
     "output_type": "display_data"
    }
   ],
   "source": [
    "# quick plot of gq and rgq\n",
    "\n",
    "# subsample down to 10000 rows for faster plotting\n",
    "\n",
    "indices = np.random.randint(0,geno_rgq.shape[0], 10000)\n",
    "geno_rgq_sub = geno_rgq[indices]\n",
    "\n",
    "indices = np.random.randint(0,geno_gq.shape[0], 10000)\n",
    "geno_gq_sub = geno_gq[indices]\n",
    "\n",
    "\n",
    "%matplotlib inline\n",
    "\n",
    "fig=plt.figure(figsize=(10, 8), dpi= 80, facecolor='w', edgecolor='k')\n",
    "\n",
    "plt.hist(geno_gq_sub, facecolor='g', alpha=0.5, label = \"GQ\")\n",
    "plt.hist(geno_rgq_sub, facecolor='r', alpha=0.5, label = \"RGQ\")\n",
    "plt.legend(loc='upper right')\n",
    "plt.ylabel('Frequency')\n",
    "plt.xlabel('Quality Score')\n",
    "plt.show()\n"
   ]
  },
  {
   "cell_type": "markdown",
   "metadata": {},
   "source": [
    "### 3. Filtering at the sample level\n",
    "\n",
    "We want to be able to: \n",
    "- Select specific samples \n",
    "- Filter individual genotypes (i.e. not only at the site level)"
   ]
  },
  {
   "cell_type": "code",
   "execution_count": 26,
   "metadata": {},
   "outputs": [
    {
     "data": {
      "text/html": [
       "<div>\n",
       "<style scoped>\n",
       "    .dataframe tbody tr th:only-of-type {\n",
       "        vertical-align: middle;\n",
       "    }\n",
       "\n",
       "    .dataframe tbody tr th {\n",
       "        vertical-align: top;\n",
       "    }\n",
       "\n",
       "    .dataframe thead th {\n",
       "        text-align: right;\n",
       "    }\n",
       "</style>\n",
       "<table border=\"1\" class=\"dataframe\">\n",
       "  <thead>\n",
       "    <tr style=\"text-align: right;\">\n",
       "      <th></th>\n",
       "      <th>sample</th>\n",
       "      <th>id</th>\n",
       "      <th>pop</th>\n",
       "    </tr>\n",
       "  </thead>\n",
       "  <tbody>\n",
       "    <tr>\n",
       "      <th>0</th>\n",
       "      <td>S1</td>\n",
       "      <td>A56</td>\n",
       "      <td>AFC</td>\n",
       "    </tr>\n",
       "    <tr>\n",
       "      <th>1</th>\n",
       "      <td>S2</td>\n",
       "      <td>MV2-25</td>\n",
       "      <td>MV</td>\n",
       "    </tr>\n",
       "    <tr>\n",
       "      <th>2</th>\n",
       "      <td>S3</td>\n",
       "      <td>M14</td>\n",
       "      <td>MC</td>\n",
       "    </tr>\n",
       "    <tr>\n",
       "      <th>3</th>\n",
       "      <td>S4</td>\n",
       "      <td>A60</td>\n",
       "      <td>AFC</td>\n",
       "    </tr>\n",
       "    <tr>\n",
       "      <th>4</th>\n",
       "      <td>S5</td>\n",
       "      <td>M17</td>\n",
       "      <td>MC</td>\n",
       "    </tr>\n",
       "    <tr>\n",
       "      <th>5</th>\n",
       "      <td>S6</td>\n",
       "      <td>A19</td>\n",
       "      <td>AFC</td>\n",
       "    </tr>\n",
       "    <tr>\n",
       "      <th>6</th>\n",
       "      <td>S7</td>\n",
       "      <td>Flag14</td>\n",
       "      <td>FLAG</td>\n",
       "    </tr>\n",
       "    <tr>\n",
       "      <th>7</th>\n",
       "      <td>S8</td>\n",
       "      <td>VY-F16</td>\n",
       "      <td>VY</td>\n",
       "    </tr>\n",
       "    <tr>\n",
       "      <th>8</th>\n",
       "      <td>S9</td>\n",
       "      <td>A12</td>\n",
       "      <td>AFC</td>\n",
       "    </tr>\n",
       "    <tr>\n",
       "      <th>9</th>\n",
       "      <td>S10</td>\n",
       "      <td>A47</td>\n",
       "      <td>A47</td>\n",
       "    </tr>\n",
       "    <tr>\n",
       "      <th>10</th>\n",
       "      <td>S11</td>\n",
       "      <td>A14</td>\n",
       "      <td>AFC</td>\n",
       "    </tr>\n",
       "    <tr>\n",
       "      <th>11</th>\n",
       "      <td>S12</td>\n",
       "      <td>M27</td>\n",
       "      <td>MC</td>\n",
       "    </tr>\n",
       "    <tr>\n",
       "      <th>12</th>\n",
       "      <td>S13</td>\n",
       "      <td>A48</td>\n",
       "      <td>AFC</td>\n",
       "    </tr>\n",
       "    <tr>\n",
       "      <th>13</th>\n",
       "      <td>S14</td>\n",
       "      <td>A49</td>\n",
       "      <td>AFC</td>\n",
       "    </tr>\n",
       "    <tr>\n",
       "      <th>14</th>\n",
       "      <td>S15</td>\n",
       "      <td>A57</td>\n",
       "      <td>AFC</td>\n",
       "    </tr>\n",
       "    <tr>\n",
       "      <th>15</th>\n",
       "      <td>S16</td>\n",
       "      <td>A30</td>\n",
       "      <td>AFC</td>\n",
       "    </tr>\n",
       "    <tr>\n",
       "      <th>16</th>\n",
       "      <td>S17</td>\n",
       "      <td>M20</td>\n",
       "      <td>MC</td>\n",
       "    </tr>\n",
       "    <tr>\n",
       "      <th>17</th>\n",
       "      <td>S18</td>\n",
       "      <td>M15</td>\n",
       "      <td>MC</td>\n",
       "    </tr>\n",
       "    <tr>\n",
       "      <th>18</th>\n",
       "      <td>S19</td>\n",
       "      <td>A24</td>\n",
       "      <td>AFC</td>\n",
       "    </tr>\n",
       "    <tr>\n",
       "      <th>19</th>\n",
       "      <td>S20</td>\n",
       "      <td>M13</td>\n",
       "      <td>MC</td>\n",
       "    </tr>\n",
       "    <tr>\n",
       "      <th>20</th>\n",
       "      <td>S21</td>\n",
       "      <td>M6</td>\n",
       "      <td>MC</td>\n",
       "    </tr>\n",
       "    <tr>\n",
       "      <th>21</th>\n",
       "      <td>S22</td>\n",
       "      <td>A6</td>\n",
       "      <td>AFC</td>\n",
       "    </tr>\n",
       "  </tbody>\n",
       "</table>\n",
       "</div>"
      ],
      "text/plain": [
       "   sample      id   pop\n",
       "0      S1     A56   AFC\n",
       "1      S2  MV2-25    MV\n",
       "2      S3     M14    MC\n",
       "3      S4     A60   AFC\n",
       "4      S5     M17    MC\n",
       "5      S6     A19   AFC\n",
       "6      S7  Flag14  FLAG\n",
       "7      S8  VY-F16    VY\n",
       "8      S9     A12   AFC\n",
       "9     S10     A47   A47\n",
       "10    S11     A14   AFC\n",
       "11    S12     M27    MC\n",
       "12    S13     A48   AFC\n",
       "13    S14     A49   AFC\n",
       "14    S15     A57   AFC\n",
       "15    S16     A30   AFC\n",
       "16    S17     M20    MC\n",
       "17    S18     M15    MC\n",
       "18    S19     A24   AFC\n",
       "19    S20     M13    MC\n",
       "20    S21      M6    MC\n",
       "21    S22      A6   AFC"
      ]
     },
     "execution_count": 26,
     "metadata": {},
     "output_type": "execute_result"
    }
   ],
   "source": [
    "# read in the list of samples/populations\n",
    "\n",
    "import pandas\n",
    "pop_file_path = 'data/vcf/dpse/fasta_samplelist_recode.txt'\n",
    "panel = pandas.read_csv(pop_file_path, sep='\\t', usecols=['sample', 'id', 'pop'])\n",
    "panel"
   ]
  },
  {
   "cell_type": "code",
   "execution_count": 91,
   "metadata": {},
   "outputs": [
    {
     "data": {
      "text/plain": [
       "array(['S1', 'S10', 'S11', 'S12', 'S13', 'S14', 'S15', 'S16', 'S17',\n",
       "       'S18', 'S19', 'S2', 'S20', 'S21', 'S22', 'S3', 'S4', 'S5', 'S6',\n",
       "       'S7', 'S8', 'S9'], dtype=object)"
      ]
     },
     "execution_count": 91,
     "metadata": {},
     "output_type": "execute_result"
    }
   ],
   "source": [
    "# get a list of samples from the callset\n",
    "\n",
    "samples = callset[chromosome + '/samples'][:]\n",
    "\n",
    "samples"
   ]
  },
  {
   "cell_type": "code",
   "execution_count": 107,
   "metadata": {},
   "outputs": [
    {
     "data": {
      "text/plain": [
       "[0, 11, 15, 16, 17, 18, 19, 20, 21, 1, 2, 3, 4, 5, 6, 7, 8, 9, 10, 12, 13, 14]"
      ]
     },
     "execution_count": 107,
     "metadata": {},
     "output_type": "execute_result"
    }
   ],
   "source": [
    "# find the samples in the callset index\n",
    "\n",
    "samples_list = list(samples)\n",
    "panel['sample']\n",
    "[samples_list.index(s) for s in panel['sample']]\n",
    "\n",
    "\n",
    "#samples_callset_index = \n",
    "#samples_callset_index \n",
    "\n",
    "#loc_samples_afr = panel[panel.pop == 'AFC'].callset_index.values\n",
    "#loc_samples_afr\n"
   ]
  },
  {
   "cell_type": "code",
   "execution_count": 53,
   "metadata": {},
   "outputs": [
    {
     "ename": "SyntaxError",
     "evalue": "invalid syntax (<ipython-input-53-5053dbb1b16a>, line 9)",
     "output_type": "error",
     "traceback": [
      "\u001b[0;36m  File \u001b[0;32m\"<ipython-input-53-5053dbb1b16a>\"\u001b[0;36m, line \u001b[0;32m9\u001b[0m\n\u001b[0;31m    loc_variant_selection = (geno_dp[:] > 7) & (geno_gq[:] > 30)\u001b[0m\n\u001b[0m                        ^\u001b[0m\n\u001b[0;31mSyntaxError\u001b[0m\u001b[0;31m:\u001b[0m invalid syntax\n"
     ]
    }
   ],
   "source": [
    "# we can intersect two filtration criteria\n",
    "\n",
    "geno_dp = callset[chromosome + '/calldata/DP'][:]\n",
    "geno_gq = callset[chromosome + '/calldata/GQ'][:]\n",
    "is_snp = callset[chromosome + '/variants/is_snp'][:]\n",
    "\n",
    "loc_variant_selection = ~is_snp & (geno_dp[:] > 0.05)\n",
    "\n",
    "                  \n",
    "                  \n",
    "#is_snp\n",
    "loc_variant_selection.dtype\n"
   ]
  },
  {
   "cell_type": "code",
   "execution_count": 47,
   "metadata": {},
   "outputs": [
    {
     "ename": "ValueError",
     "evalue": "bad length of condition; expected 387872, found 8533184",
     "output_type": "error",
     "traceback": [
      "\u001b[0;31m---------------------------------------------------------------------------\u001b[0m",
      "\u001b[0;31mValueError\u001b[0m                                Traceback (most recent call last)",
      "\u001b[0;32m<ipython-input-47-00567ea91bf4>\u001b[0m in \u001b[0;36m<module>\u001b[0;34m\u001b[0m\n\u001b[1;32m      6\u001b[0m \u001b[0mgt\u001b[0m\u001b[0;34m\u001b[0m\u001b[0;34m\u001b[0m\u001b[0m\n\u001b[1;32m      7\u001b[0m \u001b[0;34m\u001b[0m\u001b[0m\n\u001b[0;32m----> 8\u001b[0;31m \u001b[0mgt_variant_selection\u001b[0m \u001b[0;34m=\u001b[0m \u001b[0mgt\u001b[0m\u001b[0;34m.\u001b[0m\u001b[0mcompress\u001b[0m\u001b[0;34m(\u001b[0m\u001b[0mloc_variant_selection\u001b[0m\u001b[0;34m,\u001b[0m \u001b[0maxis\u001b[0m \u001b[0;34m=\u001b[0m \u001b[0;36m0\u001b[0m\u001b[0;34m)\u001b[0m\u001b[0;34m\u001b[0m\u001b[0;34m\u001b[0m\u001b[0m\n\u001b[0m\u001b[1;32m      9\u001b[0m \u001b[0;31m#gt_variant_selection\u001b[0m\u001b[0;34m\u001b[0m\u001b[0;34m\u001b[0m\u001b[0;34m\u001b[0m\u001b[0m\n",
      "\u001b[0;32m~/anaconda3/envs/scikit-allel/lib/python3.6/site-packages/allel/model/ndarray.py\u001b[0m in \u001b[0;36mcompress\u001b[0;34m(self, condition, axis, out)\u001b[0m\n\u001b[1;32m   1492\u001b[0m     \u001b[0;32mdef\u001b[0m \u001b[0mcompress\u001b[0m\u001b[0;34m(\u001b[0m\u001b[0mself\u001b[0m\u001b[0;34m,\u001b[0m \u001b[0mcondition\u001b[0m\u001b[0;34m,\u001b[0m \u001b[0maxis\u001b[0m\u001b[0;34m=\u001b[0m\u001b[0;36m0\u001b[0m\u001b[0;34m,\u001b[0m \u001b[0mout\u001b[0m\u001b[0;34m=\u001b[0m\u001b[0;32mNone\u001b[0m\u001b[0;34m)\u001b[0m\u001b[0;34m:\u001b[0m\u001b[0;34m\u001b[0m\u001b[0;34m\u001b[0m\u001b[0m\n\u001b[1;32m   1493\u001b[0m         return compress_genotypes(self, condition=condition, axis=axis, wrap_axes={0, 1},\n\u001b[0;32m-> 1494\u001b[0;31m                                   cls=type(self), compress=np.compress, out=out)\n\u001b[0m\u001b[1;32m   1495\u001b[0m \u001b[0;34m\u001b[0m\u001b[0m\n\u001b[1;32m   1496\u001b[0m     \u001b[0;32mdef\u001b[0m \u001b[0mtake\u001b[0m\u001b[0;34m(\u001b[0m\u001b[0mself\u001b[0m\u001b[0;34m,\u001b[0m \u001b[0mindices\u001b[0m\u001b[0;34m,\u001b[0m \u001b[0maxis\u001b[0m\u001b[0;34m=\u001b[0m\u001b[0;36m0\u001b[0m\u001b[0;34m,\u001b[0m \u001b[0mout\u001b[0m\u001b[0;34m=\u001b[0m\u001b[0;32mNone\u001b[0m\u001b[0;34m,\u001b[0m \u001b[0mmode\u001b[0m\u001b[0;34m=\u001b[0m\u001b[0;34m'raise'\u001b[0m\u001b[0;34m)\u001b[0m\u001b[0;34m:\u001b[0m\u001b[0;34m\u001b[0m\u001b[0;34m\u001b[0m\u001b[0m\n",
      "\u001b[0;32m~/anaconda3/envs/scikit-allel/lib/python3.6/site-packages/allel/model/generic.py\u001b[0m in \u001b[0;36mcompress_genotypes\u001b[0;34m(g, condition, axis, wrap_axes, cls, compress, **kwargs)\u001b[0m\n\u001b[1;32m    175\u001b[0m     \u001b[0mcondition\u001b[0m \u001b[0;34m=\u001b[0m \u001b[0mnp\u001b[0m\u001b[0;34m.\u001b[0m\u001b[0masarray\u001b[0m\u001b[0;34m(\u001b[0m\u001b[0mcondition\u001b[0m\u001b[0;34m,\u001b[0m \u001b[0mdtype\u001b[0m\u001b[0;34m=\u001b[0m\u001b[0mbool\u001b[0m\u001b[0;34m)\u001b[0m\u001b[0;34m\u001b[0m\u001b[0;34m\u001b[0m\u001b[0m\n\u001b[1;32m    176\u001b[0m     \u001b[0mcheck_ndim\u001b[0m\u001b[0;34m(\u001b[0m\u001b[0mcondition\u001b[0m\u001b[0;34m,\u001b[0m \u001b[0;36m1\u001b[0m\u001b[0;34m)\u001b[0m\u001b[0;34m\u001b[0m\u001b[0;34m\u001b[0m\u001b[0m\n\u001b[0;32m--> 177\u001b[0;31m     \u001b[0m_check_condition_length\u001b[0m\u001b[0;34m(\u001b[0m\u001b[0mg\u001b[0m\u001b[0;34m,\u001b[0m \u001b[0mcondition\u001b[0m\u001b[0;34m,\u001b[0m \u001b[0maxis\u001b[0m\u001b[0;34m)\u001b[0m\u001b[0;34m\u001b[0m\u001b[0;34m\u001b[0m\u001b[0m\n\u001b[0m\u001b[1;32m    178\u001b[0m \u001b[0;34m\u001b[0m\u001b[0m\n\u001b[1;32m    179\u001b[0m     \u001b[0;31m# apply compress operation on the underlying values\u001b[0m\u001b[0;34m\u001b[0m\u001b[0;34m\u001b[0m\u001b[0;34m\u001b[0m\u001b[0m\n",
      "\u001b[0;32m~/anaconda3/envs/scikit-allel/lib/python3.6/site-packages/allel/model/generic.py\u001b[0m in \u001b[0;36m_check_condition_length\u001b[0;34m(a, condition, axis)\u001b[0m\n\u001b[1;32m    168\u001b[0m         \u001b[0;32mif\u001b[0m \u001b[0mk\u001b[0m \u001b[0;34m!=\u001b[0m \u001b[0mexpected_length\u001b[0m\u001b[0;34m:\u001b[0m\u001b[0;34m\u001b[0m\u001b[0;34m\u001b[0m\u001b[0m\n\u001b[1;32m    169\u001b[0m             raise ValueError('bad length of condition; expected %s, found %s' %\n\u001b[0;32m--> 170\u001b[0;31m                              (expected_length, k))\n\u001b[0m\u001b[1;32m    171\u001b[0m \u001b[0;34m\u001b[0m\u001b[0m\n\u001b[1;32m    172\u001b[0m \u001b[0;34m\u001b[0m\u001b[0m\n",
      "\u001b[0;31mValueError\u001b[0m: bad length of condition; expected 387872, found 8533184"
     ]
    }
   ],
   "source": [
    "# extract the loci passing filter\n",
    "\n",
    "# load the genotype matrix into memory\n",
    "# weeoo\n",
    "gt = allel.GenotypeArray(gt_zarr)\n",
    "gt\n",
    "\n",
    "gt_variant_selection = gt.compress(loc_variant_selection, axis = 0)\n",
    "#gt_variant_selection\n"
   ]
  },
  {
   "cell_type": "code",
   "execution_count": 48,
   "metadata": {},
   "outputs": [],
   "source": [
    "# DATA VALIDATION\n",
    "\n",
    "# we want to check:\n",
    "# - the vcf is valid (this is done by pyVCF)\n",
    "# - the individuals in the population file exist in the vcf\n",
    "#     - if there are inds missing, generate a warning?\n",
    "# - the vcf contains invariant and variant sites\n",
    "#     - if the last point is not true, refuse to continue\n",
    "#     - alternatively, generate a very explicit warning about the miscalculation of pi/dxy\n",
    "# - the filter expression(s) correctly refer to annotations in the VCF\n",
    "#    - stop if any annotations don't exist in the file\n"
   ]
  },
  {
   "cell_type": "code",
   "execution_count": null,
   "metadata": {},
   "outputs": [],
   "source": [
    "# NUCLEOTIDE DIVERSITY (PI) CALCULATION"
   ]
  },
  {
   "cell_type": "code",
   "execution_count": null,
   "metadata": {},
   "outputs": [],
   "source": [
    "# for a single window, apply general filters to genotypes\n",
    "# depth, GQ, GATK best practices filters, etc.\n",
    "# might also want to consider a missingness filter here\n",
    "# also ignore + remove indels!\n"
   ]
  },
  {
   "cell_type": "code",
   "execution_count": null,
   "metadata": {},
   "outputs": [],
   "source": [
    "# with filtered data, extract genotypes into a matrix (??)\n"
   ]
  },
  {
   "cell_type": "code",
   "execution_count": null,
   "metadata": {},
   "outputs": [],
   "source": [
    "# for a genotype matrix, count number of differences between each row (individual)\n",
    "# missing sites are ignored (but reduce sample size)\n",
    "# use langley formula here\n",
    "\n",
    "# alternatively, we could compute per-site pi here and do the windows after the fact\n",
    "# maybe not a bad idea\n",
    "# important to keep track of numerator and denominator either way \n"
   ]
  },
  {
   "cell_type": "code",
   "execution_count": null,
   "metadata": {},
   "outputs": [],
   "source": [
    "# count missing sites (for dropping windows)\n",
    "# this is kind of implicit if we track the denominators properly\n"
   ]
  },
  {
   "cell_type": "code",
   "execution_count": null,
   "metadata": {},
   "outputs": [],
   "source": [
    "# compute pi over the chosen window size\n"
   ]
  },
  {
   "cell_type": "code",
   "execution_count": null,
   "metadata": {},
   "outputs": [],
   "source": [
    "# generate a flat output file \n",
    "# something like:\n",
    "#\n",
    "# # <META = list of filtration criteria etc>.\n",
    "# chrom pos1 pos2 n_inds n_sites_avg n_snps n_monomorphic pi_est/dxy_est\n",
    "#\n",
    "# the n_sites/n_snps/n_monomorphic will have to be averages across individuals i suppose\n"
   ]
  },
  {
   "cell_type": "code",
   "execution_count": null,
   "metadata": {},
   "outputs": [],
   "source": [
    "# ABSOLUTE DIVERGENCE (DXY) CALCULATION"
   ]
  },
  {
   "cell_type": "code",
   "execution_count": null,
   "metadata": {},
   "outputs": [],
   "source": [
    "# as with pi, apply genotype-level filters first\n"
   ]
  },
  {
   "cell_type": "code",
   "execution_count": null,
   "metadata": {},
   "outputs": [],
   "source": [
    "# read in population file\n"
   ]
  },
  {
   "cell_type": "code",
   "execution_count": null,
   "metadata": {},
   "outputs": [],
   "source": [
    "# create genotype matrix for each population\n",
    "# (or track indexes in a single matrix)\n",
    " "
   ]
  },
  {
   "cell_type": "code",
   "execution_count": null,
   "metadata": {},
   "outputs": [],
   "source": [
    "# count differences between all between-population pairs\n",
    "# can do per-site and sum or do whole windows "
   ]
  },
  {
   "cell_type": "code",
   "execution_count": null,
   "metadata": {},
   "outputs": [],
   "source": [
    "# CLI will look like\n",
    "pi_dxy --pi --dxy\\ # compute both pi within and dxy between\n",
    "--vcf allsites.vcf.gz \\\n",
    "--populations popfile.txt \\\n",
    "--window_size 10000 \\\n",
    "--snp_filter_expression \"DP>=10, GQ>=20, FS>2\" \\\n",
    "--monomorphic_filter_expression \"DP>=10, RGQ>=20\" \\\n",
    "--outfile pi_dxy_out.txt"
   ]
  }
 ],
 "metadata": {
  "kernelspec": {
   "display_name": "Python 3",
   "language": "python",
   "name": "python3"
  },
  "language_info": {
   "codemirror_mode": {
    "name": "ipython",
    "version": 3
   },
   "file_extension": ".py",
   "mimetype": "text/x-python",
   "name": "python",
   "nbconvert_exporter": "python",
   "pygments_lexer": "ipython3",
   "version": "3.6.7"
  }
 },
 "nbformat": 4,
 "nbformat_minor": 2
}
